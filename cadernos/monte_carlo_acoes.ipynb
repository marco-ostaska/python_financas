{
 "cells": [
  {
   "cell_type": "code",
   "execution_count": 290,
   "id": "16afc794",
   "metadata": {},
   "outputs": [],
   "source": [
    "import numpy as np\n",
    "import pandas as pd\n",
    "import matplotlib.pyplot as plt\n",
    "import yfinance as yf\n",
    "from prettytable import PrettyTable\n",
    "from datetime import datetime, timedelta\n",
    "from tqdm import tqdm\n",
    "import statsmodels.api as sm\n",
    "import yfinance as yf\n",
    "import numpy as np"
   ]
  },
  {
   "cell_type": "code",
   "execution_count": 291,
   "id": "bb00f960",
   "metadata": {},
   "outputs": [],
   "source": [
    "ANOS_PASSADOS=5"
   ]
  },
  {
   "cell_type": "code",
   "execution_count": 292,
   "id": "62644202",
   "metadata": {},
   "outputs": [],
   "source": [
    "def parse_bcb(codigo_serie, indice):\n",
    "    # Obtendo a data atual\n",
    "    hoje = datetime.now()\n",
    "    \n",
    "    # Calculando as datas de início e fim\n",
    "    data_inicio = f\"{hoje.day}/{hoje.month}/{hoje.year-ANOS_PASSADOS}\"\n",
    "    data_final = f\"{hoje.day}/{hoje.month}/{hoje.year}\"\n",
    "\n",
    "    # Construindo a URL para a API\n",
    "    URL = f\"https://api.bcb.gov.br/dados/serie/bcdata.sgs.{codigo_serie}/dados?formato=csv&dataInicial={data_inicio}&dataFinal={data_final}\"\n",
    "    #print(URL)\n",
    "    # Lendo o CSV do link fornecido\n",
    "    df = pd.read_csv(URL, sep=\";\")\n",
    "\n",
    "    # Convertendo a coluna \"data\" para o formato datetime\n",
    "    # Aqui, ajustei o formato da data para corresponder ao formato fornecido: %d/%m/%Y\n",
    "    df.rename(columns={\"data\": \"date\"}, inplace=True)\n",
    "    df[\"date\"] = pd.to_datetime(df[\"date\"], format='%d/%m/%Y')\n",
    "    df.set_index('date', inplace=True)\n",
    "    df[\"valor\"] = df[\"valor\"].str.replace(',', '.').astype(float)\n",
    "    df.rename(columns={\"valor\": indice}, inplace=True)\n",
    "    return df\n"
   ]
  },
  {
   "cell_type": "code",
   "execution_count": 293,
   "id": "16b77e16",
   "metadata": {},
   "outputs": [
    {
     "data": {
      "text/plain": [
       "(0.07, 0.04)"
      ]
     },
     "execution_count": 293,
     "metadata": {},
     "output_type": "execute_result"
    }
   ],
   "source": [
    "selic_df=parse_bcb(11, \"Selic\")\n",
    "ipca_df=parse_bcb(10844, \"IPCA\")\n",
    "SELIC=(selic_df.mean().values[0]*22*12)/100\n",
    "SELIC=round(SELIC,2)\n",
    "IPCA=(ipca_df.mean().values[0]*12)/100\n",
    "IPCA=round(IPCA,2)\n",
    "\n",
    "\n",
    "ANO_DIAS_UTEIS=252\n",
    "\n",
    "SELIC,IPCA"
   ]
  },
  {
   "cell_type": "code",
   "execution_count": 294,
   "id": "dd2ce4bf",
   "metadata": {},
   "outputs": [
    {
     "data": {
      "text/plain": [
       "['MGLU3.SA', 'GGBR4.SA', '^BVSP']"
      ]
     },
     "execution_count": 294,
     "metadata": {},
     "output_type": "execute_result"
    }
   ],
   "source": [
    "mercado=[\"^BVSP\",]\n",
    "acoes=[\"MGLU3\",\"GGBR4\"]\n",
    "acoes=[t+ \".SA\" for t in acoes ]\n",
    "tickers=[t.upper() for t in acoes+mercado]\n",
    "tickers"
   ]
  },
  {
   "cell_type": "code",
   "execution_count": 295,
   "id": "0d71228a",
   "metadata": {},
   "outputs": [
    {
     "name": "stdout",
     "output_type": "stream",
     "text": [
      "[*********************100%%**********************]  3 of 3 completed\n"
     ]
    }
   ],
   "source": [
    "hoje = datetime.now()\n",
    "start_date=f\"{hoje.year-ANOS_PASSADOS}-{datetime.now().month}-{datetime.now().day}\"\n",
    "data= yf.download(tickers, start=start_date)['Adj Close']"
   ]
  },
  {
   "cell_type": "code",
   "execution_count": 296,
   "id": "9a93a93f",
   "metadata": {},
   "outputs": [],
   "source": [
    "mercado_df=data[tickers[-1]]\n",
    "acoes_df=data[tickers[:-1]]"
   ]
  },
  {
   "cell_type": "markdown",
   "id": "4374d202",
   "metadata": {},
   "source": [
    "retorno_diario = acoes_df.pct_change()\n",
    "retorno_anual = retorno_diario.mean() * ANO_DIAS_UTEIS\n",
    "cov_diaria = retorno_diario.cov()\n",
    "cov_anual = cov_diaria * ANO_DIAS_UTEIS"
   ]
  },
  {
   "cell_type": "code",
   "execution_count": 297,
   "id": "8eb4de73",
   "metadata": {},
   "outputs": [
    {
     "data": {
      "text/plain": [
       "{'MGLU3.SA': 1.3660708090672546, 'GGBR4.SA': 1.1122895162912738}"
      ]
     },
     "execution_count": 297,
     "metadata": {},
     "output_type": "execute_result"
    }
   ],
   "source": [
    "import statsmodels.api as sm\n",
    "import numpy as np\n",
    "\n",
    "\n",
    "def alpha_beta(acoes_df, mercado_df):\n",
    "    # Calcula os retornos logarítmicos do mercado\n",
    "    retorno_mkt = np.log(mercado_df/mercado_df.shift(1))\n",
    "    retorno_mkt = retorno_mkt.dropna()\n",
    "\n",
    "    alphas = {}\n",
    "    betas = {}\n",
    "\n",
    "    for col in acoes_df.columns:\n",
    "        # Calcula os retornos logarítmicos da ação\n",
    "        retorno_ativo = np.log(acoes_df[col]/acoes_df[col].shift(1))\n",
    "        retorno_ativo = retorno_ativo.dropna()\n",
    "\n",
    "        # Alinha os índices de datas para garantir que estão comparando os mesmos dias\n",
    "        df = pd.concat([retorno_ativo, retorno_mkt], axis=1).dropna()\n",
    "\n",
    "        y = df[col]\n",
    "        X = df[mercado_df.name]\n",
    "        X = sm.add_constant(X)\n",
    "\n",
    "        model = sm.OLS(y, X).fit()\n",
    "\n",
    "        alphas[col] = model.params[0]\n",
    "        betas[col] = model.params[1]\n",
    "\n",
    "    return alphas, betas\n",
    "\n",
    "alphas, betas = alpha_beta(acoes_df, mercado_df)\n",
    "betas\n"
   ]
  },
  {
   "cell_type": "code",
   "execution_count": null,
   "id": "011c8491",
   "metadata": {},
   "outputs": [],
   "source": []
  },
  {
   "cell_type": "code",
   "execution_count": null,
   "id": "79beadb9",
   "metadata": {},
   "outputs": [],
   "source": []
  },
  {
   "cell_type": "code",
   "execution_count": 298,
   "id": "b744bf60",
   "metadata": {},
   "outputs": [],
   "source": [
    "def retorno_esperado(beta,taxa_livre_risco, premio_risco):\n",
    "    re = taxa_livre_risco + beta * (premio_risco-taxa_livre_risco)\n",
    "    return  re\n"
   ]
  },
  {
   "cell_type": "markdown",
   "id": "f5a37cb2",
   "metadata": {},
   "source": [
    "def vol_anual(data,ticker):\n",
    "    daily_returns = np.log(data/data.shift(1))\n",
    "    daily_returns = daily_returns[ticker].dropna()\n",
    "    return daily_returns.std() * (252**0.5)\n",
    "\n",
    "vol_anual(acoes_df, \"MGLU3.SA\")"
   ]
  },
  {
   "cell_type": "markdown",
   "id": "2089c1fd",
   "metadata": {},
   "source": [
    "def sharpe_ratio(data, ticker, retorno_esperado, taxa_livre_risco):\n",
    "    \n",
    "    std = vol_anual(data, ticker) \n",
    "    # Calcula o Sharpe Ratio\n",
    "    sharpe = (retorno_esperado - taxa_livre_risco) / std\n",
    "    \n",
    "    return sharpe\n",
    "sharpe_ratio(acoes_df, \"MGLU3.SA\", re, SELIC)\n"
   ]
  },
  {
   "cell_type": "markdown",
   "id": "1d0a6828",
   "metadata": {},
   "source": [
    "def vol_anual_ajustada(data,ticker):\n",
    "    daily_returns = np.log(data/data.shift(1))\n",
    "    daily_returns = daily_returns[ticker].dropna()\n",
    "    downside = daily_returns[daily_returns < 0]\n",
    "    return downside.std() * (252**0.5)\n",
    "\n",
    "vol_anual_ajustada(acoes_df, \"MGLU3.SA\")"
   ]
  },
  {
   "cell_type": "markdown",
   "id": "128a1949",
   "metadata": {},
   "source": [
    "def sortino_ratio(data, ticker, retorno_esperado, taxa_livre_risco):\n",
    "    std = vol_anual_ajustada(data,ticker)\n",
    "    \n",
    "    # Calcula o Sharpe Ratio\n",
    "    sortino = (retorno_esperado - taxa_livre_risco) / std\n",
    "    \n",
    "    return sortino\n",
    "sortino_ratio(acoes_df, \"MGLU3.SA\", re, SELIC)"
   ]
  },
  {
   "cell_type": "markdown",
   "id": "863b455f",
   "metadata": {},
   "source": [
    "retorno_carteira = []\n",
    "peso_acoes = []\n",
    "volatilidade_carteira = []\n",
    "sharpe_ratio = []\n",
    "volatilidade_carteira_ajustada = []\n",
    "sortino_ratio = []"
   ]
  },
  {
   "cell_type": "code",
   "execution_count": 299,
   "id": "442e83c5",
   "metadata": {},
   "outputs": [],
   "source": [
    "# vamos usar uma simulação aleatória\n",
    "numero_acoes = len(acoes)\n",
    "numero_carteiras = 100000\n",
    "\n",
    "np.random.seed(101)"
   ]
  },
  {
   "cell_type": "code",
   "execution_count": 300,
   "id": "04b86c7f",
   "metadata": {},
   "outputs": [],
   "source": [
    "retorno_diario = acoes_df.pct_change()\n",
    "retorno_anual = retorno_diario.mean() * ANO_DIAS_UTEIS\n",
    "cov_diaria = retorno_diario.cov()\n",
    "cov_anual = cov_diaria * ANO_DIAS_UTEIS\n",
    "\n",
    "retorno_negativo = retorno_diario[retorno_diario<0].dropna()\n",
    "negativo_anual = retorno_negativo.mean() * ANO_DIAS_UTEIS\n",
    "cov_diaria_neg = retorno_negativo.cov()\n",
    "cov_neg_anual = cov_diaria_neg * ANO_DIAS_UTEIS\n"
   ]
  },
  {
   "cell_type": "code",
   "execution_count": 301,
   "id": "2da0d025",
   "metadata": {},
   "outputs": [],
   "source": [
    "retorno_carteira = []\n",
    "peso_acoes = []\n",
    "volatilidade_carteira = []\n",
    "sharpe_ratio = []\n",
    "volatilidade_carteira_ajustada = []\n",
    "sortino_ratio = []\n",
    "\n",
    "for cada_carteira in range(numero_carteiras):\n",
    "    taxa_livre_risco=SELIC\n",
    "    pesos = np.random.random(numero_acoes)\n",
    "    pesos /= np.sum(pesos)\n",
    "    beta_portfolio = np.dot(pesos, list(betas.values()))\n",
    "    retorno_portfolio = retorno_esperado(beta_portfolio,SELIC, IPCA)\n",
    "    volatilidade_portfolio = np.sqrt(np.dot(pesos.T, np.dot(cov_anual, pesos)))\n",
    "    sharpe = (retorno_portfolio - taxa_livre_risco) / volatilidade_portfolio\n",
    "    volatilidade_ajustada = np.sqrt(np.dot(pesos.T, np.dot(cov_neg_anual, pesos)))\n",
    "    sortino = (retorno_portfolio - taxa_livre_risco) / volatilidade_ajustada\n",
    "    \n",
    "    sharpe_ratio.append(sharpe)\n",
    "    sortino_ratio.append(sortino)\n",
    "    volatilidade_carteira.append(volatilidade_portfolio*100)\n",
    "    volatilidade_carteira_ajustada.append(volatilidade_ajustada*100)\n",
    "    peso_acoes.append(pesos*100)\n",
    "    retorno_carteira.append(retorno_portfolio*100)\n",
    "    "
   ]
  },
  {
   "cell_type": "code",
   "execution_count": 302,
   "id": "a84b3ab2",
   "metadata": {},
   "outputs": [],
   "source": [
    "carteira = {'Retorno': retorno_carteira,\n",
    "             'Volatilidade': volatilidade_carteira,\n",
    "             'Sharpe Ratio': sharpe_ratio,\n",
    "           'Vol Ajustada': volatilidade_carteira_ajustada,\n",
    "           'Sortino Ratio': sortino_ratio}\n",
    "\n",
    "for contar,acao in enumerate(acoes):\n",
    "    carteira[acao+' Peso'] = [Peso[contar] for Peso in peso_acoes]\n",
    "\n",
    "# vamos transformar nosso dicionário em um dataframe\n",
    "df = pd.DataFrame(carteira)\n",
    "\n",
    "# vamos nomear as colunas do novo dataframe\n",
    "colunas = ['Retorno', 'Volatilidade', 'Sharpe Ratio', 'Vol Ajustada','Sortino Ratio' ] + [acao+' Peso' for acao in acoes]\n",
    "df = df[colunas]"
   ]
  },
  {
   "cell_type": "code",
   "execution_count": 303,
   "id": "c37689f7",
   "metadata": {},
   "outputs": [],
   "source": [
    "# vamos identificar as variáveis de interesse\n",
    "menor_volatilidade = df['Volatilidade'].min()\n",
    "maior_sharpe = df['Sharpe Ratio'].max()\n",
    "maior_sortino = df['Sortino Ratio'].max()\n",
    "menor_volatilidade_ajustada = df['Vol Ajustada'].min()\n",
    "maior_retorno = df['Retorno'].max()"
   ]
  },
  {
   "cell_type": "code",
   "execution_count": 304,
   "id": "512db0a7",
   "metadata": {},
   "outputs": [],
   "source": [
    "# vamos identificar os dois principais portfolios\n",
    "carteira_sharpe = df.loc[df['Sharpe Ratio'] == maior_sharpe]\n",
    "carteira_min_variancia = df.loc[df['Volatilidade'] == menor_volatilidade]\n",
    "carteira_sortino = df.loc[df['Sortino Ratio'] == maior_sortino]\n",
    "carteira_min_variancia_adj = df.loc[df['Vol Ajustada'] == menor_volatilidade_ajustada]\n",
    "carteira_maiior_retorno= df.loc[df['Retorno'] == maior_retorno]"
   ]
  },
  {
   "cell_type": "code",
   "execution_count": 305,
   "id": "8c2a1641",
   "metadata": {},
   "outputs": [
    {
     "name": "stdout",
     "output_type": "stream",
     "text": [
      "Essa é a carteira de Mínima Variância: \n",
      "                    43451\n",
      "Retorno         3.479767\n",
      "Volatilidade   39.966716\n",
      "Sharpe Ratio   -0.088079\n",
      "Vol Ajustada   33.637861\n",
      "Sortino Ratio  -0.104651\n",
      "MGLU3.SA Peso  24.084299\n",
      "GGBR4.SA Peso  75.915701\n",
      "\n",
      "Essa é a carteira com maior Sharpe Ratio: \n",
      "                    57876\n",
      "Retorno         2.901796\n",
      "Volatilidade   64.243815\n",
      "Sharpe Ratio   -0.063791\n",
      "Vol Ajustada   47.488005\n",
      "Sortino Ratio  -0.086300\n",
      "MGLU3.SA Peso  99.998867\n",
      "GGBR4.SA Peso   0.001133\n",
      "\n",
      "Essa é a carteira com maior Sortino Ratio: \n",
      "                    57876\n",
      "Retorno         2.901796\n",
      "Volatilidade   64.243815\n",
      "Sharpe Ratio   -0.063791\n",
      "Vol Ajustada   47.488005\n",
      "Sortino Ratio  -0.086300\n",
      "MGLU3.SA Peso  99.998867\n",
      "GGBR4.SA Peso   0.001133\n",
      "\n",
      "Essa é a carteira com menor Risco Ajustado: \n",
      "                    36024\n",
      "Retorno         3.453217\n",
      "Volatilidade   40.033368\n",
      "Sharpe Ratio   -0.088596\n",
      "Vol Ajustada   33.599026\n",
      "Sortino Ratio  -0.105562\n",
      "MGLU3.SA Peso  27.571520\n",
      "GGBR4.SA Peso  72.428480\n",
      "\n",
      "Maior Retorno: \n",
      "                    13685\n",
      "Retorno         3.663129\n",
      "Volatilidade   43.035236\n",
      "Sharpe Ratio   -0.077538\n",
      "Vol Ajustada   35.945803\n",
      "Sortino Ratio  -0.092831\n",
      "MGLU3.SA Peso   0.000317\n",
      "GGBR4.SA Peso  99.999683\n"
     ]
    }
   ],
   "source": [
    "print(\"Essa é a carteira de Mínima Variância:\", '\\n', carteira_min_variancia.T)\n",
    "print()\n",
    "print(\"Essa é a carteira com maior Sharpe Ratio:\", '\\n', carteira_sharpe.T)\n",
    "print()\n",
    "print(\"Essa é a carteira com maior Sortino Ratio:\", '\\n', carteira_sortino.T)\n",
    "print()\n",
    "print(\"Essa é a carteira com menor Risco Ajustado:\", '\\n', carteira_min_variancia_adj.T)\n",
    "print()\n",
    "print(\"Maior Retorno:\", '\\n', carteira_maiior_retorno.T)"
   ]
  },
  {
   "cell_type": "code",
   "execution_count": 306,
   "id": "b1caa58d",
   "metadata": {},
   "outputs": [],
   "source": [
    "retorno_diario = acoes_df.pct_change()\n",
    "retorno_anual = retorno_diario.mean() * ANO_DIAS_UTEIS\n",
    "cov_diaria = retorno_diario.cov()\n",
    "cov_anual = cov_diaria * ANO_DIAS_UTEIS\n",
    "\n",
    "retorno_negativo = retorno_diario[retorno_diario<0].dropna()\n",
    "negativo_anual = retorno_negativo.mean() * ANO_DIAS_UTEIS\n",
    "cov_diaria_neg = retorno_negativo.cov()\n",
    "cov_neg_anual = cov_diaria_neg * ANO_DIAS_UTEIS\n",
    "\n",
    "retorno_carteira = []\n",
    "peso_acoes = []\n",
    "volatilidade_carteira = []\n",
    "sharpe_ratio = []\n",
    "volatilidade_carteira_ajustada = []\n",
    "sortino_ratio = []\n",
    "\n",
    "for cada_carteira in range(numero_carteiras):\n",
    "    taxa_livre_risco=SELIC\n",
    "    pesos = np.random.random(numero_acoes)\n",
    "    pesos /= np.sum(pesos)\n",
    "    #beta_portfolio = np.dot(pesos, list(betas.values()))\n",
    "    retorno_portfolio = np.dot(pesos, retorno_anual)\n",
    "    volatilidade_portfolio = np.sqrt(np.dot(pesos.T, np.dot(cov_anual, pesos)))\n",
    "    sharpe = (retorno_portfolio - taxa_livre_risco) / volatilidade_portfolio\n",
    "    volatilidade_ajustada = np.sqrt(np.dot(pesos.T, np.dot(cov_neg_anual, pesos)))\n",
    "    sortino = (retorno_portfolio - taxa_livre_risco) / volatilidade_ajustada\n",
    "    \n",
    "    sharpe_ratio.append(sharpe)\n",
    "    sortino_ratio.append(sortino)\n",
    "    volatilidade_carteira.append(volatilidade_portfolio*100)\n",
    "    volatilidade_carteira_ajustada.append(volatilidade_ajustada*100)\n",
    "    peso_acoes.append(pesos*100)\n",
    "    retorno_carteira.append(retorno_portfolio*100)\n",
    "    "
   ]
  },
  {
   "cell_type": "code",
   "execution_count": 307,
   "id": "225649ba",
   "metadata": {},
   "outputs": [],
   "source": [
    "carteira = {'Retorno': retorno_carteira,\n",
    "             'Volatilidade': volatilidade_carteira,\n",
    "             'Sharpe Ratio': sharpe_ratio,\n",
    "           'Vol Ajustada': volatilidade_carteira_ajustada,\n",
    "           'Sortino Ratio': sortino_ratio}\n",
    "\n",
    "for contar,acao in enumerate(acoes):\n",
    "    carteira[acao+' Peso'] = [Peso[contar] for Peso in peso_acoes]\n",
    "\n",
    "# vamos transformar nosso dicionário em um dataframe\n",
    "df = pd.DataFrame(carteira)\n",
    "\n",
    "# vamos nomear as colunas do novo dataframe\n",
    "colunas = ['Retorno', 'Volatilidade', 'Sharpe Ratio', 'Vol Ajustada','Sortino Ratio' ] + [acao+' Peso' for acao in acoes]\n",
    "df = df[colunas]"
   ]
  },
  {
   "cell_type": "code",
   "execution_count": 308,
   "id": "6e8e4bcb",
   "metadata": {},
   "outputs": [],
   "source": [
    "# vamos identificar as variáveis de interesse\n",
    "menor_volatilidade = df['Volatilidade'].min()\n",
    "maior_sharpe = df['Sharpe Ratio'].max()\n",
    "maior_sortino = df['Sortino Ratio'].max()\n",
    "menor_volatilidade_ajustada = df['Vol Ajustada'].min()\n",
    "maior_retorno = df['Retorno'].max()\n",
    "\n",
    "# vamos identificar os dois principais portfolios\n",
    "carteira_sharpe = df.loc[df['Sharpe Ratio'] == maior_sharpe]\n",
    "carteira_min_variancia = df.loc[df['Volatilidade'] == menor_volatilidade]\n",
    "carteira_sortino = df.loc[df['Sortino Ratio'] == maior_sortino]\n",
    "carteira_min_variancia_adj = df.loc[df['Vol Ajustada'] == menor_volatilidade_ajustada]\n",
    "carteira_maiior_retorno= df.loc[df['Retorno'] == maior_retorno]"
   ]
  },
  {
   "cell_type": "code",
   "execution_count": 309,
   "id": "192cf752",
   "metadata": {},
   "outputs": [
    {
     "name": "stdout",
     "output_type": "stream",
     "text": [
      "Essa é a carteira de Mínima Variância: \n",
      "                    92821\n",
      "Retorno        18.862464\n",
      "Volatilidade   39.966716\n",
      "Sharpe Ratio    0.296809\n",
      "Vol Ajustada   33.637799\n",
      "Sortino Ratio   0.352653\n",
      "MGLU3.SA Peso  24.087091\n",
      "GGBR4.SA Peso  75.912909\n",
      "\n",
      "Essa é a carteira com maior Sharpe Ratio: \n",
      "                    16937\n",
      "Retorno        24.030187\n",
      "Volatilidade   43.035260\n",
      "Sharpe Ratio    0.395726\n",
      "Vol Ajustada   35.945819\n",
      "Sortino Ratio   0.473774\n",
      "MGLU3.SA Peso   0.000220\n",
      "GGBR4.SA Peso  99.999780\n",
      "\n",
      "Essa é a carteira com maior Sortino Ratio: \n",
      "                    16937\n",
      "Retorno        24.030187\n",
      "Volatilidade   43.035260\n",
      "Sharpe Ratio    0.395726\n",
      "Vol Ajustada   35.945819\n",
      "Sortino Ratio   0.473774\n",
      "MGLU3.SA Peso   0.000220\n",
      "GGBR4.SA Peso  99.999780\n",
      "\n",
      "Essa é a carteira com menor Risco Ajustado: \n",
      "                    83226\n",
      "Retorno        18.114903\n",
      "Volatilidade   40.033367\n",
      "Sharpe Ratio    0.277641\n",
      "Vol Ajustada   33.599026\n",
      "Sortino Ratio   0.330810\n",
      "MGLU3.SA Peso  27.571490\n",
      "GGBR4.SA Peso  72.428510\n",
      "\n",
      "Maior Retorno: \n",
      "                    16937\n",
      "Retorno        24.030187\n",
      "Volatilidade   43.035260\n",
      "Sharpe Ratio    0.395726\n",
      "Vol Ajustada   35.945819\n",
      "Sortino Ratio   0.473774\n",
      "MGLU3.SA Peso   0.000220\n",
      "GGBR4.SA Peso  99.999780\n"
     ]
    }
   ],
   "source": [
    "print(\"Essa é a carteira de Mínima Variância:\", '\\n', carteira_min_variancia.T)\n",
    "print()\n",
    "print(\"Essa é a carteira com maior Sharpe Ratio:\", '\\n', carteira_sharpe.T)\n",
    "print()\n",
    "print(\"Essa é a carteira com maior Sortino Ratio:\", '\\n', carteira_sortino.T)\n",
    "print()\n",
    "print(\"Essa é a carteira com menor Risco Ajustado:\", '\\n', carteira_min_variancia_adj.T)\n",
    "print()\n",
    "print(\"Maior Retorno:\", '\\n', carteira_maiior_retorno.T)"
   ]
  },
  {
   "cell_type": "code",
   "execution_count": null,
   "id": "f79a9fb4",
   "metadata": {},
   "outputs": [],
   "source": []
  }
 ],
 "metadata": {
  "kernelspec": {
   "display_name": "Python 3 (ipykernel)",
   "language": "python",
   "name": "python3"
  },
  "language_info": {
   "codemirror_mode": {
    "name": "ipython",
    "version": 3
   },
   "file_extension": ".py",
   "mimetype": "text/x-python",
   "name": "python",
   "nbconvert_exporter": "python",
   "pygments_lexer": "ipython3",
   "version": "3.11.5"
  }
 },
 "nbformat": 4,
 "nbformat_minor": 5
}
