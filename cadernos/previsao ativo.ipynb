{
 "cells": [
  {
   "cell_type": "code",
   "execution_count": 1,
   "id": "e5eccf4d",
   "metadata": {},
   "outputs": [],
   "source": [
    "import numpy as np\n",
    "import pandas as pd\n",
    "import matplotlib.pyplot as plt\n",
    "import yfinance as yf\n",
    "from datetime import datetime"
   ]
  },
  {
   "cell_type": "code",
   "execution_count": 2,
   "id": "dc56e8ea",
   "metadata": {},
   "outputs": [],
   "source": [
    "tickers=[\"MGLU3.SA\", \"GGBR4.SA\"]"
   ]
  },
  {
   "cell_type": "code",
   "execution_count": 3,
   "id": "db35f826",
   "metadata": {},
   "outputs": [],
   "source": [
    "def download_data(ticker, start_date):\n",
    "    data=yf.download(ticker, start=start_date)['Adj Close']"
   ]
  },
  {
   "cell_type": "code",
   "execution_count": 4,
   "id": "31ddcc11",
   "metadata": {},
   "outputs": [
    {
     "ename": "NameError",
     "evalue": "name 'data' is not defined",
     "output_type": "error",
     "traceback": [
      "\u001b[0;31m---------------------------------------------------------------------------\u001b[0m",
      "\u001b[0;31mNameError\u001b[0m                                 Traceback (most recent call last)",
      "Cell \u001b[0;32mIn[4], line 1\u001b[0m\n\u001b[0;32m----> 1\u001b[0m log_returns\u001b[38;5;241m=\u001b[39mnp\u001b[38;5;241m.\u001b[39mlog(\u001b[38;5;241m1\u001b[39m\u001b[38;5;241m+\u001b[39mdata\u001b[38;5;241m.\u001b[39mpct_change(\u001b[38;5;241m1\u001b[39m))\u001b[38;5;241m.\u001b[39mdropna()\n\u001b[1;32m      2\u001b[0m log_returns_mean\u001b[38;5;241m=\u001b[39mlog_returns\u001b[38;5;241m.\u001b[39mmean()\n\u001b[1;32m      3\u001b[0m log_returns_var \u001b[38;5;241m=\u001b[39m log_returns\u001b[38;5;241m.\u001b[39mvar()\n",
      "\u001b[0;31mNameError\u001b[0m: name 'data' is not defined"
     ]
    }
   ],
   "source": [
    "log_returns=np.log(1+data.pct_change(1)).dropna()\n",
    "log_returns_mean=log_returns.mean()\n",
    "log_returns_var = log_returns.var()"
   ]
  },
  {
   "cell_type": "code",
   "execution_count": null,
   "id": "f97215ea",
   "metadata": {},
   "outputs": [],
   "source": [
    "\n",
    "data.plot(figsize=(10,3))"
   ]
  },
  {
   "cell_type": "code",
   "execution_count": null,
   "id": "56c51bd3",
   "metadata": {},
   "outputs": [],
   "source": []
  },
  {
   "cell_type": "code",
   "execution_count": null,
   "id": "b4e1a0fc",
   "metadata": {},
   "outputs": [],
   "source": []
  },
  {
   "cell_type": "code",
   "execution_count": null,
   "id": "690604bc",
   "metadata": {},
   "outputs": [],
   "source": [
    "log_returns_mean"
   ]
  },
  {
   "cell_type": "code",
   "execution_count": null,
   "id": "61fde858",
   "metadata": {},
   "outputs": [],
   "source": [
    "log_returns.plot(figsize=(10,3))"
   ]
  },
  {
   "cell_type": "code",
   "execution_count": null,
   "id": "4d1f99e8",
   "metadata": {},
   "outputs": [],
   "source": [
    "log_returns_var = log_returns.var()\n",
    "log_returns_var"
   ]
  },
  {
   "cell_type": "code",
   "execution_count": null,
   "id": "6483b582",
   "metadata": {},
   "outputs": [],
   "source": [
    "# drift = melhor aproximaxçao das taxas futuras de um ativo\n",
    "# drifit = retorno_log_medio-((1/2)*variancia)\n",
    "drift = log_returns_mean-(0.5*log_returns_var)\n"
   ]
  },
  {
   "cell_type": "code",
   "execution_count": null,
   "id": "56ffaaef",
   "metadata": {},
   "outputs": [],
   "source": [
    "log_returns_std = log_returns.std()\n",
    "log_returns_std"
   ]
  },
  {
   "cell_type": "code",
   "execution_count": null,
   "id": "8d82df5b",
   "metadata": {},
   "outputs": [],
   "source": [
    "from scipy.stats import norm"
   ]
  },
  {
   "cell_type": "code",
   "execution_count": null,
   "id": "401e286c",
   "metadata": {},
   "outputs": [],
   "source": [
    "# procentagem de chance de um evento ocorrer\n",
    "# funçao norm.ppf calcula essa distancia\n",
    "pct_chance_ocorrer=95/100\n",
    "norm.ppf(pct_chance_ocorrer)"
   ]
  },
  {
   "cell_type": "code",
   "execution_count": null,
   "id": "0e84f8b0",
   "metadata": {},
   "outputs": [],
   "source": [
    "#criando cenarios aleatorios de probabilidades para simulaçoes\n",
    "Z = np.random.rand(10,2)"
   ]
  },
  {
   "cell_type": "code",
   "execution_count": null,
   "id": "41bd6f21",
   "metadata": {},
   "outputs": [],
   "source": [
    "intervalo_dias_futuros = 100\n",
    "cenarios = 3"
   ]
  },
  {
   "cell_type": "code",
   "execution_count": null,
   "id": "fa064151",
   "metadata": {},
   "outputs": [],
   "source": [
    "#daily_future_returns = (np.exp(drift.values + log_returns_std.values * \n",
    "#                              norm.ppf(np.random.rand(intervalo_dias_futuros,cenarios))))\n",
    "\n",
    "daily_future_returns = (np.exp(drift + log_returns_std * \n",
    "                             norm.ppf(np.random.rand(intervalo_dias_futuros,cenarios))))"
   ]
  },
  {
   "cell_type": "code",
   "execution_count": null,
   "id": "4084dcdf",
   "metadata": {},
   "outputs": [],
   "source": [
    "daily_future_returns"
   ]
  },
  {
   "cell_type": "code",
   "execution_count": null,
   "id": "e72270d2",
   "metadata": {},
   "outputs": [],
   "source": [
    "price_list=np.zeros_like(daily_future_returns)"
   ]
  },
  {
   "cell_type": "code",
   "execution_count": null,
   "id": "bd9c5033",
   "metadata": {},
   "outputs": [],
   "source": [
    "price_list[0] = data.iloc[-1]"
   ]
  },
  {
   "cell_type": "code",
   "execution_count": null,
   "id": "7e2b816d",
   "metadata": {},
   "outputs": [],
   "source": [
    "for t in range(1,intervalo_dias_futuros):\n",
    "    price_list[t] = price_list[t -1]*daily_future_returns[t]"
   ]
  },
  {
   "cell_type": "code",
   "execution_count": null,
   "id": "e61e1b86",
   "metadata": {},
   "outputs": [],
   "source": [
    "plt.figure(figsize=(10,3))\n",
    "plt.plot(price_list)"
   ]
  },
  {
   "cell_type": "code",
   "execution_count": null,
   "id": "b8ea070a",
   "metadata": {},
   "outputs": [],
   "source": [
    "print(\"Sumario para os proximos\", intervalo_dias_futuros, \"dias\")\n",
    "print()\n",
    "print(ticker[0])\n",
    "print(\"-------------------------------------\")\n",
    "print()\n",
    "print(\"Preço Otimista:\", round(price_list.max(),2))\n",
    "print(\"Preço medio:\", round(price_list.mean(),2))\n",
    "print(\"Preço minimo:\",round(price_list.min(),2))\n"
   ]
  },
  {
   "cell_type": "code",
   "execution_count": null,
   "id": "160df79c",
   "metadata": {},
   "outputs": [],
   "source": []
  }
 ],
 "metadata": {
  "kernelspec": {
   "display_name": "Python 3 (ipykernel)",
   "language": "python",
   "name": "python3"
  },
  "language_info": {
   "codemirror_mode": {
    "name": "ipython",
    "version": 3
   },
   "file_extension": ".py",
   "mimetype": "text/x-python",
   "name": "python",
   "nbconvert_exporter": "python",
   "pygments_lexer": "ipython3",
   "version": "3.11.5"
  }
 },
 "nbformat": 4,
 "nbformat_minor": 5
}
