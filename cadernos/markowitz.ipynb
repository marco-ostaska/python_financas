{
 "cells": [
  {
   "cell_type": "code",
   "execution_count": 54,
   "id": "4685e2dd",
   "metadata": {},
   "outputs": [],
   "source": [
    "import numpy as np\n",
    "import pandas as pd\n",
    "import matplotlib.pyplot as plt\n",
    "import yfinance as yf\n",
    "from prettytable import PrettyTable\n",
    "from datetime import datetime, timedelta\n",
    "from tqdm import tqdm\n",
    "import statsmodels.api as sm\n",
    "import yfinance as yf\n",
    "import numpy as np"
   ]
  },
  {
   "cell_type": "code",
   "execution_count": 55,
   "id": "6381c37c",
   "metadata": {},
   "outputs": [],
   "source": [
    "IPCA=4\n",
    "SELIC=12.75\n",
    "ANO_DIAS_UTEIS=252"
   ]
  },
  {
   "cell_type": "code",
   "execution_count": 65,
   "id": "efd114a7",
   "metadata": {},
   "outputs": [
    {
     "name": "stdout",
     "output_type": "stream",
     "text": [
      "[*********************100%%**********************]  4 of 4 completed\n"
     ]
    },
    {
     "data": {
      "text/html": [
       "<div>\n",
       "<style scoped>\n",
       "    .dataframe tbody tr th:only-of-type {\n",
       "        vertical-align: middle;\n",
       "    }\n",
       "\n",
       "    .dataframe tbody tr th {\n",
       "        vertical-align: top;\n",
       "    }\n",
       "\n",
       "    .dataframe thead th {\n",
       "        text-align: right;\n",
       "    }\n",
       "</style>\n",
       "<table border=\"1\" class=\"dataframe\">\n",
       "  <thead>\n",
       "    <tr style=\"text-align: right;\">\n",
       "      <th></th>\n",
       "      <th>DIVO11.SA</th>\n",
       "      <th>MGLU3.SA</th>\n",
       "      <th>GGBR4.SA</th>\n",
       "    </tr>\n",
       "    <tr>\n",
       "      <th>Date</th>\n",
       "      <th></th>\n",
       "      <th></th>\n",
       "      <th></th>\n",
       "    </tr>\n",
       "  </thead>\n",
       "  <tbody>\n",
       "    <tr>\n",
       "      <th>2018-01-02</th>\n",
       "      <td>41.820000</td>\n",
       "      <td>2.390916</td>\n",
       "      <td>8.705924</td>\n",
       "    </tr>\n",
       "    <tr>\n",
       "      <th>2018-01-03</th>\n",
       "      <td>41.880001</td>\n",
       "      <td>2.360765</td>\n",
       "      <td>8.692501</td>\n",
       "    </tr>\n",
       "    <tr>\n",
       "      <th>2018-01-04</th>\n",
       "      <td>42.310001</td>\n",
       "      <td>2.417448</td>\n",
       "      <td>9.162364</td>\n",
       "    </tr>\n",
       "    <tr>\n",
       "      <th>2018-01-05</th>\n",
       "      <td>42.450001</td>\n",
       "      <td>2.369811</td>\n",
       "      <td>9.048257</td>\n",
       "    </tr>\n",
       "    <tr>\n",
       "      <th>2018-01-08</th>\n",
       "      <td>42.450001</td>\n",
       "      <td>2.370112</td>\n",
       "      <td>9.363735</td>\n",
       "    </tr>\n",
       "    <tr>\n",
       "      <th>...</th>\n",
       "      <td>...</td>\n",
       "      <td>...</td>\n",
       "      <td>...</td>\n",
       "    </tr>\n",
       "    <tr>\n",
       "      <th>2023-10-03</th>\n",
       "      <td>79.000000</td>\n",
       "      <td>1.840000</td>\n",
       "      <td>23.290001</td>\n",
       "    </tr>\n",
       "    <tr>\n",
       "      <th>2023-10-04</th>\n",
       "      <td>78.669998</td>\n",
       "      <td>1.890000</td>\n",
       "      <td>23.000000</td>\n",
       "    </tr>\n",
       "    <tr>\n",
       "      <th>2023-10-05</th>\n",
       "      <td>78.339996</td>\n",
       "      <td>1.810000</td>\n",
       "      <td>22.670000</td>\n",
       "    </tr>\n",
       "    <tr>\n",
       "      <th>2023-10-06</th>\n",
       "      <td>78.709999</td>\n",
       "      <td>1.780000</td>\n",
       "      <td>22.670000</td>\n",
       "    </tr>\n",
       "    <tr>\n",
       "      <th>2023-10-09</th>\n",
       "      <td>79.150002</td>\n",
       "      <td>1.840000</td>\n",
       "      <td>22.450001</td>\n",
       "    </tr>\n",
       "  </tbody>\n",
       "</table>\n",
       "<p>1433 rows × 3 columns</p>\n",
       "</div>"
      ],
      "text/plain": [
       "            DIVO11.SA  MGLU3.SA   GGBR4.SA\n",
       "Date                                      \n",
       "2018-01-02  41.820000  2.390916   8.705924\n",
       "2018-01-03  41.880001  2.360765   8.692501\n",
       "2018-01-04  42.310001  2.417448   9.162364\n",
       "2018-01-05  42.450001  2.369811   9.048257\n",
       "2018-01-08  42.450001  2.370112   9.363735\n",
       "...               ...       ...        ...\n",
       "2023-10-03  79.000000  1.840000  23.290001\n",
       "2023-10-04  78.669998  1.890000  23.000000\n",
       "2023-10-05  78.339996  1.810000  22.670000\n",
       "2023-10-06  78.709999  1.780000  22.670000\n",
       "2023-10-09  79.150002  1.840000  22.450001\n",
       "\n",
       "[1433 rows x 3 columns]"
      ]
     },
     "execution_count": 65,
     "metadata": {},
     "output_type": "execute_result"
    }
   ],
   "source": [
    "acoes=[\"DIVO11.SA\",\"MGLU3.SA\", \"GGBR4.SA\"]\n",
    "mercado=[\"^BVSP\"]\n",
    "\n",
    "tickers= acoes + mercado\n",
    "data = yf.download(tickers, start=\"2018-1-1\")[\"Adj Close\"]\n",
    "data_indice=data[tickers[-1]]\n",
    "data=data[tickers[:-1]]\n",
    "data"
   ]
  },
  {
   "cell_type": "code",
   "execution_count": 66,
   "id": "89348ce6",
   "metadata": {},
   "outputs": [],
   "source": [
    "retorno_diario = data.pct_change()\n",
    "retorno_anual = retorno_diario.mean() * ANO_DIAS_UTEIS\n",
    "cov_diaria = retorno_diario.cov()\n",
    "cov_anual = cov_diaria * ANO_DIAS_UTEIS"
   ]
  },
  {
   "cell_type": "code",
   "execution_count": 67,
   "id": "027e941f",
   "metadata": {},
   "outputs": [],
   "source": [
    "retorno_carteira = []\n",
    "peso_acoes = []\n",
    "volatilidade_carteira = []\n",
    "sharpe_ratio = []"
   ]
  },
  {
   "cell_type": "code",
   "execution_count": 68,
   "id": "83628ccd",
   "metadata": {},
   "outputs": [],
   "source": [
    "# vamos usar uma simulação aleatória\n",
    "numero_acoes = len(ativos)\n",
    "numero_carteiras = 100000\n",
    "\n",
    "np.random.seed(101)"
   ]
  },
  {
   "cell_type": "code",
   "execution_count": 69,
   "id": "673ad486",
   "metadata": {},
   "outputs": [
    {
     "data": {
      "text/plain": [
       "DIVO11.SA    0.138031\n",
       "MGLU3.SA     0.149375\n",
       "GGBR4.SA     0.259512\n",
       "dtype: float64"
      ]
     },
     "execution_count": 69,
     "metadata": {},
     "output_type": "execute_result"
    }
   ],
   "source": [
    "peso = np.random.random(numero_acoes)\n",
    "peso /= np.sum(peso)\n",
    "retorno_anual"
   ]
  },
  {
   "cell_type": "code",
   "execution_count": 70,
   "id": "b352304b",
   "metadata": {},
   "outputs": [],
   "source": [
    "# vamos fazer um for loop para preencher as lista que criamos anteriormente\n",
    "for cada_carteira in range(numero_carteiras):\n",
    "    # vamos dar um peso aleatório para cada ação dentro de cada carteira\n",
    "    peso = np.random.random(numero_acoes)\n",
    "    peso /= np.sum(peso)\n",
    "    # vamos calcular o retorno das carteiras\n",
    "    retorno = np.dot(peso, retorno_anual)\n",
    "    # vamos calcular a volatilidade das carteiras\n",
    "    volatilidade = np.sqrt(np.dot(peso.T, np.dot(cov_anual, peso)))\n",
    "    # vamos calcular o índice de Sharpe de cada carteira\n",
    "    sharpe = retorno / volatilidade\n",
    "    # aqui nós usamos o método apend para incluir cada carteira nas listas criadas anteriormente\n",
    "    sharpe_ratio.append(sharpe)\n",
    "    retorno_carteira.append(retorno)\n",
    "    volatilidade_carteira.append(volatilidade)\n",
    "    peso_acoes.append(peso)"
   ]
  },
  {
   "cell_type": "code",
   "execution_count": 71,
   "id": "e45761d4",
   "metadata": {},
   "outputs": [],
   "source": [
    "carteira = {'Retorno': retorno_carteira,\n",
    "             'Volatilidade': volatilidade_carteira,\n",
    "             'Sharpe Ratio': sharpe_ratio}\n",
    "\n",
    "for contar,acao in enumerate(acoes):\n",
    "    carteira[acao+' Peso'] = [Peso[contar] for Peso in peso_acoes]\n",
    "\n",
    "# vamos transformar nosso dicionário em um dataframe\n",
    "df = pd.DataFrame(carteira)\n",
    "\n",
    "# vamos nomear as colunas do novo dataframe\n",
    "colunas = ['Retorno', 'Volatilidade', 'Sharpe Ratio'] + [acao+' Peso' for acao in acoes]\n",
    "df = df[colunas]"
   ]
  },
  {
   "cell_type": "code",
   "execution_count": 73,
   "id": "4b6877b1",
   "metadata": {},
   "outputs": [],
   "source": [
    "# vamos identificar as variáveis de interesse\n",
    "menor_volatilidade = df['Volatilidade'].min()\n",
    "maior_sharpe = df['Sharpe Ratio'].max()\n",
    "\n",
    "# vamos identificar os dois principais portfolios\n",
    "carteira_sharpe = df.loc[df['Sharpe Ratio'] == maior_sharpe]\n",
    "carteira_min_variancia = df.loc[df['Volatilidade'] == menor_volatilidade]"
   ]
  },
  {
   "cell_type": "code",
   "execution_count": 83,
   "id": "6a59f71a",
   "metadata": {},
   "outputs": [
    {
     "name": "stdout",
     "output_type": "stream",
     "text": [
      "Essa é a carteira de Mínima Variância: \n",
      "                     36749\n",
      "Retorno         13.836244\n",
      "Volatilidade    22.625904\n",
      "Sharpe Ratio    61.152223\n",
      "DIVO11.SA Peso  99.503279\n",
      "MGLU3.SA Peso    0.247080\n",
      "GGBR4.SA Peso    0.249641\n",
      "\n",
      "Essa é a carteira com maior Sharpe Ratio: \n",
      "                     98058\n",
      "Retorno         17.873619\n",
      "Volatilidade    26.097288\n",
      "Sharpe Ratio    68.488416\n",
      "DIVO11.SA Peso  66.429794\n",
      "MGLU3.SA Peso    0.069215\n",
      "GGBR4.SA Peso   33.500991\n"
     ]
    }
   ],
   "source": [
    "print(\"Essa é a carteira de Mínima Variância:\", '\\n', carteira_min_variancia.T*100)\n",
    "print()\n",
    "print(\"Essa é a carteira com maior Sharpe Ratio:\", '\\n', carteira_sharpe.T*100)"
   ]
  },
  {
   "cell_type": "code",
   "execution_count": 82,
   "id": "312fd4df",
   "metadata": {},
   "outputs": [
    {
     "name": "stdout",
     "output_type": "stream",
     "text": [
      "Essa é a carteira de Mínima Variância: \n",
      "                     36749\n",
      "Retorno         13.836244\n",
      "Volatilidade    22.625904\n",
      "Sharpe Ratio    61.152223\n",
      "DIVO11.SA Peso  99.503279\n",
      "MGLU3.SA Peso    0.247080\n",
      "GGBR4.SA Peso    0.249641\n",
      "\n",
      "Essa é a carteira com maior Sharpe Ratio: \n",
      "                     98058\n",
      "Retorno         17.873619\n",
      "Volatilidade    26.097288\n",
      "Sharpe Ratio    68.488416\n",
      "DIVO11.SA Peso  66.429794\n",
      "MGLU3.SA Peso    0.069215\n",
      "GGBR4.SA Peso   33.500991\n"
     ]
    }
   ],
   "source": [
    "print(\"Essa é a carteira de Mínima Variância:\", '\\n', carteira_min_variancia.T*100)\n",
    "print()\n",
    "print(\"Essa é a carteira com maior Sharpe Ratio:\", '\\n', carteira_sharpe.T*100)"
   ]
  },
  {
   "cell_type": "code",
   "execution_count": null,
   "id": "9d701a8a",
   "metadata": {},
   "outputs": [],
   "source": []
  }
 ],
 "metadata": {
  "kernelspec": {
   "display_name": "Python 3 (ipykernel)",
   "language": "python",
   "name": "python3"
  },
  "language_info": {
   "codemirror_mode": {
    "name": "ipython",
    "version": 3
   },
   "file_extension": ".py",
   "mimetype": "text/x-python",
   "name": "python",
   "nbconvert_exporter": "python",
   "pygments_lexer": "ipython3",
   "version": "3.11.5"
  }
 },
 "nbformat": 4,
 "nbformat_minor": 5
}
