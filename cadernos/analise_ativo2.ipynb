{
 "cells": [
  {
   "cell_type": "code",
   "execution_count": 361,
   "id": "0aa7bf16",
   "metadata": {},
   "outputs": [],
   "source": [
    "import numpy as np\n",
    "import pandas as pd\n",
    "import matplotlib.pyplot as plt\n",
    "import yfinance as yf\n",
    "from prettytable import PrettyTable\n",
    "from datetime import datetime, timedelta\n",
    "from tqdm import tqdm\n",
    "import statsmodels.api as sm\n",
    "import yfinance as yf\n",
    "import numpy as np\n"
   ]
  },
  {
   "cell_type": "code",
   "execution_count": 362,
   "id": "001fe37a",
   "metadata": {},
   "outputs": [],
   "source": [
    "IPCA=4\n",
    "SELIC=12.75\n",
    "ANO_DIAS_UTEIS=252"
   ]
  },
  {
   "cell_type": "code",
   "execution_count": 371,
   "id": "bee30bea",
   "metadata": {},
   "outputs": [
    {
     "name": "stdout",
     "output_type": "stream",
     "text": [
      "[*********************100%%**********************]  2 of 2 completed\n"
     ]
    },
    {
     "data": {
      "text/html": [
       "<div>\n",
       "<style scoped>\n",
       "    .dataframe tbody tr th:only-of-type {\n",
       "        vertical-align: middle;\n",
       "    }\n",
       "\n",
       "    .dataframe tbody tr th {\n",
       "        vertical-align: top;\n",
       "    }\n",
       "\n",
       "    .dataframe thead th {\n",
       "        text-align: right;\n",
       "    }\n",
       "</style>\n",
       "<table border=\"1\" class=\"dataframe\">\n",
       "  <thead>\n",
       "    <tr style=\"text-align: right;\">\n",
       "      <th></th>\n",
       "      <th>DIVO11.SA</th>\n",
       "      <th>^BVSP</th>\n",
       "    </tr>\n",
       "    <tr>\n",
       "      <th>Date</th>\n",
       "      <th></th>\n",
       "      <th></th>\n",
       "    </tr>\n",
       "  </thead>\n",
       "  <tbody>\n",
       "    <tr>\n",
       "      <th>2018-01-02</th>\n",
       "      <td>41.820000</td>\n",
       "      <td>77891.000000</td>\n",
       "    </tr>\n",
       "    <tr>\n",
       "      <th>2018-01-03</th>\n",
       "      <td>41.880001</td>\n",
       "      <td>77995.000000</td>\n",
       "    </tr>\n",
       "    <tr>\n",
       "      <th>2018-01-04</th>\n",
       "      <td>42.310001</td>\n",
       "      <td>78647.000000</td>\n",
       "    </tr>\n",
       "    <tr>\n",
       "      <th>2018-01-05</th>\n",
       "      <td>42.450001</td>\n",
       "      <td>79071.000000</td>\n",
       "    </tr>\n",
       "    <tr>\n",
       "      <th>2018-01-08</th>\n",
       "      <td>42.450001</td>\n",
       "      <td>79379.000000</td>\n",
       "    </tr>\n",
       "    <tr>\n",
       "      <th>...</th>\n",
       "      <td>...</td>\n",
       "      <td>...</td>\n",
       "    </tr>\n",
       "    <tr>\n",
       "      <th>2023-10-03</th>\n",
       "      <td>79.000000</td>\n",
       "      <td>113419.000000</td>\n",
       "    </tr>\n",
       "    <tr>\n",
       "      <th>2023-10-04</th>\n",
       "      <td>78.669998</td>\n",
       "      <td>113607.000000</td>\n",
       "    </tr>\n",
       "    <tr>\n",
       "      <th>2023-10-05</th>\n",
       "      <td>78.339996</td>\n",
       "      <td>113284.000000</td>\n",
       "    </tr>\n",
       "    <tr>\n",
       "      <th>2023-10-06</th>\n",
       "      <td>78.709999</td>\n",
       "      <td>114170.000000</td>\n",
       "    </tr>\n",
       "    <tr>\n",
       "      <th>2023-10-09</th>\n",
       "      <td>79.040001</td>\n",
       "      <td>114859.523438</td>\n",
       "    </tr>\n",
       "  </tbody>\n",
       "</table>\n",
       "<p>1432 rows × 2 columns</p>\n",
       "</div>"
      ],
      "text/plain": [
       "            DIVO11.SA          ^BVSP\n",
       "Date                                \n",
       "2018-01-02  41.820000   77891.000000\n",
       "2018-01-03  41.880001   77995.000000\n",
       "2018-01-04  42.310001   78647.000000\n",
       "2018-01-05  42.450001   79071.000000\n",
       "2018-01-08  42.450001   79379.000000\n",
       "...               ...            ...\n",
       "2023-10-03  79.000000  113419.000000\n",
       "2023-10-04  78.669998  113607.000000\n",
       "2023-10-05  78.339996  113284.000000\n",
       "2023-10-06  78.709999  114170.000000\n",
       "2023-10-09  79.040001  114859.523438\n",
       "\n",
       "[1432 rows x 2 columns]"
      ]
     },
     "execution_count": 371,
     "metadata": {},
     "output_type": "execute_result"
    }
   ],
   "source": [
    "tickers=[\"DIVO11.SA\",\"^BVSP\"]\n",
    "data = yf.download(tickers, start=\"2018-1-1\")[\"Adj Close\"]\n",
    "data"
   ]
  },
  {
   "cell_type": "code",
   "execution_count": 364,
   "id": "c4b2f89a",
   "metadata": {},
   "outputs": [
    {
     "data": {
      "text/plain": [
       "(0.7738897740482866, 0.0002468718165196509)"
      ]
     },
     "execution_count": 364,
     "metadata": {},
     "output_type": "execute_result"
    }
   ],
   "source": [
    "# beta_alpha 360\n",
    "def alpha_beta(data, ticker, indice):\n",
    "   \n",
    "    #Calcular os retornos logarítmicos\n",
    "    retorno_ativos = np.log(data/data.shift(1))\n",
    "\n",
    "    # Remover os NaNs\n",
    "    retorno_ativos = retorno_ativos.dropna()\n",
    "\n",
    "    # Definir y (ticker) e X (indice)\n",
    "    y = retorno_ativos[tickers[0]]\n",
    "    X = retorno_ativos[tickers[1]]\n",
    "\n",
    "    # Adicionar uma constante ao X (para o intercepto)\n",
    "    X = sm.add_constant(X)\n",
    "\n",
    "    # Realizar a regressão\n",
    "    model = sm.OLS(y,X).fit()\n",
    "\n",
    "    # Coletar o alpha e beta\n",
    "    alpha = model.params[0]\n",
    "    beta = model.params[1]\n",
    "    \n",
    "    return alpha,beta\n",
    "\n",
    "\n",
    "a,b = alpha_beta(data,tickers[0],tickers[1])\n",
    "b,a"
   ]
  },
  {
   "cell_type": "code",
   "execution_count": null,
   "id": "6029878a",
   "metadata": {},
   "outputs": [],
   "source": []
  },
  {
   "cell_type": "code",
   "execution_count": null,
   "id": "75005c5b",
   "metadata": {},
   "outputs": [],
   "source": []
  },
  {
   "cell_type": "code",
   "execution_count": 370,
   "id": "12cfa635",
   "metadata": {},
   "outputs": [
    {
     "data": {
      "text/plain": [
       "0.0735666135571028"
      ]
     },
     "execution_count": 370,
     "metadata": {},
     "output_type": "execute_result"
    }
   ],
   "source": [
    "def retorno_esperado(beta,taxa_livre_risco, premio_risco):\n",
    "    re = taxa_livre_risco + beta * (premio_risco-taxa_livre_risco)\n",
    "    return  re\n",
    "\n",
    "selic=12/100retorno esperado\n",
    "ipca=(4+2)/100\n",
    "re = retorno_esperado(b,selic,ipca)\n",
    "re"
   ]
  },
  {
   "cell_type": "code",
   "execution_count": 366,
   "id": "fd3ed0be",
   "metadata": {},
   "outputs": [
    {
     "data": {
      "text/plain": [
       "-0.20346213069517832"
      ]
     },
     "execution_count": 366,
     "metadata": {},
     "output_type": "execute_result"
    }
   ],
   "source": [
    "def sharpe_ratio(data, ticker, retorno_esperado, taxa_livre_risco):\n",
    "     \n",
    "    daily_returns = np.log(data/data.shift(1))\n",
    "    daily_returns = daily_returns[ticker].dropna()\n",
    "    std = daily_returns.std() * (252**0.5)\n",
    "\n",
    "    \n",
    "    # Calcula o Sharpe Ratio\n",
    "    sharpe = (retorno_esperado - taxa_livre_risco) / std\n",
    "    \n",
    "    return sharpe\n",
    "\n",
    "sharpe_ratio(data,tickers[0],re,0.12)"
   ]
  },
  {
   "cell_type": "code",
   "execution_count": 367,
   "id": "43ad54b9",
   "metadata": {},
   "outputs": [
    {
     "data": {
      "text/plain": [
       "-0.25671860267445873"
      ]
     },
     "execution_count": 367,
     "metadata": {},
     "output_type": "execute_result"
    }
   ],
   "source": [
    "def sortino_ratio(data, ticker, retorno_esperado, taxa_livre_risco):\n",
    "     \n",
    "    daily_returns = np.log(data/data.shift(1))\n",
    "    daily_returns = daily_returns[ticker].dropna()\n",
    "    downside = daily_returns[daily_returns < 0]\n",
    "    std = downside.std() * (252**0.5)\n",
    "    \n",
    "    # Calcula o Sharpe Ratio\n",
    "    sortino = (retorno_esperado - taxa_livre_risco) / std\n",
    "    \n",
    "    return sortino\n",
    "\n",
    "sortino_ratio(data,tickers[0],re,0.12)"
   ]
  },
  {
   "cell_type": "code",
   "execution_count": null,
   "id": "dd5b0971",
   "metadata": {},
   "outputs": [],
   "source": [
    "\n"
   ]
  },
  {
   "cell_type": "code",
   "execution_count": null,
   "id": "b183a6a5",
   "metadata": {},
   "outputs": [],
   "source": []
  },
  {
   "cell_type": "code",
   "execution_count": null,
   "id": "9bf1218c",
   "metadata": {},
   "outputs": [],
   "source": []
  },
  {
   "cell_type": "code",
   "execution_count": null,
   "id": "b6a5ab35",
   "metadata": {},
   "outputs": [],
   "source": []
  }
 ],
 "metadata": {
  "kernelspec": {
   "display_name": "Python 3 (ipykernel)",
   "language": "python",
   "name": "python3"
  },
  "language_info": {
   "codemirror_mode": {
    "name": "ipython",
    "version": 3
   },
   "file_extension": ".py",
   "mimetype": "text/x-python",
   "name": "python",
   "nbconvert_exporter": "python",
   "pygments_lexer": "ipython3",
   "version": "3.11.5"
  }
 },
 "nbformat": 4,
 "nbformat_minor": 5
}
