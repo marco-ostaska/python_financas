{
 "cells": [
  {
   "cell_type": "code",
   "execution_count": 2,
   "id": "0aa7bf16",
   "metadata": {},
   "outputs": [],
   "source": [
    "import numpy as np\n",
    "import pandas as pd\n",
    "import matplotlib.pyplot as plt\n",
    "import yfinance as yf\n",
    "from prettytable import PrettyTable\n",
    "from datetime import datetime, timedelta\n",
    "from tqdm import tqdm\n",
    "import statsmodels.api as sm\n",
    "import yfinance as yf\n",
    "import numpy as np\n"
   ]
  },
  {
   "cell_type": "code",
   "execution_count": 3,
   "id": "001fe37a",
   "metadata": {},
   "outputs": [],
   "source": [
    "IPCA=4\n",
    "SELIC=12.75\n",
    "ANO_DIAS_UTEIS=252"
   ]
  },
  {
   "cell_type": "code",
   "execution_count": 5,
   "id": "bee30bea",
   "metadata": {},
   "outputs": [
    {
     "name": "stdout",
     "output_type": "stream",
     "text": [
      "[*********************100%%**********************]  2 of 2 completed\n"
     ]
    },
    {
     "data": {
      "text/html": [
       "<div>\n",
       "<style scoped>\n",
       "    .dataframe tbody tr th:only-of-type {\n",
       "        vertical-align: middle;\n",
       "    }\n",
       "\n",
       "    .dataframe tbody tr th {\n",
       "        vertical-align: top;\n",
       "    }\n",
       "\n",
       "    .dataframe thead th {\n",
       "        text-align: right;\n",
       "    }\n",
       "</style>\n",
       "<table border=\"1\" class=\"dataframe\">\n",
       "  <thead>\n",
       "    <tr style=\"text-align: right;\">\n",
       "      <th></th>\n",
       "      <th>HSML11.SA</th>\n",
       "      <th>^BVSP</th>\n",
       "    </tr>\n",
       "    <tr>\n",
       "      <th>Date</th>\n",
       "      <th></th>\n",
       "      <th></th>\n",
       "    </tr>\n",
       "  </thead>\n",
       "  <tbody>\n",
       "    <tr>\n",
       "      <th>2018-01-02</th>\n",
       "      <td>NaN</td>\n",
       "      <td>77891.000000</td>\n",
       "    </tr>\n",
       "    <tr>\n",
       "      <th>2018-01-03</th>\n",
       "      <td>NaN</td>\n",
       "      <td>77995.000000</td>\n",
       "    </tr>\n",
       "    <tr>\n",
       "      <th>2018-01-04</th>\n",
       "      <td>NaN</td>\n",
       "      <td>78647.000000</td>\n",
       "    </tr>\n",
       "    <tr>\n",
       "      <th>2018-01-05</th>\n",
       "      <td>NaN</td>\n",
       "      <td>79071.000000</td>\n",
       "    </tr>\n",
       "    <tr>\n",
       "      <th>2018-01-08</th>\n",
       "      <td>NaN</td>\n",
       "      <td>79379.000000</td>\n",
       "    </tr>\n",
       "    <tr>\n",
       "      <th>...</th>\n",
       "      <td>...</td>\n",
       "      <td>...</td>\n",
       "    </tr>\n",
       "    <tr>\n",
       "      <th>2023-10-03</th>\n",
       "      <td>91.919998</td>\n",
       "      <td>113419.000000</td>\n",
       "    </tr>\n",
       "    <tr>\n",
       "      <th>2023-10-04</th>\n",
       "      <td>91.989998</td>\n",
       "      <td>113607.000000</td>\n",
       "    </tr>\n",
       "    <tr>\n",
       "      <th>2023-10-05</th>\n",
       "      <td>92.550003</td>\n",
       "      <td>113284.000000</td>\n",
       "    </tr>\n",
       "    <tr>\n",
       "      <th>2023-10-06</th>\n",
       "      <td>92.000000</td>\n",
       "      <td>114170.000000</td>\n",
       "    </tr>\n",
       "    <tr>\n",
       "      <th>2023-10-09</th>\n",
       "      <td>91.489998</td>\n",
       "      <td>115156.070312</td>\n",
       "    </tr>\n",
       "  </tbody>\n",
       "</table>\n",
       "<p>1432 rows × 2 columns</p>\n",
       "</div>"
      ],
      "text/plain": [
       "            HSML11.SA          ^BVSP\n",
       "Date                                \n",
       "2018-01-02        NaN   77891.000000\n",
       "2018-01-03        NaN   77995.000000\n",
       "2018-01-04        NaN   78647.000000\n",
       "2018-01-05        NaN   79071.000000\n",
       "2018-01-08        NaN   79379.000000\n",
       "...               ...            ...\n",
       "2023-10-03  91.919998  113419.000000\n",
       "2023-10-04  91.989998  113607.000000\n",
       "2023-10-05  92.550003  113284.000000\n",
       "2023-10-06  92.000000  114170.000000\n",
       "2023-10-09  91.489998  115156.070312\n",
       "\n",
       "[1432 rows x 2 columns]"
      ]
     },
     "execution_count": 5,
     "metadata": {},
     "output_type": "execute_result"
    }
   ],
   "source": [
    "tickers=[\"HSML11.SA\",\"^BVSP\"]\n",
    "data = yf.download(tickers, start=\"2018-1-1\")[\"Adj Close\"]\n",
    "data"
   ]
  },
  {
   "cell_type": "code",
   "execution_count": 10,
   "id": "c4b2f89a",
   "metadata": {},
   "outputs": [
    {
     "data": {
      "text/plain": [
       "(0.2409372083227279, 1.0013563643567923e-05)"
      ]
     },
     "execution_count": 10,
     "metadata": {},
     "output_type": "execute_result"
    }
   ],
   "source": [
    "# beta_alpha 360\n",
    "def alpha_beta(data, ticker, indice):\n",
    "   \n",
    "    #Calcular os retornos logarítmicos\n",
    "    retorno_ativos = np.log(data/data.shift(1))\n",
    "\n",
    "    # Remover os NaNs\n",
    "    retorno_ativos = retorno_ativos.dropna()\n",
    "\n",
    "    # Definir y (ticker) e X (indice)\n",
    "    y = retorno_ativos[tickers[0]]\n",
    "    X = retorno_ativos[tickers[1]]\n",
    "\n",
    "    # Adicionar uma constante ao X (para o intercepto)\n",
    "    X = sm.add_constant(X)\n",
    "\n",
    "    # Realizar a regressão\n",
    "    model = sm.OLS(y,X).fit()\n",
    "\n",
    "    # Coletar o alpha e beta\n",
    "    alpha = model.params[0]\n",
    "    beta = model.params[1]\n",
    "    \n",
    "    return alpha,beta\n",
    "\n",
    "\n",
    "a,b = alpha_beta(data,tickers[0],tickers[1])\n",
    "b,a"
   ]
  },
  {
   "cell_type": "code",
   "execution_count": null,
   "id": "6029878a",
   "metadata": {},
   "outputs": [],
   "source": []
  },
  {
   "cell_type": "code",
   "execution_count": null,
   "id": "75005c5b",
   "metadata": {},
   "outputs": [],
   "source": []
  },
  {
   "cell_type": "code",
   "execution_count": 19,
   "id": "12cfa635",
   "metadata": {},
   "outputs": [
    {
     "data": {
      "text/plain": [
       "0.0"
      ]
     },
     "execution_count": 19,
     "metadata": {},
     "output_type": "execute_result"
    }
   ],
   "source": [
    "def retorno_esperado(beta,taxa_livre_risco, premio_risco):\n",
    "    re = taxa_livre_risco + beta * (premio_risco-taxa_livre_risco)\n",
    "    return  re\n",
    "\n",
    "selic=12/100\n",
    "ipca=(4+2)/100\n",
    "re = retorno_esperado(0.24,0,0)\n",
    "re"
   ]
  },
  {
   "cell_type": "code",
   "execution_count": null,
   "id": "fd3ed0be",
   "metadata": {},
   "outputs": [],
   "source": [
    "def sharpe_ratio(data, ticker, retorno_esperado, taxa_livre_risco):\n",
    "     \n",
    "    daily_returns = np.log(data/data.shift(1))\n",
    "    daily_returns = daily_returns[ticker].dropna()\n",
    "    std = daily_returns.std() * (252**0.5)\n",
    "\n",
    "    \n",
    "    # Calcula o Sharpe Ratio\n",
    "    sharpe = (retorno_esperado - taxa_livre_risco) / std\n",
    "    \n",
    "    return sharpe\n",
    "\n",
    "sharpe_ratio(data,tickers[0],re,0.12)"
   ]
  },
  {
   "cell_type": "code",
   "execution_count": null,
   "id": "43ad54b9",
   "metadata": {},
   "outputs": [],
   "source": [
    "def sortino_ratio(data, ticker, retorno_esperado, taxa_livre_risco):\n",
    "     \n",
    "    daily_returns = np.log(data/data.shift(1))\n",
    "    daily_returns = daily_returns[ticker].dropna()\n",
    "    downside = daily_returns[daily_returns < 0]\n",
    "    std = downside.std() * (252**0.5)\n",
    "    \n",
    "    # Calcula o Sharpe Ratio\n",
    "    sortino = (retorno_esperado - taxa_livre_risco) / std\n",
    "    \n",
    "    return sortino\n",
    "\n",
    "sortino_ratio(data,tickers[0],re,0.12)"
   ]
  },
  {
   "cell_type": "code",
   "execution_count": null,
   "id": "dd5b0971",
   "metadata": {},
   "outputs": [],
   "source": [
    "\n"
   ]
  },
  {
   "cell_type": "code",
   "execution_count": null,
   "id": "b183a6a5",
   "metadata": {},
   "outputs": [],
   "source": []
  },
  {
   "cell_type": "code",
   "execution_count": null,
   "id": "9bf1218c",
   "metadata": {},
   "outputs": [],
   "source": []
  },
  {
   "cell_type": "code",
   "execution_count": null,
   "id": "b6a5ab35",
   "metadata": {},
   "outputs": [],
   "source": []
  }
 ],
 "metadata": {
  "kernelspec": {
   "display_name": "Python 3 (ipykernel)",
   "language": "python",
   "name": "python3"
  },
  "language_info": {
   "codemirror_mode": {
    "name": "ipython",
    "version": 3
   },
   "file_extension": ".py",
   "mimetype": "text/x-python",
   "name": "python",
   "nbconvert_exporter": "python",
   "pygments_lexer": "ipython3",
   "version": "3.11.5"
  }
 },
 "nbformat": 4,
 "nbformat_minor": 5
}
