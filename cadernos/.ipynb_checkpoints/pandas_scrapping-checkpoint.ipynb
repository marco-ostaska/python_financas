{
 "cells": [
  {
   "cell_type": "code",
   "execution_count": 82,
   "id": "406925ee",
   "metadata": {},
   "outputs": [
    {
     "name": "stdout",
     "output_type": "stream",
     "text": [
      "Collecting html5lib\n",
      "  Using cached html5lib-1.1-py2.py3-none-any.whl (112 kB)\n",
      "Requirement already satisfied: six>=1.9 in c:\\programdata\\anaconda3\\lib\\site-packages (from html5lib) (1.16.0)\n",
      "Requirement already satisfied: webencodings in c:\\programdata\\anaconda3\\lib\\site-packages (from html5lib) (0.5.1)\n",
      "Installing collected packages: html5lib\n",
      "Successfully installed html5lib-1.1\n"
     ]
    }
   ],
   "source": [
    "import pandas as pd\n",
    "import requests\n",
    "!pip install html5lib "
   ]
  },
  {
   "cell_type": "code",
   "execution_count": 6,
   "id": "663d3f67",
   "metadata": {},
   "outputs": [],
   "source": [
    "headers={'User-agent': 'Mozilla/5.0 (Windows; U; Windows NT 6.1; rv:2.2) Gecko/20110201',\n",
    "           'Accept': 'text/html, text/plain, text/css, text/sgml, */*;q=0.01',\n",
    "           'Accept-Encoding': 'gzip, deflate',\n",
    "           }\n",
    "\n",
    "\n"
   ]
  },
  {
   "cell_type": "code",
   "execution_count": 8,
   "id": "571c1c52",
   "metadata": {},
   "outputs": [],
   "source": [
    "url=\"https://www.fundamentus.com.br/detalhes.php?papel=GGBR4\""
   ]
  },
  {
   "cell_type": "code",
   "execution_count": 83,
   "id": "697e5e02",
   "metadata": {},
   "outputs": [
    {
     "ename": "ImportError",
     "evalue": "html5lib not found, please install it",
     "output_type": "error",
     "traceback": [
      "\u001b[1;31m---------------------------------------------------------------------------\u001b[0m",
      "\u001b[1;31mImportError\u001b[0m                               Traceback (most recent call last)",
      "Cell \u001b[1;32mIn[83], line 3\u001b[0m\n\u001b[0;32m      1\u001b[0m request\u001b[38;5;241m=\u001b[39mrequests\u001b[38;5;241m.\u001b[39mget(url, headers\u001b[38;5;241m=\u001b[39mheaders,  stream\u001b[38;5;241m=\u001b[39m\u001b[38;5;28;01mTrue\u001b[39;00m)\n\u001b[1;32m----> 3\u001b[0m df \u001b[38;5;241m=\u001b[39m pd\u001b[38;5;241m.\u001b[39mread_html(request\u001b[38;5;241m.\u001b[39mraw\u001b[38;5;241m.\u001b[39mdata)\n",
      "File \u001b[1;32mC:\\ProgramData\\anaconda3\\Lib\\site-packages\\pandas\\util\\_decorators.py:331\u001b[0m, in \u001b[0;36mdeprecate_nonkeyword_arguments.<locals>.decorate.<locals>.wrapper\u001b[1;34m(*args, **kwargs)\u001b[0m\n\u001b[0;32m    325\u001b[0m \u001b[38;5;28;01mif\u001b[39;00m \u001b[38;5;28mlen\u001b[39m(args) \u001b[38;5;241m>\u001b[39m num_allow_args:\n\u001b[0;32m    326\u001b[0m     warnings\u001b[38;5;241m.\u001b[39mwarn(\n\u001b[0;32m    327\u001b[0m         msg\u001b[38;5;241m.\u001b[39mformat(arguments\u001b[38;5;241m=\u001b[39m_format_argument_list(allow_args)),\n\u001b[0;32m    328\u001b[0m         \u001b[38;5;167;01mFutureWarning\u001b[39;00m,\n\u001b[0;32m    329\u001b[0m         stacklevel\u001b[38;5;241m=\u001b[39mfind_stack_level(),\n\u001b[0;32m    330\u001b[0m     )\n\u001b[1;32m--> 331\u001b[0m \u001b[38;5;28;01mreturn\u001b[39;00m func(\u001b[38;5;241m*\u001b[39margs, \u001b[38;5;241m*\u001b[39m\u001b[38;5;241m*\u001b[39mkwargs)\n",
      "File \u001b[1;32mC:\\ProgramData\\anaconda3\\Lib\\site-packages\\pandas\\io\\html.py:1205\u001b[0m, in \u001b[0;36mread_html\u001b[1;34m(io, match, flavor, header, index_col, skiprows, attrs, parse_dates, thousands, encoding, decimal, converters, na_values, keep_default_na, displayed_only, extract_links)\u001b[0m\n\u001b[0;32m   1201\u001b[0m validate_header_arg(header)\n\u001b[0;32m   1203\u001b[0m io \u001b[38;5;241m=\u001b[39m stringify_path(io)\n\u001b[1;32m-> 1205\u001b[0m \u001b[38;5;28;01mreturn\u001b[39;00m _parse(\n\u001b[0;32m   1206\u001b[0m     flavor\u001b[38;5;241m=\u001b[39mflavor,\n\u001b[0;32m   1207\u001b[0m     io\u001b[38;5;241m=\u001b[39mio,\n\u001b[0;32m   1208\u001b[0m     match\u001b[38;5;241m=\u001b[39mmatch,\n\u001b[0;32m   1209\u001b[0m     header\u001b[38;5;241m=\u001b[39mheader,\n\u001b[0;32m   1210\u001b[0m     index_col\u001b[38;5;241m=\u001b[39mindex_col,\n\u001b[0;32m   1211\u001b[0m     skiprows\u001b[38;5;241m=\u001b[39mskiprows,\n\u001b[0;32m   1212\u001b[0m     parse_dates\u001b[38;5;241m=\u001b[39mparse_dates,\n\u001b[0;32m   1213\u001b[0m     thousands\u001b[38;5;241m=\u001b[39mthousands,\n\u001b[0;32m   1214\u001b[0m     attrs\u001b[38;5;241m=\u001b[39mattrs,\n\u001b[0;32m   1215\u001b[0m     encoding\u001b[38;5;241m=\u001b[39mencoding,\n\u001b[0;32m   1216\u001b[0m     decimal\u001b[38;5;241m=\u001b[39mdecimal,\n\u001b[0;32m   1217\u001b[0m     converters\u001b[38;5;241m=\u001b[39mconverters,\n\u001b[0;32m   1218\u001b[0m     na_values\u001b[38;5;241m=\u001b[39mna_values,\n\u001b[0;32m   1219\u001b[0m     keep_default_na\u001b[38;5;241m=\u001b[39mkeep_default_na,\n\u001b[0;32m   1220\u001b[0m     displayed_only\u001b[38;5;241m=\u001b[39mdisplayed_only,\n\u001b[0;32m   1221\u001b[0m     extract_links\u001b[38;5;241m=\u001b[39mextract_links,\n\u001b[0;32m   1222\u001b[0m )\n",
      "File \u001b[1;32mC:\\ProgramData\\anaconda3\\Lib\\site-packages\\pandas\\io\\html.py:982\u001b[0m, in \u001b[0;36m_parse\u001b[1;34m(flavor, io, match, attrs, encoding, displayed_only, extract_links, **kwargs)\u001b[0m\n\u001b[0;32m    980\u001b[0m retained \u001b[38;5;241m=\u001b[39m \u001b[38;5;28;01mNone\u001b[39;00m\n\u001b[0;32m    981\u001b[0m \u001b[38;5;28;01mfor\u001b[39;00m flav \u001b[38;5;129;01min\u001b[39;00m flavor:\n\u001b[1;32m--> 982\u001b[0m     parser \u001b[38;5;241m=\u001b[39m _parser_dispatch(flav)\n\u001b[0;32m    983\u001b[0m     p \u001b[38;5;241m=\u001b[39m parser(io, compiled_match, attrs, encoding, displayed_only, extract_links)\n\u001b[0;32m    985\u001b[0m     \u001b[38;5;28;01mtry\u001b[39;00m:\n",
      "File \u001b[1;32mC:\\ProgramData\\anaconda3\\Lib\\site-packages\\pandas\\io\\html.py:931\u001b[0m, in \u001b[0;36m_parser_dispatch\u001b[1;34m(flavor)\u001b[0m\n\u001b[0;32m    929\u001b[0m \u001b[38;5;28;01mif\u001b[39;00m flavor \u001b[38;5;129;01min\u001b[39;00m (\u001b[38;5;124m\"\u001b[39m\u001b[38;5;124mbs4\u001b[39m\u001b[38;5;124m\"\u001b[39m, \u001b[38;5;124m\"\u001b[39m\u001b[38;5;124mhtml5lib\u001b[39m\u001b[38;5;124m\"\u001b[39m):\n\u001b[0;32m    930\u001b[0m     \u001b[38;5;28;01mif\u001b[39;00m \u001b[38;5;129;01mnot\u001b[39;00m _HAS_HTML5LIB:\n\u001b[1;32m--> 931\u001b[0m         \u001b[38;5;28;01mraise\u001b[39;00m \u001b[38;5;167;01mImportError\u001b[39;00m(\u001b[38;5;124m\"\u001b[39m\u001b[38;5;124mhtml5lib not found, please install it\u001b[39m\u001b[38;5;124m\"\u001b[39m)\n\u001b[0;32m    932\u001b[0m     \u001b[38;5;28;01mif\u001b[39;00m \u001b[38;5;129;01mnot\u001b[39;00m _HAS_BS4:\n\u001b[0;32m    933\u001b[0m         \u001b[38;5;28;01mraise\u001b[39;00m \u001b[38;5;167;01mImportError\u001b[39;00m(\u001b[38;5;124m\"\u001b[39m\u001b[38;5;124mBeautifulSoup4 (bs4) not found, please install it\u001b[39m\u001b[38;5;124m\"\u001b[39m)\n",
      "\u001b[1;31mImportError\u001b[0m: html5lib not found, please install it"
     ]
    }
   ],
   "source": [
    "request=requests.get(url, headers=headers,  stream=True)\n",
    "\n",
    "df = pd.read_html(request.raw.data)"
   ]
  },
  {
   "cell_type": "code",
   "execution_count": 71,
   "id": "b0e7cf87",
   "metadata": {},
   "outputs": [],
   "source": [
    "divida_bruta = float(df[3][3][1].replace('.', '').replace(',', '.'))\n",
    "divida_liquida = float(df[3][3][2].replace('.', '').replace(',', '.'))"
   ]
  },
  {
   "cell_type": "code",
   "execution_count": 72,
   "id": "40a6b39d",
   "metadata": {},
   "outputs": [
    {
     "data": {
      "text/plain": [
       "(10695200000.0, 6510600000.0)"
      ]
     },
     "execution_count": 72,
     "metadata": {},
     "output_type": "execute_result"
    }
   ],
   "source": [
    "divida_bruta,divida_liquida"
   ]
  },
  {
   "cell_type": "code",
   "execution_count": null,
   "id": "3dead709",
   "metadata": {},
   "outputs": [],
   "source": [
    "pl = "
   ]
  },
  {
   "cell_type": "code",
   "execution_count": 80,
   "id": "f5789a7d",
   "metadata": {},
   "outputs": [
    {
     "data": {
      "text/plain": [
       "[           0                        1                2            3\n",
       " 0     ?Papel                    GGBR4         ?Cotação         2259\n",
       " 1      ?Tipo                    PN N1    ?Data últ cot   10/10/2023\n",
       " 2   ?Empresa        GERDAU S.A. PN N1      ?Min 52 sem         2149\n",
       " 3     ?Setor  Siderurgia e Metalurgia      ?Max 52 sem         3058\n",
       " 4  ?Subsetor               Siderurgia  ?Vol $ méd (2m)  223.856.000,\n",
       "                    0               1                        2              3\n",
       " 0  ?Valor de mercado  39.692.100.000  ?Últ balanço processado     30/06/2023\n",
       " 1    ?Valor da firma  46.202.700.000              ?Nro. Ações  1.757.070.000,\n",
       "              0           1                             2  \\\n",
       " 0   Oscilações  Oscilações  Indicadores fundamentalistas   \n",
       " 1          Dia       0,27%                          ?P/L   \n",
       " 2          Mês      -6,38%                         ?P/VP   \n",
       " 3      30 dias     -10,75%                       ?P/EBIT   \n",
       " 4     12 meses       3,95%                          ?PSR   \n",
       " 5         2023     -15,74%                     ?P/Ativos   \n",
       " 6         2022      21,98%                  ?P/Cap. Giro   \n",
       " 7         2021      24,80%              ?P/Ativ Circ Liq   \n",
       " 8         2020      23,86%                   ?Div. Yield   \n",
       " 9         2019      37,65%                  ?EV / EBITDA   \n",
       " 10        2018      16,80%                    ?EV / EBIT   \n",
       " 11         NaN         NaN               ?Cres. Rec (5a)   \n",
       " \n",
       "                                3                             4  \\\n",
       " 0   Indicadores fundamentalistas  Indicadores fundamentalistas   \n",
       " 1                            415                          ?LPA   \n",
       " 2                            081                          ?VPA   \n",
       " 3                            323                  ?Marg. Bruta   \n",
       " 4                            052                   ?Marg. EBIT   \n",
       " 5                            054                ?Marg. Líquida   \n",
       " 6                            198                 ?EBIT / Ativo   \n",
       " 7                            699                         ?ROIC   \n",
       " 8                          14,3%                          ?ROE   \n",
       " 9                            302                ?Liquidez Corr   \n",
       " 10                           376               ?Div Br/ Patrim   \n",
       " 11                         21,4%                  ?Giro Ativos   \n",
       " \n",
       "                                5  \n",
       " 0   Indicadores fundamentalistas  \n",
       " 1                            544  \n",
       " 2                           2787  \n",
       " 3                          19,1%  \n",
       " 4                          16,1%  \n",
       " 5                          12,6%  \n",
       " 6                          16,7%  \n",
       " 7                          19,4%  \n",
       " 8                          19,5%  \n",
       " 9                            294  \n",
       " 10                           022  \n",
       " 11                           103  ,\n",
       "                            0                          1  \\\n",
       " 0  Dados Balanço Patrimonial  Dados Balanço Patrimonial   \n",
       " 1                     ?Ativo             73.795.500.000   \n",
       " 2          ?Disponibilidades              4.184.640.000   \n",
       " 3          ?Ativo Circulante             30.316.100.000   \n",
       " \n",
       "                            2                          3  \n",
       " 0  Dados Balanço Patrimonial  Dados Balanço Patrimonial  \n",
       " 1                ?Dív. Bruta             10.695.200.000  \n",
       " 2              ?Dív. Líquida              6.510.600.000  \n",
       " 3               ?Patrim. Líq             48.976.900.000  ,\n",
       "                                     0                                   1  \\\n",
       " 0  Dados demonstrativos de resultados  Dados demonstrativos de resultados   \n",
       " 1                    Últimos 12 meses                    Últimos 12 meses   \n",
       " 2                    ?Receita Líquida                      76.250.900.000   \n",
       " 3                               ?EBIT                      12.295.500.000   \n",
       " 4                      ?Lucro Líquido                       9.560.300.000   \n",
       " \n",
       "                                     2                                   3  \n",
       " 0  Dados demonstrativos de resultados  Dados demonstrativos de resultados  \n",
       " 1                     Últimos 3 meses                     Últimos 3 meses  \n",
       " 2                    ?Receita Líquida                      18.265.400.000  \n",
       " 3                               ?EBIT                       2.715.990.000  \n",
       " 4                      ?Lucro Líquido                       2.135.910.000  ]"
      ]
     },
     "execution_count": 80,
     "metadata": {},
     "output_type": "execute_result"
    }
   ],
   "source": [
    "df"
   ]
  },
  {
   "cell_type": "code",
   "execution_count": null,
   "id": "4222cfb3",
   "metadata": {},
   "outputs": [],
   "source": []
  }
 ],
 "metadata": {
  "kernelspec": {
   "display_name": "Python 3 (ipykernel)",
   "language": "python",
   "name": "python3"
  },
  "language_info": {
   "codemirror_mode": {
    "name": "ipython",
    "version": 3
   },
   "file_extension": ".py",
   "mimetype": "text/x-python",
   "name": "python",
   "nbconvert_exporter": "python",
   "pygments_lexer": "ipython3",
   "version": "3.11.4"
  }
 },
 "nbformat": 4,
 "nbformat_minor": 5
}
