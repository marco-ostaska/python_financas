{
 "cells": [
  {
   "cell_type": "code",
   "execution_count": 3,
   "id": "16afc794",
   "metadata": {},
   "outputs": [],
   "source": [
    "import numpy as np\n",
    "import pandas as pd\n",
    "import matplotlib.pyplot as plt\n",
    "import yfinance as yf\n",
    "from prettytable import PrettyTable\n",
    "from datetime import datetime, timedelta\n",
    "from tqdm import tqdm\n",
    "import statsmodels.api as sm\n",
    "import yfinance as yf\n",
    "import numpy as np"
   ]
  },
  {
   "cell_type": "code",
   "execution_count": 4,
   "id": "bb00f960",
   "metadata": {},
   "outputs": [],
   "source": [
    "ANOS_PASSADOS=5"
   ]
  },
  {
   "cell_type": "code",
   "execution_count": 5,
   "id": "62644202",
   "metadata": {},
   "outputs": [],
   "source": [
    "def parse_bcb(codigo_serie, indice):\n",
    "    # Obtendo a data atual\n",
    "    hoje = datetime.now()\n",
    "    \n",
    "    # Calculando as datas de início e fim\n",
    "    data_inicio = f\"{hoje.day}/{hoje.month}/{hoje.year-ANOS_PASSADOS}\"\n",
    "    data_final = f\"{hoje.day}/{hoje.month}/{hoje.year}\"\n",
    "\n",
    "    # Construindo a URL para a API\n",
    "    URL = f\"https://api.bcb.gov.br/dados/serie/bcdata.sgs.{codigo_serie}/dados?formato=csv&dataInicial={data_inicio}&dataFinal={data_final}\"\n",
    "    #print(URL)\n",
    "    # Lendo o CSV do link fornecido\n",
    "    df = pd.read_csv(URL, sep=\";\")\n",
    "\n",
    "    # Convertendo a coluna \"data\" para o formato datetime\n",
    "    # Aqui, ajustei o formato da data para corresponder ao formato fornecido: %d/%m/%Y\n",
    "    df.rename(columns={\"data\": \"date\"}, inplace=True)\n",
    "    df[\"date\"] = pd.to_datetime(df[\"date\"], format='%d/%m/%Y')\n",
    "    df.set_index('date', inplace=True)\n",
    "    df[\"valor\"] = df[\"valor\"].str.replace(',', '.').astype(float)\n",
    "    df.rename(columns={\"valor\": indice}, inplace=True)\n",
    "    return df\n"
   ]
  },
  {
   "cell_type": "code",
   "execution_count": 6,
   "id": "16b77e16",
   "metadata": {},
   "outputs": [],
   "source": [
    "selic_df=parse_bcb(11, \"Selic\")\n",
    "ipca_df=parse_bcb(10844, \"IPCA\")\n",
    "SELIC=(selic_df.mean().values[0]*22*12)/100\n",
    "IPCA=(ipca_df.mean().values[0]*12)/100\n",
    "ANO_DIAS_UTEIS=252"
   ]
  },
  {
   "cell_type": "code",
   "execution_count": 7,
   "id": "dd2ce4bf",
   "metadata": {},
   "outputs": [
    {
     "data": {
      "text/plain": [
       "['WEGE3.SA', 'MGLU3.SA', 'VALE3.SA', 'GGBR4.SA', '^BVSP']"
      ]
     },
     "execution_count": 7,
     "metadata": {},
     "output_type": "execute_result"
    }
   ],
   "source": [
    "mercado=[\"^BVSP\",]\n",
    "acoes=[\"WEGE3\", \"MGLU3\", \"VALE3\", \"GGBR4\"]\n",
    "acoes=[t+ \".SA\" for t in acoes ]\n",
    "tickers=[t.upper() for t in acoes+mercado]\n",
    "tickers"
   ]
  },
  {
   "cell_type": "code",
   "execution_count": 8,
   "id": "0d71228a",
   "metadata": {},
   "outputs": [
    {
     "name": "stdout",
     "output_type": "stream",
     "text": [
      "[*********************100%%**********************]  5 of 5 completed\n"
     ]
    }
   ],
   "source": [
    "hoje = datetime.now()\n",
    "start_date=f\"{hoje.year-ANOS_PASSADOS}-{datetime.now().month}-{datetime.now().day}\"\n",
    "data= yf.download(tickers, start_date)['Adj Close']"
   ]
  },
  {
   "cell_type": "code",
   "execution_count": 10,
   "id": "9a93a93f",
   "metadata": {},
   "outputs": [],
   "source": [
    "mercado_df=data[tickers[-1]]\n",
    "acoes_df=data[tickers[:-1]]"
   ]
  },
  {
   "cell_type": "markdown",
   "id": "667e07d0",
   "metadata": {},
   "source": [
    "retorno_diario = acoes_df.pct_change()\n",
    "retorno_anual = retorno_diario.mean() * ANO_DIAS_UTEIS\n",
    "cov_diaria = retorno_diario.cov()\n",
    "cov_anual = cov_diaria * ANO_DIAS_UTEIS"
   ]
  },
  {
   "cell_type": "code",
   "execution_count": 11,
   "id": "8eb4de73",
   "metadata": {},
   "outputs": [],
   "source": [
    "import statsmodels.api as sm\n",
    "import numpy as np\n",
    "\n",
    "#mercado=[\"^BVSP\",]\n",
    "#acoes=[\"WEGE3\", \"MGLU3\", \"VALE3\", \"GGBR4\"]\n",
    "#acoes=[t+ \".SA\" for t in acoes ]\n",
    "#tickers=[t.upper() for t in acoes+mercado]\n",
    "#tickers\n",
    "\n",
    "def alpha_beta(acoes_df, mercado_df):\n",
    "    # Calcula os retornos logarítmicos do mercado\n",
    "    retorno_mkt = np.log(mercado_df/mercado_df.shift(1))\n",
    "    retorno_mkt = retorno_mkt.dropna()\n",
    "\n",
    "    alphas = {}\n",
    "    betas = {}\n",
    "\n",
    "    for col in acoes_df.columns:\n",
    "        # Calcula os retornos logarítmicos da ação\n",
    "        retorno_ativo = np.log(acoes_df[col]/acoes_df[col].shift(1))\n",
    "        retorno_ativo = retorno_ativo.dropna()\n",
    "\n",
    "        # Alinha os índices de datas para garantir que estão comparando os mesmos dias\n",
    "        df = pd.concat([retorno_ativo, retorno_mkt], axis=1).dropna()\n",
    "\n",
    "        y = df[col]\n",
    "        X = df['^BVSP']\n",
    "        X = sm.add_constant(X)\n",
    "\n",
    "        model = sm.OLS(y, X).fit()\n",
    "\n",
    "        alphas[col] = model.params[0]\n",
    "        betas[col] = model.params[1]\n",
    "\n",
    "    return alphas, betas\n",
    "\n",
    "alphas, betas = alpha_beta(acoes_df, mercado_df)\n",
    "\n"
   ]
  },
  {
   "cell_type": "code",
   "execution_count": null,
   "id": "fd290434",
   "metadata": {},
   "outputs": [],
   "source": []
  },
  {
   "cell_type": "code",
   "execution_count": 12,
   "id": "b744bf60",
   "metadata": {},
   "outputs": [],
   "source": [
    "def retorno_esperado(beta,taxa_livre_risco, premio_risco):\n",
    "    re = taxa_livre_risco + beta * (premio_risco-taxa_livre_risco)\n",
    "    return  re"
   ]
  },
  {
   "cell_type": "markdown",
   "id": "daa64ec9",
   "metadata": {},
   "source": [
    "def vol_anual(data,ticker):\n",
    "    daily_returns = np.log(data/data.shift(1))\n",
    "    daily_returns = daily_returns[ticker].dropna()\n",
    "    return daily_returns.std() * (252**0.5)\n",
    "\n",
    "vol_anual(acoes_df, \"MGLU3.SA\")"
   ]
  },
  {
   "cell_type": "markdown",
   "id": "590e99fa",
   "metadata": {},
   "source": [
    "def sharpe_ratio(data, ticker, retorno_esperado, taxa_livre_risco):\n",
    "    \n",
    "    std = vol_anual(data, ticker) \n",
    "    # Calcula o Sharpe Ratio\n",
    "    sharpe = (retorno_esperado - taxa_livre_risco) / std\n",
    "    \n",
    "    return sharpe\n",
    "sharpe_ratio(acoes_df, \"MGLU3.SA\", re, SELIC)\n"
   ]
  },
  {
   "cell_type": "markdown",
   "id": "2d3b7d9e",
   "metadata": {},
   "source": [
    "def vol_anual_ajustada(data,ticker):\n",
    "    daily_returns = np.log(data/data.shift(1))\n",
    "    daily_returns = daily_returns[ticker].dropna()\n",
    "    downside = daily_returns[daily_returns < 0]\n",
    "    return downside.std() * (252**0.5)\n",
    "\n",
    "vol_anual_ajustada(acoes_df, \"MGLU3.SA\")"
   ]
  },
  {
   "cell_type": "markdown",
   "id": "d41085a4",
   "metadata": {},
   "source": [
    "def sortino_ratio(data, ticker, retorno_esperado, taxa_livre_risco):\n",
    "    std = vol_anual_ajustada(data,ticker)\n",
    "    \n",
    "    # Calcula o Sharpe Ratio\n",
    "    sortino = (retorno_esperado - taxa_livre_risco) / std\n",
    "    \n",
    "    return sortino\n",
    "sortino_ratio(acoes_df, \"MGLU3.SA\", re, SELIC)"
   ]
  },
  {
   "cell_type": "markdown",
   "id": "5fb25afe",
   "metadata": {},
   "source": [
    "retorno_carteira = []\n",
    "peso_acoes = []\n",
    "volatilidade_carteira = []\n",
    "sharpe_ratio = []\n",
    "volatilidade_carteira_ajustada = []\n",
    "sortino_ratio = []"
   ]
  },
  {
   "cell_type": "code",
   "execution_count": 13,
   "id": "442e83c5",
   "metadata": {},
   "outputs": [],
   "source": [
    "# vamos usar uma simulação aleatória\n",
    "numero_acoes = len(acoes)\n",
    "numero_carteiras = 100000\n",
    "\n",
    "np.random.seed(101)"
   ]
  },
  {
   "cell_type": "code",
   "execution_count": 15,
   "id": "8e61a5ca",
   "metadata": {},
   "outputs": [
    {
     "data": {
      "text/plain": [
       "(-0.08500255132258261, -0.08271588949611637)"
      ]
     },
     "execution_count": 15,
     "metadata": {},
     "output_type": "execute_result"
    }
   ],
   "source": [
    "retorno_diario = acoes_df.pct_change()\n",
    "retorno_anual = retorno_diario.mean() * ANO_DIAS_UTEIS\n",
    "cov_diaria = retorno_diario.cov()\n",
    "cov_anual = cov_diaria * ANO_DIAS_UTEIS\n",
    "\n",
    "retorno_negativo = retorno_diario[retorno_diario<0].dropna()\n",
    "negativo_anual = retorno_negativo.mean() * ANO_DIAS_UTEIS\n",
    "cov_diaria_neg = retorno_negativo.cov()\n",
    "cov_neg_anual = cov_diaria_neg * ANO_DIAS_UTEIS\n",
    "\n",
    "\n",
    "\n",
    "taxa_livre_risco = SELIC\n",
    "\n",
    "np.random.seed(101)\n",
    "pesos = np.random.random(numero_acoes)\n",
    "pesos /= np.sum(pesos)\n",
    "pesos\n",
    "beta_portfolio = np.dot(pesos, list(betas.values()))\n",
    "retorno_portfolio = retorno_esperado(beta_portfolio,SELIC, IPCA)\n",
    "volatilidade_portfolio = np.sqrt(np.dot(pesos.T, np.dot(cov_anual, pesos)))\n",
    "volatividade_ajustada = np.sqrt(np.dot(pesos.T, np.dot(cov_neg_anual, pesos)))\n",
    "sharpe = (retorno_portfolio - taxa_livre_risco) / volatilidade_portfolio\n",
    "sortino = (retorno_portfolio - taxa_livre_risco) / volatividade_ajustada\n",
    "sortino,sharpe"
   ]
  },
  {
   "cell_type": "code",
   "execution_count": 16,
   "id": "80b5acd9",
   "metadata": {},
   "outputs": [],
   "source": [
    "retorno_carteira = []\n",
    "peso_acoes = []\n",
    "volatilidade_carteira = []\n",
    "sharpe_ratio = []\n",
    "volatilidade_carteira_ajustada = []\n",
    "sortino_ratio = []\n",
    "\n",
    "for cada_carteira in range(numero_carteiras):\n",
    "    pesos = np.random.random(numero_acoes)\n",
    "    pesos /= np.sum(pesos)\n",
    "    beta_portfolio = np.dot(pesos, list(betas.values()))\n",
    "    retorno_portfolio = retorno_esperado(beta_portfolio,SELIC, IPCA)\n",
    "    volatilidade_portfolio = np.sqrt(np.dot(pesos.T, np.dot(cov_anual, pesos)))\n",
    "    sharpe = (retorno_portfolio - taxa_livre_risco) / volatilidade_portfolio\n",
    "    volatilidade_ajustada = np.sqrt(np.dot(pesos.T, np.dot(cov_neg_anual, pesos)))\n",
    "    sortino = (retorno_portfolio - taxa_livre_risco) / volatilidade_ajustada\n",
    "    \n",
    "    sharpe_ratio.append(sharpe)\n",
    "    sortino_ratio.append(sortino)\n",
    "    volatilidade_carteira.append(volatilidade_portfolio)\n",
    "    volatilidade_carteira_ajustada.append(volatilidade_ajustada)\n",
    "    peso_acoes.append(pesos)\n",
    "    retorno_carteira.append(retorno_portfolio)\n",
    "    "
   ]
  },
  {
   "cell_type": "code",
   "execution_count": 17,
   "id": "34bd38c9",
   "metadata": {},
   "outputs": [],
   "source": [
    "carteira = {'Retorno': retorno_carteira,\n",
    "             'Volatilidade': volatilidade_carteira,\n",
    "             'Sharpe Ratio': sharpe_ratio,\n",
    "           'Vol Ajustada': volatilidade_carteira_ajustada,\n",
    "           'Sortino Ratio': sortino_ratio}\n",
    "\n",
    "for contar,acao in enumerate(acoes):\n",
    "    carteira[acao+' Peso'] = [Peso[contar] for Peso in peso_acoes]\n",
    "\n",
    "# vamos transformar nosso dicionário em um dataframe\n",
    "df = pd.DataFrame(carteira)\n",
    "\n",
    "# vamos nomear as colunas do novo dataframe\n",
    "colunas = ['Retorno', 'Volatilidade', 'Sharpe Ratio', 'Vol Ajustada','Sortino Ratio' ] + [acao+' Peso' for acao in acoes]\n",
    "df = df[colunas]"
   ]
  },
  {
   "cell_type": "code",
   "execution_count": 18,
   "id": "c37689f7",
   "metadata": {},
   "outputs": [],
   "source": [
    "# vamos identificar as variáveis de interesse\n",
    "menor_volatilidade = df['Volatilidade'].min()\n",
    "maior_sharpe = df['Sharpe Ratio'].max()\n",
    "maior_sortino = df['Sortino Ratio'].max()\n",
    "menor_volatilidade_ajustada = df['Vol Ajustada'].min()"
   ]
  },
  {
   "cell_type": "code",
   "execution_count": 22,
   "id": "7d0fb8e6",
   "metadata": {},
   "outputs": [],
   "source": [
    "# vamos identificar os dois principais portfolios\n",
    "carteira_sharpe = df.loc[df['Sharpe Ratio'] == maior_sharpe]\n",
    "carteira_min_variancia = df.loc[df['Volatilidade'] == menor_volatilidade]\n",
    "carteira_sortino = df.loc[df['Sortino Ratio'] == maior_sortino]\n",
    "carteira_min_variancia_adj = df.loc[df['Vol Ajustada'] == menor_volatilidade]"
   ]
  },
  {
   "cell_type": "code",
   "execution_count": 35,
   "id": "141ec29f",
   "metadata": {},
   "outputs": [
    {
     "name": "stdout",
     "output_type": "stream",
     "text": [
      "Essa é a carteira de Mínima Variância: \n",
      "                    48617\n",
      "Retorno         4.793274\n",
      "Volatilidade   30.701836\n",
      "Sharpe Ratio   -8.794324\n",
      "Vol Ajustada   32.653919\n",
      "Sortino Ratio  -8.268590\n",
      "WEGE3.SA Peso  49.059980\n",
      "MGLU3.SA Peso   4.702651\n",
      "VALE3.SA Peso  38.928872\n",
      "GGBR4.SA Peso   7.308497\n",
      "\n",
      "Essa é a carteira com maior Sharpe Ratio: \n",
      "                    40598\n",
      "Retorno         3.521194\n",
      "Volatilidade   59.996155\n",
      "Sharpe Ratio   -6.620589\n",
      "Vol Ajustada   48.820845\n",
      "Sortino Ratio  -8.136072\n",
      "WEGE3.SA Peso   6.361819\n",
      "MGLU3.SA Peso  91.628515\n",
      "VALE3.SA Peso   1.916700\n",
      "GGBR4.SA Peso   0.092966\n",
      "\n",
      "Essa é a carteira com maior Sortino Ratio: \n",
      "                    58031\n",
      "Retorno         5.022086\n",
      "Volatilidade   36.196320\n",
      "Sharpe Ratio   -6.827231\n",
      "Vol Ajustada   37.391043\n",
      "Sortino Ratio  -6.609086\n",
      "WEGE3.SA Peso  91.459900\n",
      "MGLU3.SA Peso   1.438693\n",
      "VALE3.SA Peso   2.044749\n",
      "GGBR4.SA Peso   5.056659\n"
     ]
    }
   ],
   "source": [
    "print(\"Essa é a carteira de Mínima Variância:\", '\\n', carteira_min_variancia.T*100)\n",
    "print()\n",
    "print(\"Essa é a carteira com maior Sharpe Ratio:\", '\\n', carteira_sharpe.T*100)\n",
    "print()\n",
    "print(\"Essa é a carteira com maior Sortino Ratio:\", '\\n', carteira_sortino.T*100)\n",
    "print()\n",
    "print(\"Essa é a carteira com maior Sortino Ratio:\", '\\n', carteira_sortino.T*100)"
   ]
  },
  {
   "cell_type": "code",
   "execution_count": null,
   "id": "8b9dd8a1",
   "metadata": {},
   "outputs": [],
   "source": []
  }
 ],
 "metadata": {
  "kernelspec": {
   "display_name": "Python 3 (ipykernel)",
   "language": "python",
   "name": "python3"
  },
  "language_info": {
   "codemirror_mode": {
    "name": "ipython",
    "version": 3
   },
   "file_extension": ".py",
   "mimetype": "text/x-python",
   "name": "python",
   "nbconvert_exporter": "python",
   "pygments_lexer": "ipython3",
   "version": "3.11.5"
  }
 },
 "nbformat": 4,
 "nbformat_minor": 5
}
