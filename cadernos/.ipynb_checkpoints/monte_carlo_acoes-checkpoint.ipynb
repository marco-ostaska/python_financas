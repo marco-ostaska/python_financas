{
 "cells": [
  {
   "cell_type": "code",
   "execution_count": 1,
   "id": "16afc794",
   "metadata": {},
   "outputs": [],
   "source": [
    "import numpy as np\n",
    "import pandas as pd\n",
    "import matplotlib.pyplot as plt\n",
    "import yfinance as yf\n",
    "from prettytable import PrettyTable\n",
    "from datetime import datetime, timedelta\n",
    "from tqdm import tqdm\n",
    "import statsmodels.api as sm\n",
    "import yfinance as yf\n",
    "import numpy as np"
   ]
  },
  {
   "cell_type": "code",
   "execution_count": 2,
   "id": "bb00f960",
   "metadata": {},
   "outputs": [],
   "source": [
    "ANOS_PASSADOS=5"
   ]
  },
  {
   "cell_type": "code",
   "execution_count": 3,
   "id": "62644202",
   "metadata": {},
   "outputs": [],
   "source": [
    "def parse_bcb(codigo_serie, indice):\n",
    "    # Obtendo a data atual\n",
    "    hoje = datetime.now()\n",
    "    \n",
    "    # Calculando as datas de início e fim\n",
    "    data_inicio = f\"{hoje.day}/{hoje.month}/{hoje.year-ANOS_PASSADOS}\"\n",
    "    data_final = f\"{hoje.day}/{hoje.month}/{hoje.year}\"\n",
    "\n",
    "    # Construindo a URL para a API\n",
    "    URL = f\"https://api.bcb.gov.br/dados/serie/bcdata.sgs.{codigo_serie}/dados?formato=csv&dataInicial={data_inicio}&dataFinal={data_final}\"\n",
    "    #print(URL)\n",
    "    # Lendo o CSV do link fornecido\n",
    "    df = pd.read_csv(URL, sep=\";\")\n",
    "\n",
    "    # Convertendo a coluna \"data\" para o formato datetime\n",
    "    # Aqui, ajustei o formato da data para corresponder ao formato fornecido: %d/%m/%Y\n",
    "    df.rename(columns={\"data\": \"date\"}, inplace=True)\n",
    "    df[\"date\"] = pd.to_datetime(df[\"date\"], format='%d/%m/%Y')\n",
    "    df.set_index('date', inplace=True)\n",
    "    df[\"valor\"] = df[\"valor\"].str.replace(',', '.').astype(float)\n",
    "    df.rename(columns={\"valor\": indice}, inplace=True)\n",
    "    return df\n"
   ]
  },
  {
   "cell_type": "code",
   "execution_count": 38,
   "id": "16b77e16",
   "metadata": {},
   "outputs": [],
   "source": [
    "selic_df=parse_bcb(11, \"Selic\")\n",
    "ipca_df=parse_bcb(10844, \"IPCA\")\n",
    "SELIC=(selic_df.mean().values[0]*22*12)/100\n",
    "IPCA=(ipca_df.mean().values[0]*12)/100\n",
    "ANO_DIAS_UTEIS=252"
   ]
  },
  {
   "cell_type": "code",
   "execution_count": 19,
   "id": "dd2ce4bf",
   "metadata": {},
   "outputs": [
    {
     "data": {
      "text/plain": [
       "['WEGE3.SA', 'MGLU3.SA', 'VALE3.SA', 'GGBR4.SA', '^BVSP']"
      ]
     },
     "execution_count": 19,
     "metadata": {},
     "output_type": "execute_result"
    }
   ],
   "source": [
    "mercado=[\"^BVSP\",]\n",
    "acoes=[\"WEGE3\", \"MGLU3\", \"VALE3\", \"GGBR4\"]\n",
    "acoes=[t+ \".SA\" for t in acoes ]\n",
    "tickers=[t.upper() for t in acoes+mercado]\n",
    "tickers"
   ]
  },
  {
   "cell_type": "code",
   "execution_count": 21,
   "id": "0d71228a",
   "metadata": {},
   "outputs": [
    {
     "name": "stdout",
     "output_type": "stream",
     "text": [
      "[*********************100%%**********************]  5 of 5 completed\n"
     ]
    }
   ],
   "source": [
    "hoje = datetime.now()\n",
    "start_date=f\"{hoje.year-ANOS_PASSADOS}-{datetime.now().month}-{datetime.now().day}\"\n",
    "data= yf.download(tickers, start_date)['Adj Close']"
   ]
  },
  {
   "cell_type": "code",
   "execution_count": 27,
   "id": "9a93a93f",
   "metadata": {},
   "outputs": [],
   "source": [
    "mercado_df=data[tickers[-1]]\n",
    "acoes_df=data[tickers[:-1]]"
   ]
  },
  {
   "cell_type": "code",
   "execution_count": 28,
   "id": "0dbae392",
   "metadata": {},
   "outputs": [],
   "source": [
    "retorno_diario = acoes_df.pct_change()\n",
    "retorno_anual = retorno_diario.mean() * ANO_DIAS_UTEIS\n",
    "cov_diaria = retorno_diario.cov()\n",
    "cov_anual = cov_diaria * ANO_DIAS_UTEIS"
   ]
  },
  {
   "cell_type": "code",
   "execution_count": 42,
   "id": "8eb4de73",
   "metadata": {},
   "outputs": [
    {
     "data": {
      "text/plain": [
       "(-0.0010438556519832515, 1.3658696823640757)"
      ]
     },
     "execution_count": 42,
     "metadata": {},
     "output_type": "execute_result"
    }
   ],
   "source": [
    "# beta_alpha 360\n",
    "def alpha_beta(data, ticker, indice):\n",
    "   \n",
    "    #Calcular os retornos logarítmicos\n",
    "    retorno_ativos = np.log(data/data.shift(1))\n",
    "\n",
    "    # Remover os NaNs\n",
    "    retorno_ativos = retorno_ativos.dropna()\n",
    "\n",
    "    # Definir y (ticker) e X (indice)\n",
    "    y = retorno_ativos[ticker]\n",
    "    X = retorno_ativos[indice]\n",
    "\n",
    "    # Adicionar uma constante ao X (para o intercepto)\n",
    "    X = sm.add_constant(X)\n",
    "\n",
    "    # Realizar a regressão\n",
    "    model = sm.OLS(y,X).fit()\n",
    "\n",
    "    # Coletar o alpha e beta\n",
    "    alpha = model.params[0]\n",
    "    beta = model.params[1]\n",
    "    \n",
    "    return alpha,beta\n",
    "\n",
    "\n",
    "a,b = alpha_beta(data,\"MGLU3.SA\",\"^BVSP\")\n",
    "a,b"
   ]
  },
  {
   "cell_type": "code",
   "execution_count": 52,
   "id": "b744bf60",
   "metadata": {},
   "outputs": [],
   "source": [
    "def retorno_esperado(beta,taxa_livre_risco, premio_risco):\n",
    "    re = taxa_livre_risco + beta * (premio_risco-taxa_livre_risco)\n",
    "    return  re\n",
    "re = retorno_esperado(b,SELIC,IPCA)\n"
   ]
  },
  {
   "cell_type": "code",
   "execution_count": 53,
   "id": "e2f095fb",
   "metadata": {},
   "outputs": [
    {
     "data": {
      "text/plain": [
       "0.6455170831868039"
      ]
     },
     "execution_count": 53,
     "metadata": {},
     "output_type": "execute_result"
    }
   ],
   "source": [
    "def vol_anual(data,ticker):\n",
    "    daily_returns = np.log(data/data.shift(1))\n",
    "    daily_returns = daily_returns[ticker].dropna()\n",
    "    return daily_returns.std() * (252**0.5)\n",
    "\n",
    "vol_anual(acoes_df, \"MGLU3.SA\")"
   ]
  },
  {
   "cell_type": "code",
   "execution_count": 54,
   "id": "13d16b57",
   "metadata": {},
   "outputs": [
    {
     "data": {
      "text/plain": [
       "-0.06353163796658058"
      ]
     },
     "execution_count": 54,
     "metadata": {},
     "output_type": "execute_result"
    }
   ],
   "source": [
    "def sharpe_ratio(data, ticker, retorno_esperado, taxa_livre_risco):\n",
    "    \n",
    "    std = vol_anual(data, ticker) \n",
    "    # Calcula o Sharpe Ratio\n",
    "    sharpe = (retorno_esperado - taxa_livre_risco) / std\n",
    "    \n",
    "    return sharpe\n",
    "sharpe_ratio(acoes_df, \"MGLU3.SA\", re, SELIC)\n"
   ]
  },
  {
   "cell_type": "code",
   "execution_count": 55,
   "id": "66d4f6a9",
   "metadata": {},
   "outputs": [
    {
     "data": {
      "text/plain": [
       "0.4736808789565618"
      ]
     },
     "execution_count": 55,
     "metadata": {},
     "output_type": "execute_result"
    }
   ],
   "source": [
    "def vol_anual_ajustada(data,ticker):\n",
    "    daily_returns = np.log(data/data.shift(1))\n",
    "    daily_returns = daily_returns[ticker].dropna()\n",
    "    downside = daily_returns[daily_returns < 0]\n",
    "    return downside.std() * (252**0.5)\n",
    "\n",
    "vol_anual_ajustada(acoes_df, \"MGLU3.SA\")"
   ]
  },
  {
   "cell_type": "code",
   "execution_count": 56,
   "id": "b0fe51d8",
   "metadata": {},
   "outputs": [
    {
     "data": {
      "text/plain": [
       "-0.08657887504474913"
      ]
     },
     "execution_count": 56,
     "metadata": {},
     "output_type": "execute_result"
    }
   ],
   "source": [
    "def sortino_ratio(data, ticker, retorno_esperado, taxa_livre_risco):\n",
    "    std = vol_anual_ajustada(data,ticker)\n",
    "    \n",
    "    # Calcula o Sharpe Ratio\n",
    "    sortino = (retorno_esperado - taxa_livre_risco) / std\n",
    "    \n",
    "    return sortino\n",
    "sortino_ratio(acoes_df, \"MGLU3.SA\", re, SELIC)"
   ]
  },
  {
   "cell_type": "code",
   "execution_count": null,
   "id": "5f8ad1f8",
   "metadata": {},
   "outputs": [],
   "source": [
    "retorno_carteira = []\n",
    "peso_acoes = []\n",
    "volatilidade_carteira = []\n",
    "sharpe_ratio = []\n",
    "volatilidade_carteira_ajustada = []\n",
    "sortino_ratio = []"
   ]
  },
  {
   "cell_type": "code",
   "execution_count": 57,
   "id": "442e83c5",
   "metadata": {},
   "outputs": [],
   "source": [
    "# vamos usar uma simulação aleatória\n",
    "numero_acoes = len(ativos)\n",
    "numero_carteiras = 100000\n",
    "\n",
    "np.random.seed(101)"
   ]
  },
  {
   "cell_type": "code",
   "execution_count": null,
   "id": "c37689f7",
   "metadata": {},
   "outputs": [],
   "source": [
    "# aqui que preciso entender melhor esse montecarlo\n",
    "\n",
    "\n",
    "# vamos fazer um for loop para preencher as lista que criamos anteriormente\n",
    "for cada_carteira in range(numero_carteiras):\n",
    "    # vamos dar um peso aleatório para cada ação dentro de cada carteira\n",
    "    peso = np.random.random(numero_acoes)\n",
    "    peso /= np.sum(peso)\n",
    "    # vamos calcular o retorno das carteiras\n",
    "    retorno = np.dot(peso, retorno_anual)\n",
    "    # vamos calcular a volatilidade das carteiras\n",
    "    volatilidade = np.sqrt(np.dot(peso.T, np.dot(cov_anual, peso)))\n",
    "    # vamos calcular o índice de Sharpe de cada carteira\n",
    "    sharpe = retorno / volatilidade\n",
    "    # aqui nós usamos o método apend para incluir cada carteira nas listas criadas anteriormente\n",
    "    sharpe_ratio.append(sharpe)\n",
    "    retorno_carteira.append(retorno)\n",
    "    volatilidade_carteira.append(volatilidade)\n",
    "    peso_acoes.append(peso)\n",
    "volatilidade"
   ]
  }
 ],
 "metadata": {
  "kernelspec": {
   "display_name": "Python 3 (ipykernel)",
   "language": "python",
   "name": "python3"
  },
  "language_info": {
   "codemirror_mode": {
    "name": "ipython",
    "version": 3
   },
   "file_extension": ".py",
   "mimetype": "text/x-python",
   "name": "python",
   "nbconvert_exporter": "python",
   "pygments_lexer": "ipython3",
   "version": "3.11.5"
  }
 },
 "nbformat": 4,
 "nbformat_minor": 5
}
