{
 "cells": [
  {
   "cell_type": "code",
   "execution_count": 115,
   "id": "2e9df201",
   "metadata": {},
   "outputs": [
    {
     "ename": "ModuleNotFoundError",
     "evalue": "No module named 'fundamentus.fii'",
     "output_type": "error",
     "traceback": [
      "\u001b[0;31m---------------------------------------------------------------------------\u001b[0m",
      "\u001b[0;31mModuleNotFoundError\u001b[0m                       Traceback (most recent call last)",
      "Cell \u001b[0;32mIn[115], line 2\u001b[0m\n\u001b[1;32m      1\u001b[0m \u001b[38;5;28;01mimport\u001b[39;00m \u001b[38;5;21;01mfundamentus\u001b[39;00m\n\u001b[0;32m----> 2\u001b[0m \u001b[38;5;28;01mimport\u001b[39;00m \u001b[38;5;21;01mfundamentus\u001b[39;00m\u001b[38;5;21;01m.\u001b[39;00m\u001b[38;5;21;01mfii\u001b[39;00m\n\u001b[1;32m      3\u001b[0m \u001b[38;5;28;01mimport\u001b[39;00m \u001b[38;5;21;01mpandas\u001b[39;00m \u001b[38;5;28;01mas\u001b[39;00m \u001b[38;5;21;01mpd\u001b[39;00m\n\u001b[1;32m      4\u001b[0m \u001b[38;5;28;01mimport\u001b[39;00m \u001b[38;5;21;01mnumpy\u001b[39;00m \u001b[38;5;28;01mas\u001b[39;00m \u001b[38;5;21;01mnp\u001b[39;00m\n",
      "\u001b[0;31mModuleNotFoundError\u001b[0m: No module named 'fundamentus.fii'"
     ]
    }
   ],
   "source": [
    "import fundamentus\n",
    "import fundamentus.fii\n",
    "import pandas as pd\n",
    "import numpy as np"
   ]
  },
  {
   "cell_type": "code",
   "execution_count": 152,
   "id": "24fbfe5c",
   "metadata": {},
   "outputs": [],
   "source": [
    "df = fundamentus.get_resultado_raw()"
   ]
  },
  {
   "cell_type": "code",
   "execution_count": 260,
   "id": "f1c69e1b",
   "metadata": {},
   "outputs": [
    {
     "data": {
      "text/plain": [
       "Index(['Cotação', 'P/L', 'P/VP', 'PSR', 'Div.Yield', 'P/Ativo', 'P/Cap.Giro',\n",
       "       'P/EBIT', 'P/Ativ Circ.Liq', 'EV/EBIT', 'EV/EBITDA', 'Mrg Ebit',\n",
       "       'Mrg. Líq.', 'Liq. Corr.', 'ROIC', 'ROE', 'Liq.2meses', 'Patrim. Líq',\n",
       "       'Dív.Brut/ Patrim.', 'Cresc. Rec.5a', 'LPA', 'VPA',\n",
       "       'Preço_Intrínseco_Graham', 'Graham', 'Dividendos', 'Bazin'],\n",
       "      dtype='object', name='Multiples')"
      ]
     },
     "execution_count": 260,
     "metadata": {},
     "output_type": "execute_result"
    }
   ],
   "source": [
    "df.columns"
   ]
  },
  {
   "cell_type": "code",
   "execution_count": 171,
   "id": "127ccd7a",
   "metadata": {},
   "outputs": [
    {
     "name": "stderr",
     "output_type": "stream",
     "text": [
      "/home/marcoan/anaconda3/envs/financas/lib/python3.11/site-packages/pandas/core/arraylike.py:396: RuntimeWarning: invalid value encountered in sqrt\n",
      "  result = getattr(ufunc, method)(*inputs, **kwargs)\n"
     ]
    }
   ],
   "source": [
    "df['LPA'] = df['Cotação'] / df['P/L']\n",
    "df['VPA'] = df['Cotação'] / df['P/VP']\n",
    "df['Graham'] = round(np.sqrt(22.5 * df['LPA'] * df['VPA']),2)\n",
    "df['Dividendos'] = round(df[\"Div.Yield\"]*df[\"Cotação\"],2)\n",
    "\n",
    "juros=12\n",
    "df['Bazin'] = round((100/juros)*df['Dividendos'] )"
   ]
  },
  {
   "cell_type": "code",
   "execution_count": 155,
   "id": "2ab40aa6",
   "metadata": {},
   "outputs": [
    {
     "data": {
      "text/plain": [
       "papel\n",
       "AALR3            NaN\n",
       "ABCB3            NaN\n",
       "ABCB4      43.993536\n",
       "ABEV3      10.500492\n",
       "ABYA3            NaN\n",
       "             ...    \n",
       "WLMM4      35.424044\n",
       "WMBY3            NaN\n",
       "WSON33    113.009839\n",
       "YDUQ3       9.026360\n",
       "ZAMP3            NaN\n",
       "Name: Preço_Intrínseco_Graham, Length: 986, dtype: float64"
      ]
     },
     "execution_count": 155,
     "metadata": {},
     "output_type": "execute_result"
    }
   ],
   "source": [
    "df['Preço_Intrínseco_Graham']"
   ]
  },
  {
   "cell_type": "code",
   "execution_count": 261,
   "id": "ce1010c7",
   "metadata": {},
   "outputs": [
    {
     "data": {
      "text/plain": [
       "58.51"
      ]
     },
     "execution_count": 261,
     "metadata": {},
     "output_type": "execute_result"
    }
   ],
   "source": [
    "df.loc[\"GGBR4\"][\"Graham\"]"
   ]
  },
  {
   "cell_type": "code",
   "execution_count": 184,
   "id": "f114a617",
   "metadata": {},
   "outputs": [
    {
     "data": {
      "text/plain": [
       "28.0"
      ]
     },
     "execution_count": 184,
     "metadata": {},
     "output_type": "execute_result"
    }
   ],
   "source": [
    "df.loc[\"TAEE11\"][\"Bazin\"]"
   ]
  },
  {
   "cell_type": "code",
   "execution_count": 186,
   "id": "77704c39",
   "metadata": {},
   "outputs": [],
   "source": [
    "import yfinance as yf"
   ]
  },
  {
   "cell_type": "code",
   "execution_count": 329,
   "id": "9bacbe8c",
   "metadata": {},
   "outputs": [
    {
     "data": {
      "text/plain": [
       "109.45"
      ]
     },
     "execution_count": 329,
     "metadata": {},
     "output_type": "execute_result"
    }
   ],
   "source": [
    "ticker_info = yf.Ticker(\"HGLG11.SA\")\n",
    "dividendos=None\n",
    "if 'fiveYearAvgDividendYield' in ticker_info.info is not None:\n",
    "    dividendos=ticker_info.info[\"currentPrice\"]*(ticker_info.info[\"fiveYearAvgDividendYield\"]/100)\n",
    "elif 'dividendYield' in ticker_info.info is not None:\n",
    "    dividendos=ticker_info.info[\"currentPrice\"]*(ticker_info.info[\"dividendYield\"])\n",
    "\n",
    "bazin=round((100/juros)*dividendos,2) if dividendos is not None else \"N/A\"\n",
    "bazin"
   ]
  },
  {
   "cell_type": "code",
   "execution_count": 332,
   "id": "92422b9f",
   "metadata": {},
   "outputs": [
    {
     "data": {
      "text/plain": [
       "159"
      ]
     },
     "execution_count": 332,
     "metadata": {},
     "output_type": "execute_result"
    }
   ],
   "source": [
    "marketCap=ticker_info.info.get(\"marketCap\", None)\n",
    "sharesOutstanding=ticker_info.info.get(\"sharesOutstanding\", None)\n",
    "currentPrice=ticker_info.info.get(\"currentPrice\", None)\n",
    "VPA=marketCap/sharesOutstanding\n",
    "p_vpa = round(currentPrice / VPA,2)\n",
    "diferenca = VPA - currentPrice\n",
    "preco_justo=round(currentPrice+diferenca)\n",
    "preco_justo"
   ]
  },
  {
   "cell_type": "code",
   "execution_count": 307,
   "id": "8010c834",
   "metadata": {},
   "outputs": [
    {
     "ename": "TypeError",
     "evalue": "unsupported operand type(s) for *: 'float' and 'NoneType'",
     "output_type": "error",
     "traceback": [
      "\u001b[0;31m---------------------------------------------------------------------------\u001b[0m",
      "\u001b[0;31mTypeError\u001b[0m                                 Traceback (most recent call last)",
      "Cell \u001b[0;32mIn[307], line 3\u001b[0m\n\u001b[1;32m      1\u001b[0m VPA \u001b[38;5;241m=\u001b[39m ticker_info\u001b[38;5;241m.\u001b[39minfo\u001b[38;5;241m.\u001b[39mget(\u001b[38;5;124m\"\u001b[39m\u001b[38;5;124mbookValue\u001b[39m\u001b[38;5;124m\"\u001b[39m, \u001b[38;5;28;01mNone\u001b[39;00m)\n\u001b[1;32m      2\u001b[0m LPA \u001b[38;5;241m=\u001b[39m ticker_info\u001b[38;5;241m.\u001b[39minfo\u001b[38;5;241m.\u001b[39mget(\u001b[38;5;124m\"\u001b[39m\u001b[38;5;124mtrailingEps\u001b[39m\u001b[38;5;124m\"\u001b[39m, \u001b[38;5;28;01mNone\u001b[39;00m)\n\u001b[0;32m----> 3\u001b[0m \u001b[38;5;28mround\u001b[39m(np\u001b[38;5;241m.\u001b[39msqrt(\u001b[38;5;241m22.5\u001b[39m \u001b[38;5;241m*\u001b[39m LPA \u001b[38;5;241m*\u001b[39m VPA),\u001b[38;5;241m2\u001b[39m)\n",
      "\u001b[0;31mTypeError\u001b[0m: unsupported operand type(s) for *: 'float' and 'NoneType'"
     ]
    }
   ],
   "source": [
    "\n",
    "VPA = ticker_info.info.get(\"bookValue\", None)\n",
    "LPA = ticker_info.info.get(\"trailingEps\", None)\n",
    "round(np.sqrt(22.5 * LPA * VPA),2)"
   ]
  },
  {
   "cell_type": "code",
   "execution_count": 312,
   "id": "6b3ca535",
   "metadata": {},
   "outputs": [
    {
     "ename": "TypeError",
     "evalue": "unsupported operand type(s) for /: 'NoneType' and 'NoneType'",
     "output_type": "error",
     "traceback": [
      "\u001b[0;31m---------------------------------------------------------------------------\u001b[0m",
      "\u001b[0;31mTypeError\u001b[0m                                 Traceback (most recent call last)",
      "Cell \u001b[0;32mIn[312], line 4\u001b[0m\n\u001b[1;32m      2\u001b[0m sharesOutstanding\u001b[38;5;241m=\u001b[39mticker_info\u001b[38;5;241m.\u001b[39minfo\u001b[38;5;241m.\u001b[39mget(\u001b[38;5;124m\"\u001b[39m\u001b[38;5;124msharesOutstanding\u001b[39m\u001b[38;5;124m\"\u001b[39m, \u001b[38;5;28;01mNone\u001b[39;00m)\n\u001b[1;32m      3\u001b[0m currentPrice\u001b[38;5;241m=\u001b[39mticker_info\u001b[38;5;241m.\u001b[39minfo\u001b[38;5;241m.\u001b[39mget(\u001b[38;5;124m\"\u001b[39m\u001b[38;5;124mcurrentPrice\u001b[39m\u001b[38;5;124m\"\u001b[39m, \u001b[38;5;28;01mNone\u001b[39;00m)\n\u001b[0;32m----> 4\u001b[0m VPA\u001b[38;5;241m=\u001b[39mmarketCap\u001b[38;5;241m/\u001b[39msharesOutstanding\n\u001b[1;32m      5\u001b[0m p_vpa \u001b[38;5;241m=\u001b[39m \u001b[38;5;28mround\u001b[39m(currentPrice \u001b[38;5;241m/\u001b[39m VPA,\u001b[38;5;241m2\u001b[39m)\n\u001b[1;32m      6\u001b[0m diferenca \u001b[38;5;241m=\u001b[39m VPA \u001b[38;5;241m-\u001b[39m currentPrice\n",
      "\u001b[0;31mTypeError\u001b[0m: unsupported operand type(s) for /: 'NoneType' and 'NoneType'"
     ]
    }
   ],
   "source": [
    "marketCap=ticker_info.info.get(\"marketCap\", None)\n",
    "sharesOutstanding=ticker_info.info.get(\"sharesOutstanding\", None)\n",
    "currentPrice=ticker_info.info.get(\"currentPrice\", None)\n",
    "VPA=marketCap/sharesOutstanding\n",
    "p_vpa = round(currentPrice / VPA,2)\n",
    "diferenca = VPA - currentPrice\n",
    "preco_justo=round(currentPrice+diferenca)\n",
    "preco_justo"
   ]
  },
  {
   "cell_type": "code",
   "execution_count": 216,
   "id": "5b879d70",
   "metadata": {},
   "outputs": [
    {
     "data": {
      "text/plain": [
       "0.0593"
      ]
     },
     "execution_count": 216,
     "metadata": {},
     "output_type": "execute_result"
    }
   ],
   "source": [
    "ggbr.info[\"fiveYearAvgDividendYield\"]/100"
   ]
  },
  {
   "cell_type": "code",
   "execution_count": 221,
   "id": "3e51b51a",
   "metadata": {},
   "outputs": [
    {
     "data": {
      "text/plain": [
       "3.1316120000000005"
      ]
     },
     "execution_count": 221,
     "metadata": {},
     "output_type": "execute_result"
    }
   ],
   "source": [
    "dividendos=(ggbr.info[\"bid\"]*(ggbr.info[\"dividendYield\"]/100)"
   ]
  },
  {
   "cell_type": "code",
   "execution_count": 226,
   "id": "14976b88",
   "metadata": {},
   "outputs": [
    {
     "data": {
      "text/plain": [
       "134.3738"
      ]
     },
     "execution_count": 226,
     "metadata": {},
     "output_type": "execute_result"
    }
   ],
   "source": [
    "ggbr.info[\"bid\"]*(ggbr.info[\"fiveYearAvgDividendYield\"]/100)*100"
   ]
  },
  {
   "cell_type": "code",
   "execution_count": null,
   "id": "8d7d6a57",
   "metadata": {},
   "outputs": [],
   "source": [
    "VPA = data.get(\"bookValue\", None)\n",
    "LPA = data.get(\"trailingEps\", None)"
   ]
  }
 ],
 "metadata": {
  "kernelspec": {
   "display_name": "Python 3 (ipykernel)",
   "language": "python",
   "name": "python3"
  },
  "language_info": {
   "codemirror_mode": {
    "name": "ipython",
    "version": 3
   },
   "file_extension": ".py",
   "mimetype": "text/x-python",
   "name": "python",
   "nbconvert_exporter": "python",
   "pygments_lexer": "ipython3",
   "version": "3.11.5"
  }
 },
 "nbformat": 4,
 "nbformat_minor": 5
}
