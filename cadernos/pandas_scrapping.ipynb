{
 "cells": [
  {
   "cell_type": "code",
   "execution_count": 82,
   "id": "a66f4f17",
   "metadata": {},
   "outputs": [
    {
     "name": "stdout",
     "output_type": "stream",
     "text": [
      "Collecting html5lib\n",
      "  Using cached html5lib-1.1-py2.py3-none-any.whl (112 kB)\n",
      "Requirement already satisfied: six>=1.9 in c:\\programdata\\anaconda3\\lib\\site-packages (from html5lib) (1.16.0)\n",
      "Requirement already satisfied: webencodings in c:\\programdata\\anaconda3\\lib\\site-packages (from html5lib) (0.5.1)\n",
      "Installing collected packages: html5lib\n",
      "Successfully installed html5lib-1.1\n"
     ]
    }
   ],
   "source": [
    "import pandas as pd\n",
    "import requests\n",
    "!pip install html5lib "
   ]
  },
  {
   "cell_type": "code",
   "execution_count": 84,
   "id": "dfa391ee",
   "metadata": {},
   "outputs": [],
   "source": [
    "headers={'User-agent': 'Mozilla/5.0 (Windows; U; Windows NT 6.1; rv:2.2) Gecko/20110201',\n",
    "           'Accept': 'text/html, text/plain, text/css, text/sgml, */*;q=0.01',\n",
    "           'Accept-Encoding': 'gzip, deflate',\n",
    "           }\n",
    "\n",
    "\n"
   ]
  },
  {
   "cell_type": "code",
   "execution_count": 165,
   "id": "1240c8e8",
   "metadata": {},
   "outputs": [],
   "source": [
    "url=\"https://www.fundamentus.com.br/detalhes.php?papel=HSML11\""
   ]
  },
  {
   "cell_type": "code",
   "execution_count": 166,
   "id": "7e24bda6",
   "metadata": {},
   "outputs": [],
   "source": [
    "content=requests.get(url, headers=headers)\n",
    "df = pd.read_html(content.text, decimal=\",\", thousands='.')"
   ]
  },
  {
   "cell_type": "code",
   "execution_count": 182,
   "id": "1472d501",
   "metadata": {},
   "outputs": [
    {
     "data": {
      "text/plain": [
       "'95.06'"
      ]
     },
     "execution_count": 182,
     "metadata": {},
     "output_type": "execute_result"
    }
   ],
   "source": [
    "df[2][5][3]"
   ]
  },
  {
   "cell_type": "code",
   "execution_count": 181,
   "id": "9fbac149",
   "metadata": {},
   "outputs": [
    {
     "data": {
      "text/plain": [
       "'8,9%'"
      ]
     },
     "execution_count": 181,
     "metadata": {},
     "output_type": "execute_result"
    }
   ],
   "source": [
    "df[2][3][2]"
   ]
  },
  {
   "cell_type": "code",
   "execution_count": 164,
   "id": "defc740c",
   "metadata": {},
   "outputs": [
    {
     "data": {
      "text/plain": [
       "'4.15'"
      ]
     },
     "execution_count": 164,
     "metadata": {},
     "output_type": "execute_result"
    }
   ],
   "source": [
    "df[2]"
   ]
  },
  {
   "cell_type": "code",
   "execution_count": 120,
   "id": "a1a18ab9",
   "metadata": {},
   "outputs": [
    {
     "data": {
      "text/plain": [
       "19.5"
      ]
     },
     "execution_count": 120,
     "metadata": {},
     "output_type": "execute_result"
    }
   ],
   "source": [
    "def fix_pct(text):\n",
    "    return text.replace(\"%\",\"\").replace(\",\",\".\")\n",
    "\n",
    "float(fix_pct(df[2][5][8]))\n"
   ]
  },
  {
   "cell_type": "code",
   "execution_count": 127,
   "id": "38b3e9fd",
   "metadata": {},
   "outputs": [
    {
     "data": {
      "text/plain": [
       "'22.59'"
      ]
     },
     "execution_count": 127,
     "metadata": {},
     "output_type": "execute_result"
    }
   ],
   "source": [
    "df[0][3][0]"
   ]
  },
  {
   "cell_type": "code",
   "execution_count": null,
   "id": "bae15ecd",
   "metadata": {},
   "outputs": [],
   "source": []
  }
 ],
 "metadata": {
  "kernelspec": {
   "display_name": "Python 3 (ipykernel)",
   "language": "python",
   "name": "python3"
  },
  "language_info": {
   "codemirror_mode": {
    "name": "ipython",
    "version": 3
   },
   "file_extension": ".py",
   "mimetype": "text/x-python",
   "name": "python",
   "nbconvert_exporter": "python",
   "pygments_lexer": "ipython3",
   "version": "3.11.4"
  }
 },
 "nbformat": 4,
 "nbformat_minor": 5
}
