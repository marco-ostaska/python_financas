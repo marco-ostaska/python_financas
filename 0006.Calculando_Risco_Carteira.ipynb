{
 "cells": [
  {
   "cell_type": "code",
   "execution_count": 160,
   "id": "4d25f7f3",
   "metadata": {},
   "outputs": [],
   "source": [
    "import numpy as np\n",
    "import matplotlib.pyplot as plt\n",
    "import yfinance as yf\n"
   ]
  },
  {
   "cell_type": "code",
   "execution_count": 161,
   "id": "5e2374a2",
   "metadata": {},
   "outputs": [
    {
     "name": "stdout",
     "output_type": "stream",
     "text": [
      "[*********************100%***********************]  5 of 5 completed\n"
     ]
    },
    {
     "data": {
      "text/html": [
       "<div>\n",
       "<style scoped>\n",
       "    .dataframe tbody tr th:only-of-type {\n",
       "        vertical-align: middle;\n",
       "    }\n",
       "\n",
       "    .dataframe tbody tr th {\n",
       "        vertical-align: top;\n",
       "    }\n",
       "\n",
       "    .dataframe thead th {\n",
       "        text-align: right;\n",
       "    }\n",
       "</style>\n",
       "<table border=\"1\" class=\"dataframe\">\n",
       "  <thead>\n",
       "    <tr style=\"text-align: right;\">\n",
       "      <th></th>\n",
       "      <th>BBDC4.SA</th>\n",
       "      <th>BRAP4.SA</th>\n",
       "      <th>CAML3.SA</th>\n",
       "      <th>CMIG4.SA</th>\n",
       "      <th>GGBR4.SA</th>\n",
       "    </tr>\n",
       "    <tr>\n",
       "      <th>Date</th>\n",
       "      <th></th>\n",
       "      <th></th>\n",
       "      <th></th>\n",
       "      <th></th>\n",
       "      <th></th>\n",
       "    </tr>\n",
       "  </thead>\n",
       "  <tbody>\n",
       "    <tr>\n",
       "      <th>2023-09-25</th>\n",
       "      <td>14.11</td>\n",
       "      <td>22.250000</td>\n",
       "      <td>8.00</td>\n",
       "      <td>12.750056</td>\n",
       "      <td>24.400000</td>\n",
       "    </tr>\n",
       "    <tr>\n",
       "      <th>2023-09-26</th>\n",
       "      <td>13.96</td>\n",
       "      <td>22.020000</td>\n",
       "      <td>7.71</td>\n",
       "      <td>12.480000</td>\n",
       "      <td>24.430000</td>\n",
       "    </tr>\n",
       "    <tr>\n",
       "      <th>2023-09-27</th>\n",
       "      <td>13.92</td>\n",
       "      <td>21.910000</td>\n",
       "      <td>7.59</td>\n",
       "      <td>12.370000</td>\n",
       "      <td>24.450001</td>\n",
       "    </tr>\n",
       "    <tr>\n",
       "      <th>2023-09-28</th>\n",
       "      <td>14.25</td>\n",
       "      <td>22.330000</td>\n",
       "      <td>7.60</td>\n",
       "      <td>12.400000</td>\n",
       "      <td>24.299999</td>\n",
       "    </tr>\n",
       "    <tr>\n",
       "      <th>2023-09-29</th>\n",
       "      <td>14.26</td>\n",
       "      <td>22.809999</td>\n",
       "      <td>7.72</td>\n",
       "      <td>12.260000</td>\n",
       "      <td>24.180000</td>\n",
       "    </tr>\n",
       "  </tbody>\n",
       "</table>\n",
       "</div>"
      ],
      "text/plain": [
       "            BBDC4.SA   BRAP4.SA  CAML3.SA   CMIG4.SA   GGBR4.SA\n",
       "Date                                                           \n",
       "2023-09-25     14.11  22.250000      8.00  12.750056  24.400000\n",
       "2023-09-26     13.96  22.020000      7.71  12.480000  24.430000\n",
       "2023-09-27     13.92  21.910000      7.59  12.370000  24.450001\n",
       "2023-09-28     14.25  22.330000      7.60  12.400000  24.299999\n",
       "2023-09-29     14.26  22.809999      7.72  12.260000  24.180000"
      ]
     },
     "execution_count": 161,
     "metadata": {},
     "output_type": "execute_result"
    }
   ],
   "source": [
    "tickers=[\"BBDC4.SA\", \"GGBR4.SA\", \"BRAP4.SA\", \"CMIG4.SA\", \"CAML3.SA\"]\n",
    "dist=np.array([19.13,18.49, 1.39, 0.08, 0.97]) /100\n",
    "carteira = yf.download(tickers, start=\"2001-01-01\")['Adj Close'].dropna()\n",
    "carteira.tail()"
   ]
  },
  {
   "cell_type": "code",
   "execution_count": 162,
   "id": "473b791d",
   "metadata": {},
   "outputs": [
    {
     "data": {
      "text/html": [
       "<div>\n",
       "<style scoped>\n",
       "    .dataframe tbody tr th:only-of-type {\n",
       "        vertical-align: middle;\n",
       "    }\n",
       "\n",
       "    .dataframe tbody tr th {\n",
       "        vertical-align: top;\n",
       "    }\n",
       "\n",
       "    .dataframe thead th {\n",
       "        text-align: right;\n",
       "    }\n",
       "</style>\n",
       "<table border=\"1\" class=\"dataframe\">\n",
       "  <thead>\n",
       "    <tr style=\"text-align: right;\">\n",
       "      <th></th>\n",
       "      <th>BBDC4.SA</th>\n",
       "      <th>BRAP4.SA</th>\n",
       "      <th>CAML3.SA</th>\n",
       "      <th>CMIG4.SA</th>\n",
       "      <th>GGBR4.SA</th>\n",
       "    </tr>\n",
       "    <tr>\n",
       "      <th>Date</th>\n",
       "      <th></th>\n",
       "      <th></th>\n",
       "      <th></th>\n",
       "      <th></th>\n",
       "      <th></th>\n",
       "    </tr>\n",
       "  </thead>\n",
       "  <tbody>\n",
       "    <tr>\n",
       "      <th>2023-09-25</th>\n",
       "      <td>-0.002831</td>\n",
       "      <td>-0.020904</td>\n",
       "      <td>-0.009950</td>\n",
       "      <td>0.003871</td>\n",
       "      <td>0.005754</td>\n",
       "    </tr>\n",
       "    <tr>\n",
       "      <th>2023-09-26</th>\n",
       "      <td>-0.010688</td>\n",
       "      <td>-0.010391</td>\n",
       "      <td>-0.036923</td>\n",
       "      <td>-0.021408</td>\n",
       "      <td>0.001229</td>\n",
       "    </tr>\n",
       "    <tr>\n",
       "      <th>2023-09-27</th>\n",
       "      <td>-0.002869</td>\n",
       "      <td>-0.005008</td>\n",
       "      <td>-0.015687</td>\n",
       "      <td>-0.008853</td>\n",
       "      <td>0.000818</td>\n",
       "    </tr>\n",
       "    <tr>\n",
       "      <th>2023-09-28</th>\n",
       "      <td>0.023430</td>\n",
       "      <td>0.018988</td>\n",
       "      <td>0.001317</td>\n",
       "      <td>0.002422</td>\n",
       "      <td>-0.006154</td>\n",
       "    </tr>\n",
       "    <tr>\n",
       "      <th>2023-09-29</th>\n",
       "      <td>0.000702</td>\n",
       "      <td>0.021268</td>\n",
       "      <td>0.015666</td>\n",
       "      <td>-0.011354</td>\n",
       "      <td>-0.004950</td>\n",
       "    </tr>\n",
       "  </tbody>\n",
       "</table>\n",
       "</div>"
      ],
      "text/plain": [
       "            BBDC4.SA  BRAP4.SA  CAML3.SA  CMIG4.SA  GGBR4.SA\n",
       "Date                                                        \n",
       "2023-09-25 -0.002831 -0.020904 -0.009950  0.003871  0.005754\n",
       "2023-09-26 -0.010688 -0.010391 -0.036923 -0.021408  0.001229\n",
       "2023-09-27 -0.002869 -0.005008 -0.015687 -0.008853  0.000818\n",
       "2023-09-28  0.023430  0.018988  0.001317  0.002422 -0.006154\n",
       "2023-09-29  0.000702  0.021268  0.015666 -0.011354 -0.004950"
      ]
     },
     "execution_count": 162,
     "metadata": {},
     "output_type": "execute_result"
    }
   ],
   "source": [
    "retorno_seguranca = np.log(carteira / carteira.shift(1))\n",
    "retorno_seguranca.tail()"
   ]
  },
  {
   "cell_type": "code",
   "execution_count": 163,
   "id": "18cdfa9f",
   "metadata": {},
   "outputs": [
    {
     "data": {
      "text/plain": [
       "BBDC4.SA    0.000530\n",
       "GGBR4.SA    0.000725\n",
       "BRAP4.SA    0.000843\n",
       "CMIG4.SA    0.000566\n",
       "CAML3.SA    0.000529\n",
       "dtype: float64"
      ]
     },
     "execution_count": 163,
     "metadata": {},
     "output_type": "execute_result"
    }
   ],
   "source": [
    "retorno_seguranca[tickers].var()"
   ]
  },
  {
   "cell_type": "code",
   "execution_count": 164,
   "id": "8962ca2e",
   "metadata": {},
   "outputs": [
    {
     "data": {
      "text/plain": [
       "BBDC4.SA    0.132395\n",
       "GGBR4.SA    0.181244\n",
       "BRAP4.SA    0.210711\n",
       "CMIG4.SA    0.141481\n",
       "CAML3.SA    0.132342\n",
       "dtype: float64"
      ]
     },
     "execution_count": 164,
     "metadata": {},
     "output_type": "execute_result"
    }
   ],
   "source": [
    "retorno_seguranca[tickers].var() *250"
   ]
  },
  {
   "cell_type": "code",
   "execution_count": 165,
   "id": "a98524b1",
   "metadata": {},
   "outputs": [],
   "source": [
    "cov_matrix = retorno_seguranca.cov()\n",
    "cov_matrix_a = retorno_seguranca.cov() *250"
   ]
  },
  {
   "cell_type": "code",
   "execution_count": 166,
   "id": "234b0aae",
   "metadata": {},
   "outputs": [
    {
     "data": {
      "text/html": [
       "<div>\n",
       "<style scoped>\n",
       "    .dataframe tbody tr th:only-of-type {\n",
       "        vertical-align: middle;\n",
       "    }\n",
       "\n",
       "    .dataframe tbody tr th {\n",
       "        vertical-align: top;\n",
       "    }\n",
       "\n",
       "    .dataframe thead th {\n",
       "        text-align: right;\n",
       "    }\n",
       "</style>\n",
       "<table border=\"1\" class=\"dataframe\">\n",
       "  <thead>\n",
       "    <tr style=\"text-align: right;\">\n",
       "      <th></th>\n",
       "      <th>BBDC4.SA</th>\n",
       "      <th>BRAP4.SA</th>\n",
       "      <th>CAML3.SA</th>\n",
       "      <th>CMIG4.SA</th>\n",
       "      <th>GGBR4.SA</th>\n",
       "    </tr>\n",
       "  </thead>\n",
       "  <tbody>\n",
       "    <tr>\n",
       "      <th>BBDC4.SA</th>\n",
       "      <td>1.000000</td>\n",
       "      <td>0.292451</td>\n",
       "      <td>0.247675</td>\n",
       "      <td>0.580254</td>\n",
       "      <td>0.466343</td>\n",
       "    </tr>\n",
       "    <tr>\n",
       "      <th>BRAP4.SA</th>\n",
       "      <td>0.292451</td>\n",
       "      <td>1.000000</td>\n",
       "      <td>0.151111</td>\n",
       "      <td>0.250991</td>\n",
       "      <td>0.537771</td>\n",
       "    </tr>\n",
       "    <tr>\n",
       "      <th>CAML3.SA</th>\n",
       "      <td>0.247675</td>\n",
       "      <td>0.151111</td>\n",
       "      <td>1.000000</td>\n",
       "      <td>0.288510</td>\n",
       "      <td>0.214238</td>\n",
       "    </tr>\n",
       "    <tr>\n",
       "      <th>CMIG4.SA</th>\n",
       "      <td>0.580254</td>\n",
       "      <td>0.250991</td>\n",
       "      <td>0.288510</td>\n",
       "      <td>1.000000</td>\n",
       "      <td>0.423262</td>\n",
       "    </tr>\n",
       "    <tr>\n",
       "      <th>GGBR4.SA</th>\n",
       "      <td>0.466343</td>\n",
       "      <td>0.537771</td>\n",
       "      <td>0.214238</td>\n",
       "      <td>0.423262</td>\n",
       "      <td>1.000000</td>\n",
       "    </tr>\n",
       "  </tbody>\n",
       "</table>\n",
       "</div>"
      ],
      "text/plain": [
       "          BBDC4.SA  BRAP4.SA  CAML3.SA  CMIG4.SA  GGBR4.SA\n",
       "BBDC4.SA  1.000000  0.292451  0.247675  0.580254  0.466343\n",
       "BRAP4.SA  0.292451  1.000000  0.151111  0.250991  0.537771\n",
       "CAML3.SA  0.247675  0.151111  1.000000  0.288510  0.214238\n",
       "CMIG4.SA  0.580254  0.250991  0.288510  1.000000  0.423262\n",
       "GGBR4.SA  0.466343  0.537771  0.214238  0.423262  1.000000"
      ]
     },
     "execution_count": 166,
     "metadata": {},
     "output_type": "execute_result"
    }
   ],
   "source": [
    "corr_matrix = retorno_seguranca.corr()\n",
    "corr_matrix"
   ]
  },
  {
   "cell_type": "code",
   "execution_count": null,
   "id": "eb7d8d13",
   "metadata": {},
   "outputs": [],
   "source": []
  },
  {
   "cell_type": "code",
   "execution_count": 167,
   "id": "6974cfee",
   "metadata": {},
   "outputs": [
    {
     "data": {
      "text/plain": [
       "0.01654424333024849"
      ]
     },
     "execution_count": 167,
     "metadata": {},
     "output_type": "execute_result"
    }
   ],
   "source": [
    "# Variancia carteira\n",
    "\n",
    "cart_var = (np.dot(dist.T, (np.dot(retorno_seguranca.cov() *250, dist))))\n",
    "cart_var"
   ]
  },
  {
   "cell_type": "code",
   "execution_count": 168,
   "id": "55605b41",
   "metadata": {},
   "outputs": [
    {
     "name": "stdout",
     "output_type": "stream",
     "text": [
      "13.0 %\n"
     ]
    }
   ],
   "source": [
    "# Volatividade carteira (risco)\n",
    "cart_vol = (np.dot(dist.T, (np.dot(retorno_seguranca.cov() *250, dist)))) ** 0.5\n",
    "\n",
    "print(round(cart_vol, 2) *100, \"%\")"
   ]
  }
 ],
 "metadata": {
  "kernelspec": {
   "display_name": "financas",
   "language": "python",
   "name": "financas"
  },
  "language_info": {
   "codemirror_mode": {
    "name": "ipython",
    "version": 3
   },
   "file_extension": ".py",
   "mimetype": "text/x-python",
   "name": "python",
   "nbconvert_exporter": "python",
   "pygments_lexer": "ipython3",
   "version": "3.11.4"
  }
 },
 "nbformat": 4,
 "nbformat_minor": 5
}
