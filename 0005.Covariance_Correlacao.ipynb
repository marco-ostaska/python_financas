{
 "cells": [
  {
   "cell_type": "code",
   "execution_count": 20,
   "id": "4d25f7f3",
   "metadata": {},
   "outputs": [],
   "source": [
    "import numpy as np\n",
    "import matplotlib.pyplot as plt\n",
    "import yfinance as yf"
   ]
  },
  {
   "cell_type": "code",
   "execution_count": 21,
   "id": "5e2374a2",
   "metadata": {},
   "outputs": [
    {
     "name": "stdout",
     "output_type": "stream",
     "text": [
      "[*********************100%***********************]  2 of 2 completed\n"
     ]
    },
    {
     "data": {
      "text/html": [
       "<div>\n",
       "<style scoped>\n",
       "    .dataframe tbody tr th:only-of-type {\n",
       "        vertical-align: middle;\n",
       "    }\n",
       "\n",
       "    .dataframe tbody tr th {\n",
       "        vertical-align: top;\n",
       "    }\n",
       "\n",
       "    .dataframe thead th {\n",
       "        text-align: right;\n",
       "    }\n",
       "</style>\n",
       "<table border=\"1\" class=\"dataframe\">\n",
       "  <thead>\n",
       "    <tr style=\"text-align: right;\">\n",
       "      <th></th>\n",
       "      <th>BRAP4.SA</th>\n",
       "      <th>VALE3.SA</th>\n",
       "    </tr>\n",
       "    <tr>\n",
       "      <th>Date</th>\n",
       "      <th></th>\n",
       "      <th></th>\n",
       "    </tr>\n",
       "  </thead>\n",
       "  <tbody>\n",
       "    <tr>\n",
       "      <th>2023-09-25</th>\n",
       "      <td>22.25</td>\n",
       "      <td>66.599998</td>\n",
       "    </tr>\n",
       "    <tr>\n",
       "      <th>2023-09-26</th>\n",
       "      <td>22.02</td>\n",
       "      <td>65.559998</td>\n",
       "    </tr>\n",
       "    <tr>\n",
       "      <th>2023-09-27</th>\n",
       "      <td>21.91</td>\n",
       "      <td>65.699997</td>\n",
       "    </tr>\n",
       "    <tr>\n",
       "      <th>2023-09-28</th>\n",
       "      <td>22.33</td>\n",
       "      <td>66.699997</td>\n",
       "    </tr>\n",
       "    <tr>\n",
       "      <th>2023-09-29</th>\n",
       "      <td>22.83</td>\n",
       "      <td>67.379997</td>\n",
       "    </tr>\n",
       "  </tbody>\n",
       "</table>\n",
       "</div>"
      ],
      "text/plain": [
       "            BRAP4.SA   VALE3.SA\n",
       "Date                           \n",
       "2023-09-25     22.25  66.599998\n",
       "2023-09-26     22.02  65.559998\n",
       "2023-09-27     21.91  65.699997\n",
       "2023-09-28     22.33  66.699997\n",
       "2023-09-29     22.83  67.379997"
      ]
     },
     "execution_count": 21,
     "metadata": {},
     "output_type": "execute_result"
    }
   ],
   "source": [
    "tickers=[\"VALE3.SA\", \"BRAP4.SA\"]\n",
    "carteira = yf.download(tickers, start=\"2019-01-01\")['Adj Close'].dropna()\n",
    "carteira.tail()"
   ]
  },
  {
   "cell_type": "code",
   "execution_count": 22,
   "id": "473b791d",
   "metadata": {},
   "outputs": [
    {
     "data": {
      "text/html": [
       "<div>\n",
       "<style scoped>\n",
       "    .dataframe tbody tr th:only-of-type {\n",
       "        vertical-align: middle;\n",
       "    }\n",
       "\n",
       "    .dataframe tbody tr th {\n",
       "        vertical-align: top;\n",
       "    }\n",
       "\n",
       "    .dataframe thead th {\n",
       "        text-align: right;\n",
       "    }\n",
       "</style>\n",
       "<table border=\"1\" class=\"dataframe\">\n",
       "  <thead>\n",
       "    <tr style=\"text-align: right;\">\n",
       "      <th></th>\n",
       "      <th>BRAP4.SA</th>\n",
       "      <th>VALE3.SA</th>\n",
       "    </tr>\n",
       "    <tr>\n",
       "      <th>Date</th>\n",
       "      <th></th>\n",
       "      <th></th>\n",
       "    </tr>\n",
       "  </thead>\n",
       "  <tbody>\n",
       "    <tr>\n",
       "      <th>2023-09-25</th>\n",
       "      <td>-0.020904</td>\n",
       "      <td>-0.020803</td>\n",
       "    </tr>\n",
       "    <tr>\n",
       "      <th>2023-09-26</th>\n",
       "      <td>-0.010391</td>\n",
       "      <td>-0.015739</td>\n",
       "    </tr>\n",
       "    <tr>\n",
       "      <th>2023-09-27</th>\n",
       "      <td>-0.005008</td>\n",
       "      <td>0.002133</td>\n",
       "    </tr>\n",
       "    <tr>\n",
       "      <th>2023-09-28</th>\n",
       "      <td>0.018988</td>\n",
       "      <td>0.015106</td>\n",
       "    </tr>\n",
       "    <tr>\n",
       "      <th>2023-09-29</th>\n",
       "      <td>0.022144</td>\n",
       "      <td>0.010143</td>\n",
       "    </tr>\n",
       "  </tbody>\n",
       "</table>\n",
       "</div>"
      ],
      "text/plain": [
       "            BRAP4.SA  VALE3.SA\n",
       "Date                          \n",
       "2023-09-25 -0.020904 -0.020803\n",
       "2023-09-26 -0.010391 -0.015739\n",
       "2023-09-27 -0.005008  0.002133\n",
       "2023-09-28  0.018988  0.015106\n",
       "2023-09-29  0.022144  0.010143"
      ]
     },
     "execution_count": 22,
     "metadata": {},
     "output_type": "execute_result"
    }
   ],
   "source": [
    "retorno_seguranca = np.log(carteira / carteira.shift(1))\n",
    "retorno_seguranca.tail()"
   ]
  },
  {
   "cell_type": "code",
   "execution_count": 23,
   "id": "18cdfa9f",
   "metadata": {},
   "outputs": [
    {
     "data": {
      "text/plain": [
       "VALE3.SA    0.000671\n",
       "BRAP4.SA    0.000927\n",
       "dtype: float64"
      ]
     },
     "execution_count": 23,
     "metadata": {},
     "output_type": "execute_result"
    }
   ],
   "source": [
    "retorno_seguranca[[tickers[0],tickers[1]]].var()"
   ]
  },
  {
   "cell_type": "code",
   "execution_count": 24,
   "id": "8962ca2e",
   "metadata": {},
   "outputs": [
    {
     "data": {
      "text/plain": [
       "VALE3.SA    0.167780\n",
       "BRAP4.SA    0.231684\n",
       "dtype: float64"
      ]
     },
     "execution_count": 24,
     "metadata": {},
     "output_type": "execute_result"
    }
   ],
   "source": [
    "retorno_seguranca[[tickers[0],tickers[1]]].var() *250"
   ]
  },
  {
   "cell_type": "code",
   "execution_count": 25,
   "id": "a98524b1",
   "metadata": {},
   "outputs": [],
   "source": [
    "cov_matrix = retorno_seguranca.cov()\n",
    "cov_matrix_a = retorno_seguranca.cov() *250"
   ]
  },
  {
   "cell_type": "code",
   "execution_count": 28,
   "id": "234b0aae",
   "metadata": {},
   "outputs": [
    {
     "data": {
      "text/html": [
       "<div>\n",
       "<style scoped>\n",
       "    .dataframe tbody tr th:only-of-type {\n",
       "        vertical-align: middle;\n",
       "    }\n",
       "\n",
       "    .dataframe tbody tr th {\n",
       "        vertical-align: top;\n",
       "    }\n",
       "\n",
       "    .dataframe thead th {\n",
       "        text-align: right;\n",
       "    }\n",
       "</style>\n",
       "<table border=\"1\" class=\"dataframe\">\n",
       "  <thead>\n",
       "    <tr style=\"text-align: right;\">\n",
       "      <th></th>\n",
       "      <th>BRAP4.SA</th>\n",
       "      <th>VALE3.SA</th>\n",
       "    </tr>\n",
       "  </thead>\n",
       "  <tbody>\n",
       "    <tr>\n",
       "      <th>BRAP4.SA</th>\n",
       "      <td>1.000000</td>\n",
       "      <td>0.697131</td>\n",
       "    </tr>\n",
       "    <tr>\n",
       "      <th>VALE3.SA</th>\n",
       "      <td>0.697131</td>\n",
       "      <td>1.000000</td>\n",
       "    </tr>\n",
       "  </tbody>\n",
       "</table>\n",
       "</div>"
      ],
      "text/plain": [
       "          BRAP4.SA  VALE3.SA\n",
       "BRAP4.SA  1.000000  0.697131\n",
       "VALE3.SA  0.697131  1.000000"
      ]
     },
     "execution_count": 28,
     "metadata": {},
     "output_type": "execute_result"
    }
   ],
   "source": [
    "corr_matrix = retorno_seguranca.corr()\n",
    "corr_matrix"
   ]
  }
 ],
 "metadata": {
  "kernelspec": {
   "display_name": "financas",
   "language": "python",
   "name": "financas"
  },
  "language_info": {
   "codemirror_mode": {
    "name": "ipython",
    "version": 3
   },
   "file_extension": ".py",
   "mimetype": "text/x-python",
   "name": "python",
   "nbconvert_exporter": "python",
   "pygments_lexer": "ipython3",
   "version": "3.11.4"
  }
 },
 "nbformat": 4,
 "nbformat_minor": 5
}
