{
 "cells": [
  {
   "cell_type": "code",
   "execution_count": 15,
   "id": "f4e0c03e",
   "metadata": {},
   "outputs": [],
   "source": [
    "import numpy as np\n",
    "import matplotlib.pyplot as plt\n",
    "import pandas_datareader as pdr\n",
    "import yfinance as yf\n",
    "import datetime\n"
   ]
  },
  {
   "cell_type": "code",
   "execution_count": 16,
   "id": "0fef7fd1",
   "metadata": {},
   "outputs": [
    {
     "name": "stdout",
     "output_type": "stream",
     "text": [
      "[*********************100%***********************]  1 of 1 completed\n"
     ]
    },
    {
     "data": {
      "text/html": [
       "<div>\n",
       "<style scoped>\n",
       "    .dataframe tbody tr th:only-of-type {\n",
       "        vertical-align: middle;\n",
       "    }\n",
       "\n",
       "    .dataframe tbody tr th {\n",
       "        vertical-align: top;\n",
       "    }\n",
       "\n",
       "    .dataframe thead th {\n",
       "        text-align: right;\n",
       "    }\n",
       "</style>\n",
       "<table border=\"1\" class=\"dataframe\">\n",
       "  <thead>\n",
       "    <tr style=\"text-align: right;\">\n",
       "      <th></th>\n",
       "      <th>Open</th>\n",
       "      <th>High</th>\n",
       "      <th>Low</th>\n",
       "      <th>Close</th>\n",
       "      <th>Adj Close</th>\n",
       "      <th>Volume</th>\n",
       "    </tr>\n",
       "    <tr>\n",
       "      <th>Date</th>\n",
       "      <th></th>\n",
       "      <th></th>\n",
       "      <th></th>\n",
       "      <th></th>\n",
       "      <th></th>\n",
       "      <th></th>\n",
       "    </tr>\n",
       "  </thead>\n",
       "  <tbody>\n",
       "    <tr>\n",
       "      <th>2021-12-15</th>\n",
       "      <td>10.00</td>\n",
       "      <td>10.25</td>\n",
       "      <td>10.00</td>\n",
       "      <td>10.25</td>\n",
       "      <td>9.565536</td>\n",
       "      <td>194742</td>\n",
       "    </tr>\n",
       "    <tr>\n",
       "      <th>2021-12-16</th>\n",
       "      <td>10.00</td>\n",
       "      <td>10.00</td>\n",
       "      <td>9.25</td>\n",
       "      <td>9.25</td>\n",
       "      <td>8.632313</td>\n",
       "      <td>7975</td>\n",
       "    </tr>\n",
       "    <tr>\n",
       "      <th>2021-12-17</th>\n",
       "      <td>9.96</td>\n",
       "      <td>10.15</td>\n",
       "      <td>8.85</td>\n",
       "      <td>10.00</td>\n",
       "      <td>9.332231</td>\n",
       "      <td>45474</td>\n",
       "    </tr>\n",
       "    <tr>\n",
       "      <th>2021-12-20</th>\n",
       "      <td>9.25</td>\n",
       "      <td>9.96</td>\n",
       "      <td>9.19</td>\n",
       "      <td>9.87</td>\n",
       "      <td>9.210911</td>\n",
       "      <td>13258</td>\n",
       "    </tr>\n",
       "    <tr>\n",
       "      <th>2021-12-21</th>\n",
       "      <td>9.94</td>\n",
       "      <td>9.95</td>\n",
       "      <td>9.52</td>\n",
       "      <td>9.95</td>\n",
       "      <td>9.285568</td>\n",
       "      <td>7715</td>\n",
       "    </tr>\n",
       "  </tbody>\n",
       "</table>\n",
       "</div>"
      ],
      "text/plain": [
       "             Open   High    Low  Close  Adj Close  Volume\n",
       "Date                                                     \n",
       "2021-12-15  10.00  10.25  10.00  10.25   9.565536  194742\n",
       "2021-12-16  10.00  10.00   9.25   9.25   8.632313    7975\n",
       "2021-12-17   9.96  10.15   8.85  10.00   9.332231   45474\n",
       "2021-12-20   9.25   9.96   9.19   9.87   9.210911   13258\n",
       "2021-12-21   9.94   9.95   9.52   9.95   9.285568    7715"
      ]
     },
     "execution_count": 16,
     "metadata": {},
     "output_type": "execute_result"
    }
   ],
   "source": [
    "acao = yf.download(\"VGIA11.SA\", start=\"2020-01-01\")\n",
    "acao.head()"
   ]
  },
  {
   "cell_type": "code",
   "execution_count": 17,
   "id": "1c2c3d7e",
   "metadata": {},
   "outputs": [
    {
     "data": {
      "text/html": [
       "<div>\n",
       "<style scoped>\n",
       "    .dataframe tbody tr th:only-of-type {\n",
       "        vertical-align: middle;\n",
       "    }\n",
       "\n",
       "    .dataframe tbody tr th {\n",
       "        vertical-align: top;\n",
       "    }\n",
       "\n",
       "    .dataframe thead th {\n",
       "        text-align: right;\n",
       "    }\n",
       "</style>\n",
       "<table border=\"1\" class=\"dataframe\">\n",
       "  <thead>\n",
       "    <tr style=\"text-align: right;\">\n",
       "      <th></th>\n",
       "      <th>Open</th>\n",
       "      <th>High</th>\n",
       "      <th>Low</th>\n",
       "      <th>Close</th>\n",
       "      <th>Adj Close</th>\n",
       "      <th>Volume</th>\n",
       "      <th>simple_return</th>\n",
       "    </tr>\n",
       "    <tr>\n",
       "      <th>Date</th>\n",
       "      <th></th>\n",
       "      <th></th>\n",
       "      <th></th>\n",
       "      <th></th>\n",
       "      <th></th>\n",
       "      <th></th>\n",
       "      <th></th>\n",
       "    </tr>\n",
       "  </thead>\n",
       "  <tbody>\n",
       "    <tr>\n",
       "      <th>2021-12-15</th>\n",
       "      <td>10.00</td>\n",
       "      <td>10.25</td>\n",
       "      <td>10.00</td>\n",
       "      <td>10.25</td>\n",
       "      <td>9.565536</td>\n",
       "      <td>194742</td>\n",
       "      <td>NaN</td>\n",
       "    </tr>\n",
       "    <tr>\n",
       "      <th>2021-12-16</th>\n",
       "      <td>10.00</td>\n",
       "      <td>10.00</td>\n",
       "      <td>9.25</td>\n",
       "      <td>9.25</td>\n",
       "      <td>8.632313</td>\n",
       "      <td>7975</td>\n",
       "      <td>-0.097561</td>\n",
       "    </tr>\n",
       "    <tr>\n",
       "      <th>2021-12-17</th>\n",
       "      <td>9.96</td>\n",
       "      <td>10.15</td>\n",
       "      <td>8.85</td>\n",
       "      <td>10.00</td>\n",
       "      <td>9.332231</td>\n",
       "      <td>45474</td>\n",
       "      <td>0.081081</td>\n",
       "    </tr>\n",
       "    <tr>\n",
       "      <th>2021-12-20</th>\n",
       "      <td>9.25</td>\n",
       "      <td>9.96</td>\n",
       "      <td>9.19</td>\n",
       "      <td>9.87</td>\n",
       "      <td>9.210911</td>\n",
       "      <td>13258</td>\n",
       "      <td>-0.013000</td>\n",
       "    </tr>\n",
       "    <tr>\n",
       "      <th>2021-12-21</th>\n",
       "      <td>9.94</td>\n",
       "      <td>9.95</td>\n",
       "      <td>9.52</td>\n",
       "      <td>9.95</td>\n",
       "      <td>9.285568</td>\n",
       "      <td>7715</td>\n",
       "      <td>0.008105</td>\n",
       "    </tr>\n",
       "  </tbody>\n",
       "</table>\n",
       "</div>"
      ],
      "text/plain": [
       "             Open   High    Low  Close  Adj Close  Volume  simple_return\n",
       "Date                                                                    \n",
       "2021-12-15  10.00  10.25  10.00  10.25   9.565536  194742            NaN\n",
       "2021-12-16  10.00  10.00   9.25   9.25   8.632313    7975      -0.097561\n",
       "2021-12-17   9.96  10.15   8.85  10.00   9.332231   45474       0.081081\n",
       "2021-12-20   9.25   9.96   9.19   9.87   9.210911   13258      -0.013000\n",
       "2021-12-21   9.94   9.95   9.52   9.95   9.285568    7715       0.008105"
      ]
     },
     "execution_count": 17,
     "metadata": {},
     "output_type": "execute_result"
    }
   ],
   "source": [
    "acao['simple_return'] = (acao['Adj Close'] / acao['Adj Close'].shift(1)) - 1\n",
    "acao.head()"
   ]
  },
  {
   "cell_type": "code",
   "execution_count": 18,
   "id": "bcccb1e5",
   "metadata": {},
   "outputs": [
    {
     "data": {
      "text/plain": [
       "<Axes: xlabel='Date'>"
      ]
     },
     "execution_count": 18,
     "metadata": {},
     "output_type": "execute_result"
    },
    {
     "data": {
      "image/png": "[encoded data removed]",
      "text/plain": [
       "<Figure size 800x500 with 1 Axes>"
      ]
     },
     "metadata": {},
     "output_type": "display_data"
    }
   ],
   "source": [
    "acao['simple_return'] .plot(figsize=(8,5))"
   ]
  },
  {
   "cell_type": "code",
   "execution_count": 27,
   "id": "23a2695a",
   "metadata": {},
   "outputs": [
    {
     "name": "stdout",
     "output_type": "stream",
     "text": [
      "1.0 %\n"
     ]
    }
   ],
   "source": [
    "avg_returns= acao['simple_return'].mean() *250\n",
    "print(round(avg_returns,2)*100, \"%\")"
   ]
  },
  {
   "cell_type": "code",
   "execution_count": 20,
   "id": "086c1b0a",
   "metadata": {},
   "outputs": [
    {
     "name": "stdout",
     "output_type": "stream",
     "text": [
      "Requirement already satisfied: fix_yahoo_finance in c:\\programdata\\anaconda3\\envs\\financas\\lib\\site-packages (0.1.37)\n",
      "Requirement already satisfied: yfinance in c:\\programdata\\anaconda3\\envs\\financas\\lib\\site-packages (from fix_yahoo_finance) (0.2.30)\n",
      "Requirement already satisfied: pandas>=1.3.0 in c:\\programdata\\anaconda3\\envs\\financas\\lib\\site-packages (from yfinance->fix_yahoo_finance) (2.0.3)\n",
      "Requirement already satisfied: numpy>=1.16.5 in c:\\programdata\\anaconda3\\envs\\financas\\lib\\site-packages (from yfinance->fix_yahoo_finance) (1.26.0)\n",
      "Requirement already satisfied: requests>=2.31 in c:\\programdata\\anaconda3\\envs\\financas\\lib\\site-packages (from yfinance->fix_yahoo_finance) (2.31.0)\n",
      "Requirement already satisfied: multitasking>=0.0.7 in c:\\programdata\\anaconda3\\envs\\financas\\lib\\site-packages (from yfinance->fix_yahoo_finance) (0.0.11)\n",
      "Requirement already satisfied: lxml>=4.9.1 in c:\\programdata\\anaconda3\\envs\\financas\\lib\\site-packages (from yfinance->fix_yahoo_finance) (4.9.3)\n",
      "Requirement already satisfied: appdirs>=1.4.4 in c:\\programdata\\anaconda3\\envs\\financas\\lib\\site-packages (from yfinance->fix_yahoo_finance) (1.4.4)\n",
      "Requirement already satisfied: pytz>=2022.5 in c:\\programdata\\anaconda3\\envs\\financas\\lib\\site-packages (from yfinance->fix_yahoo_finance) (2023.3.post1)\n",
      "Requirement already satisfied: frozendict>=2.3.4 in c:\\programdata\\anaconda3\\envs\\financas\\lib\\site-packages (from yfinance->fix_yahoo_finance) (2.3.8)\n",
      "Requirement already satisfied: peewee>=3.16.2 in c:\\programdata\\anaconda3\\envs\\financas\\lib\\site-packages (from yfinance->fix_yahoo_finance) (3.16.3)\n",
      "Requirement already satisfied: beautifulsoup4>=4.11.1 in c:\\programdata\\anaconda3\\envs\\financas\\lib\\site-packages (from yfinance->fix_yahoo_finance) (4.12.2)\n",
      "Requirement already satisfied: html5lib>=1.1 in c:\\programdata\\anaconda3\\envs\\financas\\lib\\site-packages (from yfinance->fix_yahoo_finance) (1.1)\n",
      "Requirement already satisfied: soupsieve>1.2 in c:\\programdata\\anaconda3\\envs\\financas\\lib\\site-packages (from beautifulsoup4>=4.11.1->yfinance->fix_yahoo_finance) (2.4)\n",
      "Requirement already satisfied: six>=1.9 in c:\\programdata\\anaconda3\\envs\\financas\\lib\\site-packages (from html5lib>=1.1->yfinance->fix_yahoo_finance) (1.16.0)\n",
      "Requirement already satisfied: webencodings in c:\\programdata\\anaconda3\\envs\\financas\\lib\\site-packages (from html5lib>=1.1->yfinance->fix_yahoo_finance) (0.5.1)\n",
      "Requirement already satisfied: python-dateutil>=2.8.2 in c:\\programdata\\anaconda3\\envs\\financas\\lib\\site-packages (from pandas>=1.3.0->yfinance->fix_yahoo_finance) (2.8.2)\n",
      "Requirement already satisfied: tzdata>=2022.1 in c:\\programdata\\anaconda3\\envs\\financas\\lib\\site-packages (from pandas>=1.3.0->yfinance->fix_yahoo_finance) (2023.3)\n",
      "Requirement already satisfied: charset-normalizer<4,>=2 in c:\\programdata\\anaconda3\\envs\\financas\\lib\\site-packages (from requests>=2.31->yfinance->fix_yahoo_finance) (2.0.4)\n",
      "Requirement already satisfied: idna<4,>=2.5 in c:\\programdata\\anaconda3\\envs\\financas\\lib\\site-packages (from requests>=2.31->yfinance->fix_yahoo_finance) (3.4)\n",
      "Requirement already satisfied: urllib3<3,>=1.21.1 in c:\\programdata\\anaconda3\\envs\\financas\\lib\\site-packages (from requests>=2.31->yfinance->fix_yahoo_finance) (1.26.16)\n",
      "Requirement already satisfied: certifi>=2017.4.17 in c:\\programdata\\anaconda3\\envs\\financas\\lib\\site-packages (from requests>=2.31->yfinance->fix_yahoo_finance) (2023.7.22)\n"
     ]
    }
   ],
   "source": []
  }
 ],
 "metadata": {
  "kernelspec": {
   "display_name": "financas",
   "language": "python",
   "name": "financas"
  },
  "language_info": {
   "codemirror_mode": {
    "name": "ipython",
    "version": 3
   },
   "file_extension": ".py",
   "mimetype": "text/x-python",
   "name": "python",
   "nbconvert_exporter": "python",
   "pygments_lexer": "ipython3",
   "version": "3.11.4"
  }
 },
 "nbformat": 4,
 "nbformat_minor": 5
}
