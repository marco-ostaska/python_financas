{
 "cells": [
  {
   "cell_type": "code",
   "execution_count": 133,
   "id": "4d25f7f3",
   "metadata": {},
   "outputs": [],
   "source": [
    "import numpy as np\n",
    "import matplotlib.pyplot as plt\n",
    "import yfinance as yf\n"
   ]
  },
  {
   "cell_type": "code",
   "execution_count": 134,
   "id": "5e2374a2",
   "metadata": {},
   "outputs": [
    {
     "name": "stdout",
     "output_type": "stream",
     "text": [
      "[*********************100%***********************]  5 of 5 completed\n"
     ]
    },
    {
     "data": {
      "text/html": [
       "<div>\n",
       "<style scoped>\n",
       "    .dataframe tbody tr th:only-of-type {\n",
       "        vertical-align: middle;\n",
       "    }\n",
       "\n",
       "    .dataframe tbody tr th {\n",
       "        vertical-align: top;\n",
       "    }\n",
       "\n",
       "    .dataframe thead th {\n",
       "        text-align: right;\n",
       "    }\n",
       "</style>\n",
       "<table border=\"1\" class=\"dataframe\">\n",
       "  <thead>\n",
       "    <tr style=\"text-align: right;\">\n",
       "      <th></th>\n",
       "      <th>BBDC4.SA</th>\n",
       "      <th>BRAP4.SA</th>\n",
       "      <th>CMIG4.SA</th>\n",
       "      <th>GGBR4.SA</th>\n",
       "      <th>MGLU3.SA</th>\n",
       "    </tr>\n",
       "    <tr>\n",
       "      <th>Date</th>\n",
       "      <th></th>\n",
       "      <th></th>\n",
       "      <th></th>\n",
       "      <th></th>\n",
       "      <th></th>\n",
       "    </tr>\n",
       "  </thead>\n",
       "  <tbody>\n",
       "    <tr>\n",
       "      <th>2023-09-25</th>\n",
       "      <td>14.11</td>\n",
       "      <td>22.25</td>\n",
       "      <td>12.750056</td>\n",
       "      <td>24.400000</td>\n",
       "      <td>2.15</td>\n",
       "    </tr>\n",
       "    <tr>\n",
       "      <th>2023-09-26</th>\n",
       "      <td>13.96</td>\n",
       "      <td>22.02</td>\n",
       "      <td>12.480000</td>\n",
       "      <td>24.430000</td>\n",
       "      <td>2.10</td>\n",
       "    </tr>\n",
       "    <tr>\n",
       "      <th>2023-09-27</th>\n",
       "      <td>13.92</td>\n",
       "      <td>21.91</td>\n",
       "      <td>12.370000</td>\n",
       "      <td>24.450001</td>\n",
       "      <td>2.04</td>\n",
       "    </tr>\n",
       "    <tr>\n",
       "      <th>2023-09-28</th>\n",
       "      <td>14.25</td>\n",
       "      <td>22.33</td>\n",
       "      <td>12.400000</td>\n",
       "      <td>24.299999</td>\n",
       "      <td>2.05</td>\n",
       "    </tr>\n",
       "    <tr>\n",
       "      <th>2023-09-29</th>\n",
       "      <td>14.27</td>\n",
       "      <td>22.83</td>\n",
       "      <td>12.240000</td>\n",
       "      <td>24.170000</td>\n",
       "      <td>2.13</td>\n",
       "    </tr>\n",
       "  </tbody>\n",
       "</table>\n",
       "</div>"
      ],
      "text/plain": [
       "            BBDC4.SA  BRAP4.SA   CMIG4.SA   GGBR4.SA  MGLU3.SA\n",
       "Date                                                          \n",
       "2023-09-25     14.11     22.25  12.750056  24.400000      2.15\n",
       "2023-09-26     13.96     22.02  12.480000  24.430000      2.10\n",
       "2023-09-27     13.92     21.91  12.370000  24.450001      2.04\n",
       "2023-09-28     14.25     22.33  12.400000  24.299999      2.05\n",
       "2023-09-29     14.27     22.83  12.240000  24.170000      2.13"
      ]
     },
     "execution_count": 134,
     "metadata": {},
     "output_type": "execute_result"
    }
   ],
   "source": [
    "tickers=[\"BBDC4.SA\", \"GGBR4.SA\", \"MGLU3.SA\", \"BRAP4.SA\", \"CMIG4.SA\", \"CAML3.SA\"]\n",
    "dist=np.array([19.13,18.49, 7.8, 1.39, 0.08, 0.97]) /100\n",
    "carteira = yf.download(tickers, start=\"2019-01-01\")['Adj Close'].dropna()\n",
    "carteira.tail()"
   ]
  },
  {
   "cell_type": "code",
   "execution_count": 135,
   "id": "473b791d",
   "metadata": {},
   "outputs": [
    {
     "data": {
      "text/html": [
       "<div>\n",
       "<style scoped>\n",
       "    .dataframe tbody tr th:only-of-type {\n",
       "        vertical-align: middle;\n",
       "    }\n",
       "\n",
       "    .dataframe tbody tr th {\n",
       "        vertical-align: top;\n",
       "    }\n",
       "\n",
       "    .dataframe thead th {\n",
       "        text-align: right;\n",
       "    }\n",
       "</style>\n",
       "<table border=\"1\" class=\"dataframe\">\n",
       "  <thead>\n",
       "    <tr style=\"text-align: right;\">\n",
       "      <th></th>\n",
       "      <th>BBDC4.SA</th>\n",
       "      <th>BRAP4.SA</th>\n",
       "      <th>CMIG4.SA</th>\n",
       "      <th>GGBR4.SA</th>\n",
       "      <th>MGLU3.SA</th>\n",
       "    </tr>\n",
       "    <tr>\n",
       "      <th>Date</th>\n",
       "      <th></th>\n",
       "      <th></th>\n",
       "      <th></th>\n",
       "      <th></th>\n",
       "      <th></th>\n",
       "    </tr>\n",
       "  </thead>\n",
       "  <tbody>\n",
       "    <tr>\n",
       "      <th>2023-09-25</th>\n",
       "      <td>-0.002831</td>\n",
       "      <td>-0.020904</td>\n",
       "      <td>0.003871</td>\n",
       "      <td>0.005754</td>\n",
       "      <td>-0.041008</td>\n",
       "    </tr>\n",
       "    <tr>\n",
       "      <th>2023-09-26</th>\n",
       "      <td>-0.010688</td>\n",
       "      <td>-0.010391</td>\n",
       "      <td>-0.021408</td>\n",
       "      <td>0.001229</td>\n",
       "      <td>-0.023531</td>\n",
       "    </tr>\n",
       "    <tr>\n",
       "      <th>2023-09-27</th>\n",
       "      <td>-0.002869</td>\n",
       "      <td>-0.005008</td>\n",
       "      <td>-0.008853</td>\n",
       "      <td>0.000818</td>\n",
       "      <td>-0.028988</td>\n",
       "    </tr>\n",
       "    <tr>\n",
       "      <th>2023-09-28</th>\n",
       "      <td>0.023430</td>\n",
       "      <td>0.018988</td>\n",
       "      <td>0.002422</td>\n",
       "      <td>-0.006154</td>\n",
       "      <td>0.004890</td>\n",
       "    </tr>\n",
       "    <tr>\n",
       "      <th>2023-09-29</th>\n",
       "      <td>0.001403</td>\n",
       "      <td>0.022144</td>\n",
       "      <td>-0.012987</td>\n",
       "      <td>-0.005364</td>\n",
       "      <td>0.038282</td>\n",
       "    </tr>\n",
       "  </tbody>\n",
       "</table>\n",
       "</div>"
      ],
      "text/plain": [
       "            BBDC4.SA  BRAP4.SA  CMIG4.SA  GGBR4.SA  MGLU3.SA\n",
       "Date                                                        \n",
       "2023-09-25 -0.002831 -0.020904  0.003871  0.005754 -0.041008\n",
       "2023-09-26 -0.010688 -0.010391 -0.021408  0.001229 -0.023531\n",
       "2023-09-27 -0.002869 -0.005008 -0.008853  0.000818 -0.028988\n",
       "2023-09-28  0.023430  0.018988  0.002422 -0.006154  0.004890\n",
       "2023-09-29  0.001403  0.022144 -0.012987 -0.005364  0.038282"
      ]
     },
     "execution_count": 135,
     "metadata": {},
     "output_type": "execute_result"
    }
   ],
   "source": [
    "retorno_seguranca = np.log(carteira / carteira.shift(1))\n",
    "retorno_seguranca.tail()"
   ]
  },
  {
   "cell_type": "code",
   "execution_count": 136,
   "id": "18cdfa9f",
   "metadata": {},
   "outputs": [
    {
     "data": {
      "text/plain": [
       "BBDC4.SA    0.000569\n",
       "GGBR4.SA    0.000750\n",
       "MGLU3.SA    0.001689\n",
       "BRAP4.SA    0.000927\n",
       "CMIG4.SA    0.000537\n",
       "dtype: float64"
      ]
     },
     "execution_count": 136,
     "metadata": {},
     "output_type": "execute_result"
    }
   ],
   "source": [
    "retorno_seguranca[tickers].var()"
   ]
  },
  {
   "cell_type": "code",
   "execution_count": 137,
   "id": "8962ca2e",
   "metadata": {},
   "outputs": [
    {
     "data": {
      "text/plain": [
       "BBDC4.SA    0.142330\n",
       "GGBR4.SA    0.187418\n",
       "MGLU3.SA    0.422312\n",
       "BRAP4.SA    0.231684\n",
       "CMIG4.SA    0.134313\n",
       "dtype: float64"
      ]
     },
     "execution_count": 137,
     "metadata": {},
     "output_type": "execute_result"
    }
   ],
   "source": [
    "retorno_seguranca[tickers].var() *250"
   ]
  },
  {
   "cell_type": "code",
   "execution_count": 138,
   "id": "a98524b1",
   "metadata": {},
   "outputs": [],
   "source": [
    "cov_matrix = retorno_seguranca.cov()\n",
    "cov_matrix_a = retorno_seguranca.cov() *250"
   ]
  },
  {
   "cell_type": "code",
   "execution_count": 139,
   "id": "234b0aae",
   "metadata": {},
   "outputs": [
    {
     "data": {
      "text/html": [
       "<div>\n",
       "<style scoped>\n",
       "    .dataframe tbody tr th:only-of-type {\n",
       "        vertical-align: middle;\n",
       "    }\n",
       "\n",
       "    .dataframe tbody tr th {\n",
       "        vertical-align: top;\n",
       "    }\n",
       "\n",
       "    .dataframe thead th {\n",
       "        text-align: right;\n",
       "    }\n",
       "</style>\n",
       "<table border=\"1\" class=\"dataframe\">\n",
       "  <thead>\n",
       "    <tr style=\"text-align: right;\">\n",
       "      <th></th>\n",
       "      <th>BBDC4.SA</th>\n",
       "      <th>BRAP4.SA</th>\n",
       "      <th>CMIG4.SA</th>\n",
       "      <th>GGBR4.SA</th>\n",
       "      <th>MGLU3.SA</th>\n",
       "    </tr>\n",
       "  </thead>\n",
       "  <tbody>\n",
       "    <tr>\n",
       "      <th>BBDC4.SA</th>\n",
       "      <td>1.000000</td>\n",
       "      <td>0.286501</td>\n",
       "      <td>0.583008</td>\n",
       "      <td>0.466277</td>\n",
       "      <td>0.344085</td>\n",
       "    </tr>\n",
       "    <tr>\n",
       "      <th>BRAP4.SA</th>\n",
       "      <td>0.286501</td>\n",
       "      <td>1.000000</td>\n",
       "      <td>0.263733</td>\n",
       "      <td>0.530448</td>\n",
       "      <td>0.173413</td>\n",
       "    </tr>\n",
       "    <tr>\n",
       "      <th>CMIG4.SA</th>\n",
       "      <td>0.583008</td>\n",
       "      <td>0.263733</td>\n",
       "      <td>1.000000</td>\n",
       "      <td>0.453645</td>\n",
       "      <td>0.396691</td>\n",
       "    </tr>\n",
       "    <tr>\n",
       "      <th>GGBR4.SA</th>\n",
       "      <td>0.466277</td>\n",
       "      <td>0.530448</td>\n",
       "      <td>0.453645</td>\n",
       "      <td>1.000000</td>\n",
       "      <td>0.297008</td>\n",
       "    </tr>\n",
       "    <tr>\n",
       "      <th>MGLU3.SA</th>\n",
       "      <td>0.344085</td>\n",
       "      <td>0.173413</td>\n",
       "      <td>0.396691</td>\n",
       "      <td>0.297008</td>\n",
       "      <td>1.000000</td>\n",
       "    </tr>\n",
       "  </tbody>\n",
       "</table>\n",
       "</div>"
      ],
      "text/plain": [
       "          BBDC4.SA  BRAP4.SA  CMIG4.SA  GGBR4.SA  MGLU3.SA\n",
       "BBDC4.SA  1.000000  0.286501  0.583008  0.466277  0.344085\n",
       "BRAP4.SA  0.286501  1.000000  0.263733  0.530448  0.173413\n",
       "CMIG4.SA  0.583008  0.263733  1.000000  0.453645  0.396691\n",
       "GGBR4.SA  0.466277  0.530448  0.453645  1.000000  0.297008\n",
       "MGLU3.SA  0.344085  0.173413  0.396691  0.297008  1.000000"
      ]
     },
     "execution_count": 139,
     "metadata": {},
     "output_type": "execute_result"
    }
   ],
   "source": [
    "corr_matrix = retorno_seguranca.corr()\n",
    "corr_matrix"
   ]
  },
  {
   "cell_type": "code",
   "execution_count": null,
   "id": "e5cc058d",
   "metadata": {},
   "outputs": [],
   "source": []
  },
  {
   "cell_type": "code",
   "execution_count": 140,
   "id": "8f742b04",
   "metadata": {},
   "outputs": [
    {
     "data": {
      "text/plain": [
       "0.02259591593396104"
      ]
     },
     "execution_count": 140,
     "metadata": {},
     "output_type": "execute_result"
    }
   ],
   "source": [
    "# Variancia carteira\n",
    "\n",
    "cart_var = (np.dot(dist.T, (np.dot(retorno_seguranca.cov() *250, dist))))\n",
    "cart_var"
   ]
  },
  {
   "cell_type": "code",
   "execution_count": 141,
   "id": "c4edc8e2",
   "metadata": {},
   "outputs": [
    {
     "name": "stdout",
     "output_type": "stream",
     "text": [
      "15.0 %\n"
     ]
    }
   ],
   "source": [
    "# Volatividade carteira (risco)\n",
    "cart_vol = (np.dot(dist.T, (np.dot(retorno_seguranca.cov() *250, dist)))) ** 0.5\n",
    "\n",
    "print(round(cart_vol, 2) *100, \"%\")"
   ]
  }
 ],
 "metadata": {
  "kernelspec": {
   "display_name": "financas",
   "language": "python",
   "name": "financas"
  },
  "language_info": {
   "codemirror_mode": {
    "name": "ipython",
    "version": 3
   },
   "file_extension": ".py",
   "mimetype": "text/x-python",
   "name": "python",
   "nbconvert_exporter": "python",
   "pygments_lexer": "ipython3",
   "version": "3.11.4"
  }
 },
 "nbformat": 4,
 "nbformat_minor": 5
}
