{
 "cells": [
  {
   "cell_type": "code",
   "execution_count": 50,
   "id": "4d25f7f3",
   "metadata": {},
   "outputs": [],
   "source": [
    "import numpy as np\n",
    "import matplotlib.pyplot as plt\n",
    "import yfinance as yf"
   ]
  },
  {
   "cell_type": "code",
   "execution_count": 51,
   "id": "5e2374a2",
   "metadata": {},
   "outputs": [
    {
     "name": "stdout",
     "output_type": "stream",
     "text": [
      "[*********************100%***********************]  2 of 2 completed\n"
     ]
    },
    {
     "data": {
      "text/html": [
       "<div>\n",
       "<style scoped>\n",
       "    .dataframe tbody tr th:only-of-type {\n",
       "        vertical-align: middle;\n",
       "    }\n",
       "\n",
       "    .dataframe tbody tr th {\n",
       "        vertical-align: top;\n",
       "    }\n",
       "\n",
       "    .dataframe thead th {\n",
       "        text-align: right;\n",
       "    }\n",
       "</style>\n",
       "<table border=\"1\" class=\"dataframe\">\n",
       "  <thead>\n",
       "    <tr style=\"text-align: right;\">\n",
       "      <th></th>\n",
       "      <th>AGRO3.SA</th>\n",
       "      <th>CAML3.SA</th>\n",
       "    </tr>\n",
       "    <tr>\n",
       "      <th>Date</th>\n",
       "      <th></th>\n",
       "      <th></th>\n",
       "    </tr>\n",
       "  </thead>\n",
       "  <tbody>\n",
       "    <tr>\n",
       "      <th>2023-09-25</th>\n",
       "      <td>28.190001</td>\n",
       "      <td>8.00</td>\n",
       "    </tr>\n",
       "    <tr>\n",
       "      <th>2023-09-26</th>\n",
       "      <td>27.530001</td>\n",
       "      <td>7.71</td>\n",
       "    </tr>\n",
       "    <tr>\n",
       "      <th>2023-09-27</th>\n",
       "      <td>27.820000</td>\n",
       "      <td>7.59</td>\n",
       "    </tr>\n",
       "    <tr>\n",
       "      <th>2023-09-28</th>\n",
       "      <td>27.900000</td>\n",
       "      <td>7.60</td>\n",
       "    </tr>\n",
       "    <tr>\n",
       "      <th>2023-09-29</th>\n",
       "      <td>28.330000</td>\n",
       "      <td>7.73</td>\n",
       "    </tr>\n",
       "  </tbody>\n",
       "</table>\n",
       "</div>"
      ],
      "text/plain": [
       "             AGRO3.SA  CAML3.SA\n",
       "Date                           \n",
       "2023-09-25  28.190001      8.00\n",
       "2023-09-26  27.530001      7.71\n",
       "2023-09-27  27.820000      7.59\n",
       "2023-09-28  27.900000      7.60\n",
       "2023-09-29  28.330000      7.73"
      ]
     },
     "execution_count": 51,
     "metadata": {},
     "output_type": "execute_result"
    }
   ],
   "source": [
    "tickers=[\"CAML3.SA\", \"AGRO3.SA\"]\n",
    "carteira = yf.download(tickers, start=\"2019-01-01\")['Adj Close'].dropna()\n",
    "carteira.tail()"
   ]
  },
  {
   "cell_type": "code",
   "execution_count": 52,
   "id": "473b791d",
   "metadata": {},
   "outputs": [
    {
     "data": {
      "text/html": [
       "<div>\n",
       "<style scoped>\n",
       "    .dataframe tbody tr th:only-of-type {\n",
       "        vertical-align: middle;\n",
       "    }\n",
       "\n",
       "    .dataframe tbody tr th {\n",
       "        vertical-align: top;\n",
       "    }\n",
       "\n",
       "    .dataframe thead th {\n",
       "        text-align: right;\n",
       "    }\n",
       "</style>\n",
       "<table border=\"1\" class=\"dataframe\">\n",
       "  <thead>\n",
       "    <tr style=\"text-align: right;\">\n",
       "      <th></th>\n",
       "      <th>AGRO3.SA</th>\n",
       "      <th>CAML3.SA</th>\n",
       "    </tr>\n",
       "    <tr>\n",
       "      <th>Date</th>\n",
       "      <th></th>\n",
       "      <th></th>\n",
       "    </tr>\n",
       "  </thead>\n",
       "  <tbody>\n",
       "    <tr>\n",
       "      <th>2023-09-25</th>\n",
       "      <td>0.009982</td>\n",
       "      <td>-0.009950</td>\n",
       "    </tr>\n",
       "    <tr>\n",
       "      <th>2023-09-26</th>\n",
       "      <td>-0.023691</td>\n",
       "      <td>-0.036923</td>\n",
       "    </tr>\n",
       "    <tr>\n",
       "      <th>2023-09-27</th>\n",
       "      <td>0.010479</td>\n",
       "      <td>-0.015687</td>\n",
       "    </tr>\n",
       "    <tr>\n",
       "      <th>2023-09-28</th>\n",
       "      <td>0.002871</td>\n",
       "      <td>0.001317</td>\n",
       "    </tr>\n",
       "    <tr>\n",
       "      <th>2023-09-29</th>\n",
       "      <td>0.015295</td>\n",
       "      <td>0.016961</td>\n",
       "    </tr>\n",
       "  </tbody>\n",
       "</table>\n",
       "</div>"
      ],
      "text/plain": [
       "            AGRO3.SA  CAML3.SA\n",
       "Date                          \n",
       "2023-09-25  0.009982 -0.009950\n",
       "2023-09-26 -0.023691 -0.036923\n",
       "2023-09-27  0.010479 -0.015687\n",
       "2023-09-28  0.002871  0.001317\n",
       "2023-09-29  0.015295  0.016961"
      ]
     },
     "execution_count": 52,
     "metadata": {},
     "output_type": "execute_result"
    }
   ],
   "source": [
    "retorno_seguranca = np.log(carteira / carteira.shift(1))\n",
    "retorno_seguranca.tail()"
   ]
  },
  {
   "cell_type": "code",
   "execution_count": 53,
   "id": "18cdfa9f",
   "metadata": {},
   "outputs": [
    {
     "name": "stdout",
     "output_type": "stream",
     "text": [
      "Retorno diario CAML3.SA : 0.019102144112033752\n",
      "Retorno anualisado CAML3.SA : 4.775536028008438\n",
      "Retorno diario AGRO3.SA : 0.07802637341258505\n",
      "Retorno anualisado AGRO3.SA : 19.50659335314626\n"
     ]
    }
   ],
   "source": [
    "for ticker in tickers:\n",
    "    print(\"Retorno diario\", ticker, \":\",  retorno_seguranca[ticker].mean() *100)\n",
    "    print(\"Retorno anualisado\", ticker, \":\",  retorno_seguranca[ticker].mean() * 250 *100)"
   ]
  },
  {
   "cell_type": "code",
   "execution_count": 54,
   "id": "8962ca2e",
   "metadata": {},
   "outputs": [
    {
     "name": "stdout",
     "output_type": "stream",
     "text": [
      "std diario CAML3.SA : 0.02368717381907412\n",
      "std anualisado CAML3.SA : 0.374527103002917\n",
      "std diario AGRO3.SA : 0.020148952549230447\n",
      "std anualisado AGRO3.SA : 0.3185829126111208\n"
     ]
    }
   ],
   "source": [
    "# desvio padrão para medir volatividade\n",
    "for ticker in tickers:\n",
    "    print(\"std diario\", ticker, \":\",  retorno_seguranca[ticker].std())\n",
    "    print(\"std anualisado\", ticker, \":\",  retorno_seguranca[ticker].std() * 250 ** 0.5)"
   ]
  },
  {
   "cell_type": "code",
   "execution_count": 55,
   "id": "a98524b1",
   "metadata": {},
   "outputs": [
    {
     "name": "stdout",
     "output_type": "stream",
     "text": [
      "AGRO3.SA tem menos risco que CAML3.SA\n"
     ]
    }
   ],
   "source": [
    "ticker1 =   retorno_seguranca[tickers[1]].std() * 250 ** 0.5\n",
    "ticker0 =  retorno_seguranca[tickers[0]].std() * 250 ** 0.5\n",
    "\n",
    "if ticker1 > ticker0:\n",
    "    print(tickers[0], \"tem menos risco que\", tickers[1])\n",
    "else: \n",
    "     print(tickers[1], \"tem menos risco que\", tickers[0])"
   ]
  },
  {
   "cell_type": "code",
   "execution_count": null,
   "id": "234b0aae",
   "metadata": {},
   "outputs": [],
   "source": []
  }
 ],
 "metadata": {
  "kernelspec": {
   "display_name": "financas",
   "language": "python",
   "name": "financas"
  },
  "language_info": {
   "codemirror_mode": {
    "name": "ipython",
    "version": 3
   },
   "file_extension": ".py",
   "mimetype": "text/x-python",
   "name": "python",
   "nbconvert_exporter": "python",
   "pygments_lexer": "ipython3",
   "version": "3.11.4"
  }
 },
 "nbformat": 4,
 "nbformat_minor": 5
}
