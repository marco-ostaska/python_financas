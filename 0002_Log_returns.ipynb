{
 "cells": [
  {
   "cell_type": "code",
   "execution_count": 20,
   "id": "c434794e",
   "metadata": {},
   "outputs": [],
   "source": [
    "import numpy as np\n",
    "import matplotlib.pyplot as plt\n",
    "import pandas_datareader as pdr\n",
    "import yfinance as yf\n",
    "import datetime"
   ]
  },
  {
   "cell_type": "code",
   "execution_count": 36,
   "id": "f63e5f9c",
   "metadata": {},
   "outputs": [
    {
     "name": "stdout",
     "output_type": "stream",
     "text": [
      "[*********************100%***********************]  1 of 1 completed\n"
     ]
    },
    {
     "data": {
      "text/html": [
       "<div>\n",
       "<style scoped>\n",
       "    .dataframe tbody tr th:only-of-type {\n",
       "        vertical-align: middle;\n",
       "    }\n",
       "\n",
       "    .dataframe tbody tr th {\n",
       "        vertical-align: top;\n",
       "    }\n",
       "\n",
       "    .dataframe thead th {\n",
       "        text-align: right;\n",
       "    }\n",
       "</style>\n",
       "<table border=\"1\" class=\"dataframe\">\n",
       "  <thead>\n",
       "    <tr style=\"text-align: right;\">\n",
       "      <th></th>\n",
       "      <th>Open</th>\n",
       "      <th>High</th>\n",
       "      <th>Low</th>\n",
       "      <th>Close</th>\n",
       "      <th>Adj Close</th>\n",
       "      <th>Volume</th>\n",
       "    </tr>\n",
       "    <tr>\n",
       "      <th>Date</th>\n",
       "      <th></th>\n",
       "      <th></th>\n",
       "      <th></th>\n",
       "      <th></th>\n",
       "      <th></th>\n",
       "      <th></th>\n",
       "    </tr>\n",
       "  </thead>\n",
       "  <tbody>\n",
       "    <tr>\n",
       "      <th>2019-08-16</th>\n",
       "      <td>105.550003</td>\n",
       "      <td>106.989998</td>\n",
       "      <td>102.099998</td>\n",
       "      <td>102.099998</td>\n",
       "      <td>88.177841</td>\n",
       "      <td>373281</td>\n",
       "    </tr>\n",
       "    <tr>\n",
       "      <th>2019-08-19</th>\n",
       "      <td>102.639999</td>\n",
       "      <td>103.489998</td>\n",
       "      <td>102.500000</td>\n",
       "      <td>103.099998</td>\n",
       "      <td>89.041489</td>\n",
       "      <td>159378</td>\n",
       "    </tr>\n",
       "    <tr>\n",
       "      <th>2019-08-20</th>\n",
       "      <td>103.110001</td>\n",
       "      <td>103.500000</td>\n",
       "      <td>102.720001</td>\n",
       "      <td>102.730003</td>\n",
       "      <td>88.721962</td>\n",
       "      <td>58139</td>\n",
       "    </tr>\n",
       "    <tr>\n",
       "      <th>2019-08-21</th>\n",
       "      <td>103.339996</td>\n",
       "      <td>103.339996</td>\n",
       "      <td>102.739998</td>\n",
       "      <td>103.000000</td>\n",
       "      <td>88.955139</td>\n",
       "      <td>30427</td>\n",
       "    </tr>\n",
       "    <tr>\n",
       "      <th>2019-08-22</th>\n",
       "      <td>103.010002</td>\n",
       "      <td>103.260002</td>\n",
       "      <td>102.599998</td>\n",
       "      <td>102.610001</td>\n",
       "      <td>88.618309</td>\n",
       "      <td>52037</td>\n",
       "    </tr>\n",
       "  </tbody>\n",
       "</table>\n",
       "</div>"
      ],
      "text/plain": [
       "                  Open        High         Low       Close  Adj Close  Volume\n",
       "Date                                                                         \n",
       "2019-08-16  105.550003  106.989998  102.099998  102.099998  88.177841  373281\n",
       "2019-08-19  102.639999  103.489998  102.500000  103.099998  89.041489  159378\n",
       "2019-08-20  103.110001  103.500000  102.720001  102.730003  88.721962   58139\n",
       "2019-08-21  103.339996  103.339996  102.739998  103.000000  88.955139   30427\n",
       "2019-08-22  103.010002  103.260002  102.599998  102.610001  88.618309   52037"
      ]
     },
     "execution_count": 36,
     "metadata": {},
     "output_type": "execute_result"
    }
   ],
   "source": [
    "acao = yf.download(\"HSML11.SA\", start=\"2000-01-01\")\n",
    "acao.head()"
   ]
  },
  {
   "cell_type": "code",
   "execution_count": 37,
   "id": "ace32073",
   "metadata": {},
   "outputs": [
    {
     "data": {
      "text/html": [
       "<div>\n",
       "<style scoped>\n",
       "    .dataframe tbody tr th:only-of-type {\n",
       "        vertical-align: middle;\n",
       "    }\n",
       "\n",
       "    .dataframe tbody tr th {\n",
       "        vertical-align: top;\n",
       "    }\n",
       "\n",
       "    .dataframe thead th {\n",
       "        text-align: right;\n",
       "    }\n",
       "</style>\n",
       "<table border=\"1\" class=\"dataframe\">\n",
       "  <thead>\n",
       "    <tr style=\"text-align: right;\">\n",
       "      <th></th>\n",
       "      <th>Open</th>\n",
       "      <th>High</th>\n",
       "      <th>Low</th>\n",
       "      <th>Close</th>\n",
       "      <th>Adj Close</th>\n",
       "      <th>Volume</th>\n",
       "      <th>log_return</th>\n",
       "    </tr>\n",
       "    <tr>\n",
       "      <th>Date</th>\n",
       "      <th></th>\n",
       "      <th></th>\n",
       "      <th></th>\n",
       "      <th></th>\n",
       "      <th></th>\n",
       "      <th></th>\n",
       "      <th></th>\n",
       "    </tr>\n",
       "  </thead>\n",
       "  <tbody>\n",
       "    <tr>\n",
       "      <th>2019-08-16</th>\n",
       "      <td>105.550003</td>\n",
       "      <td>106.989998</td>\n",
       "      <td>102.099998</td>\n",
       "      <td>102.099998</td>\n",
       "      <td>88.177841</td>\n",
       "      <td>373281</td>\n",
       "      <td>NaN</td>\n",
       "    </tr>\n",
       "    <tr>\n",
       "      <th>2019-08-19</th>\n",
       "      <td>102.639999</td>\n",
       "      <td>103.489998</td>\n",
       "      <td>102.500000</td>\n",
       "      <td>103.099998</td>\n",
       "      <td>89.041489</td>\n",
       "      <td>159378</td>\n",
       "      <td>0.009747</td>\n",
       "    </tr>\n",
       "    <tr>\n",
       "      <th>2019-08-20</th>\n",
       "      <td>103.110001</td>\n",
       "      <td>103.500000</td>\n",
       "      <td>102.720001</td>\n",
       "      <td>102.730003</td>\n",
       "      <td>88.721962</td>\n",
       "      <td>58139</td>\n",
       "      <td>-0.003595</td>\n",
       "    </tr>\n",
       "    <tr>\n",
       "      <th>2019-08-21</th>\n",
       "      <td>103.339996</td>\n",
       "      <td>103.339996</td>\n",
       "      <td>102.739998</td>\n",
       "      <td>103.000000</td>\n",
       "      <td>88.955139</td>\n",
       "      <td>30427</td>\n",
       "      <td>0.002625</td>\n",
       "    </tr>\n",
       "    <tr>\n",
       "      <th>2019-08-22</th>\n",
       "      <td>103.010002</td>\n",
       "      <td>103.260002</td>\n",
       "      <td>102.599998</td>\n",
       "      <td>102.610001</td>\n",
       "      <td>88.618309</td>\n",
       "      <td>52037</td>\n",
       "      <td>-0.003794</td>\n",
       "    </tr>\n",
       "  </tbody>\n",
       "</table>\n",
       "</div>"
      ],
      "text/plain": [
       "                  Open        High         Low  ...  Adj Close  Volume  log_return\n",
       "Date                                            ...                               \n",
       "2019-08-16  105.550003  106.989998  102.099998  ...  88.177841  373281         NaN\n",
       "2019-08-19  102.639999  103.489998  102.500000  ...  89.041489  159378    0.009747\n",
       "2019-08-20  103.110001  103.500000  102.720001  ...  88.721962   58139   -0.003595\n",
       "2019-08-21  103.339996  103.339996  102.739998  ...  88.955139   30427    0.002625\n",
       "2019-08-22  103.010002  103.260002  102.599998  ...  88.618309   52037   -0.003794\n",
       "\n",
       "[5 rows x 7 columns]"
      ]
     },
     "execution_count": 37,
     "metadata": {},
     "output_type": "execute_result"
    }
   ],
   "source": [
    "acao['log_return'] = np.log(acao['Adj Close'] / acao['Adj Close'].shift(1))\n",
    "acao.head()"
   ]
  },
  {
   "cell_type": "code",
   "execution_count": 38,
   "id": "d2353ec6",
   "metadata": {},
   "outputs": [
    {
     "data": {
      "text/plain": [
       "<Axes: xlabel='Date'>"
      ]
     },
     "execution_count": 38,
     "metadata": {},
     "output_type": "execute_result"
    },
    {
     "data": {
      "image/png": "[encoded data removed]",
      "text/plain": [
       "<Figure size 800x500 with 1 Axes>"
      ]
     },
     "metadata": {},
     "output_type": "display_data"
    }
   ],
   "source": [
    "acao['log_return'] .plot(figsize=(8,5))"
   ]
  },
  {
   "cell_type": "code",
   "execution_count": 1,
   "id": "ab259628",
   "metadata": {},
   "outputs": [
    {
     "ename": "NameError",
     "evalue": "name 'acao' is not defined",
     "output_type": "error",
     "traceback": [
      "\u001b[1;31m---------------------------------------------------------------------------\u001b[0m",
      "\u001b[1;31mNameError\u001b[0m                                 Traceback (most recent call last)",
      "Cell \u001b[1;32mIn[1], line 1\u001b[0m\n\u001b[1;32m----> 1\u001b[0m avg_returns\u001b[38;5;241m=\u001b[39m acao[\u001b[38;5;124m'\u001b[39m\u001b[38;5;124mlog_return\u001b[39m\u001b[38;5;124m'\u001b[39m]\u001b[38;5;241m.\u001b[39mmean() \u001b[38;5;241m*\u001b[39m\u001b[38;5;241m250\u001b[39m\n\u001b[0;32m      2\u001b[0m \u001b[38;5;28mprint\u001b[39m(\u001b[38;5;28mround\u001b[39m(avg_returns,\u001b[38;5;241m2\u001b[39m)\u001b[38;5;241m*\u001b[39m\u001b[38;5;241m100\u001b[39m, \u001b[38;5;124m\"\u001b[39m\u001b[38;5;124m%\u001b[39m\u001b[38;5;124m\"\u001b[39m)\n",
      "\u001b[1;31mNameError\u001b[0m: name 'acao' is not defined"
     ]
    }
   ],
   "source": [
    "avg_returns= acao['log_return'].mean() *250\n",
    "print(round(avg_returns,2)*100, \"%\")"
   ]
  },
  {
   "cell_type": "code",
   "execution_count": null,
   "id": "d0d9fcab",
   "metadata": {},
   "outputs": [],
   "source": []
  }
 ],
 "metadata": {
  "kernelspec": {
   "display_name": "financas",
   "language": "python",
   "name": "financas"
  },
  "language_info": {
   "codemirror_mode": {
    "name": "ipython",
    "version": 3
   },
   "file_extension": ".py",
   "mimetype": "text/x-python",
   "name": "python",
   "nbconvert_exporter": "python",
   "pygments_lexer": "ipython3",
   "version": "3.11.4"
  }
 },
 "nbformat": 4,
 "nbformat_minor": 5
}
