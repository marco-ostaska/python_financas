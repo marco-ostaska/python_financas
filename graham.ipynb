{
 "cells": [
  {
   "cell_type": "code",
   "execution_count": 13,
   "id": "3b1eea6b",
   "metadata": {},
   "outputs": [
    {
     "data": {
      "text/plain": [
       "{'maxAge': 86400,\n",
       " 'priceHint': 2,\n",
       " 'previousClose': 89.01,\n",
       " 'open': 89.4,\n",
       " 'dayLow': 88.93,\n",
       " 'dayHigh': 89.87,\n",
       " 'regularMarketPreviousClose': 89.01,\n",
       " 'regularMarketOpen': 89.4,\n",
       " 'regularMarketDayLow': 88.93,\n",
       " 'regularMarketDayHigh': 89.87,\n",
       " 'volume': 9819,\n",
       " 'regularMarketVolume': 9819,\n",
       " 'averageVolume': 8109,\n",
       " 'averageVolume10days': 10688,\n",
       " 'averageDailyVolume10Day': 10688,\n",
       " 'bid': 89.54,\n",
       " 'ask': 89.58,\n",
       " 'fiftyTwoWeekLow': 82.3,\n",
       " 'fiftyTwoWeekHigh': 92.5,\n",
       " 'fiftyDayAverage': 88.7306,\n",
       " 'twoHundredDayAverage': 86.5432,\n",
       " 'currency': 'BRL',\n",
       " 'exchange': 'SAO',\n",
       " 'quoteType': 'EQUITY',\n",
       " 'symbol': 'XPID11.SA',\n",
       " 'underlyingSymbol': 'XPID11.SA',\n",
       " 'shortName': 'FIRF XP IE  CI',\n",
       " 'longName': 'XP FIC De Fundos Incentivados De Investimento Em Infraestrutura Renda Fixa',\n",
       " 'firstTradeDateEpochUtc': 1618578000,\n",
       " 'timeZoneFullName': 'America/Sao_Paulo',\n",
       " 'timeZoneShortName': 'BRT',\n",
       " 'uuid': '2a97d53d-424d-3158-948b-a6ccd7d2d4ed',\n",
       " 'messageBoardId': 'finmb_691641390',\n",
       " 'gmtOffSetMilliseconds': -10800000,\n",
       " 'trailingPegRatio': None}"
      ]
     },
     "execution_count": 13,
     "metadata": {},
     "output_type": "execute_result"
    }
   ],
   "source": [
    "import numpy as np\n",
    "import pandas as pd\n",
    "import matplotlib.pyplot as plt\n",
    "import yfinance as yf\n",
    "\n",
    "a = yf.Ticker(\"XPID11.SA\")\n",
    "a.get_info()"
   ]
  },
  {
   "cell_type": "code",
   "execution_count": 9,
   "id": "926fed4f",
   "metadata": {},
   "outputs": [
    {
     "ename": "KeyError",
     "evalue": "'trailingEps'",
     "output_type": "error",
     "traceback": [
      "\u001b[0;31m---------------------------------------------------------------------------\u001b[0m",
      "\u001b[0;31mKeyError\u001b[0m                                  Traceback (most recent call last)",
      "Cell \u001b[0;32mIn[9], line 13\u001b[0m\n\u001b[1;32m     10\u001b[0m     V \u001b[38;5;241m=\u001b[39m eps \u001b[38;5;241m*\u001b[39m (\u001b[38;5;241m8.5\u001b[39m \u001b[38;5;241m+\u001b[39m \u001b[38;5;241m2\u001b[39m \u001b[38;5;241m*\u001b[39m (g \u001b[38;5;241m*\u001b[39m \u001b[38;5;241m100\u001b[39m))\n\u001b[1;32m     11\u001b[0m     \u001b[38;5;28;01mreturn\u001b[39;00m V\n\u001b[0;32m---> 13\u001b[0m preco_teto_graham(\u001b[38;5;124m\"\u001b[39m\u001b[38;5;124mIFRA11.SA\u001b[39m\u001b[38;5;124m\"\u001b[39m)\n",
      "Cell \u001b[0;32mIn[9], line 3\u001b[0m, in \u001b[0;36mpreco_teto_graham\u001b[0;34m(ticker)\u001b[0m\n\u001b[1;32m      1\u001b[0m \u001b[38;5;28;01mdef\u001b[39;00m \u001b[38;5;21mpreco_teto_graham\u001b[39m(ticker):\n\u001b[1;32m      2\u001b[0m     stock_info \u001b[38;5;241m=\u001b[39m yf\u001b[38;5;241m.\u001b[39mTicker(ticker)\n\u001b[0;32m----> 3\u001b[0m     eps \u001b[38;5;241m=\u001b[39m stock_info\u001b[38;5;241m.\u001b[39minfo[\u001b[38;5;124m'\u001b[39m\u001b[38;5;124mtrailingEps\u001b[39m\u001b[38;5;124m'\u001b[39m]  \u001b[38;5;66;03m# Lucro por ação dos últimos 12 meses\u001b[39;00m\n\u001b[1;32m      5\u001b[0m     \u001b[38;5;66;03m# Aqui, precisamos de uma estimativa da taxa de crescimento dos lucros (g).\u001b[39;00m\n\u001b[1;32m      6\u001b[0m     \u001b[38;5;66;03m# Neste exemplo, estou usando um valor fictício de 0.05 (ou 5%).\u001b[39;00m\n\u001b[1;32m      7\u001b[0m     \u001b[38;5;66;03m# Você deve substituir isso por um cálculo ou valor mais preciso.\u001b[39;00m\n\u001b[1;32m      8\u001b[0m     g \u001b[38;5;241m=\u001b[39m \u001b[38;5;241m0.06\u001b[39m\n",
      "\u001b[0;31mKeyError\u001b[0m: 'trailingEps'"
     ]
    }
   ],
   "source": [
    "def preco_teto_graham(ticker):\n",
    "    stock_info = yf.Ticker(ticker)\n",
    "    eps = stock_info.info['trailingEps']  # Lucro por ação dos últimos 12 meses\n",
    "\n",
    "    # Aqui, precisamos de uma estimativa da taxa de crescimento dos lucros (g).\n",
    "    # Neste exemplo, estou usando um valor fictício de 0.05 (ou 5%).\n",
    "    # Você deve substituir isso por um cálculo ou valor mais preciso.\n",
    "    g = 0.06\n",
    "\n",
    "    V = eps * (8.5 + 2 * (g * 100))\n",
    "    return V\n",
    "\n",
    "preco_teto_graham(\"IFRA11.SA\")"
   ]
  },
  {
   "cell_type": "code",
   "execution_count": 17,
   "id": "34cdfc6c",
   "metadata": {},
   "outputs": [
    {
     "ename": "HTTPError",
     "evalue": "401 Client Error: Unauthorized for url: https://query1.finance.yahoo.com/v7/finance/quote?formatted=true&lang=en-US&symbols=MSFT",
     "output_type": "error",
     "traceback": [
      "\u001b[1;31m---------------------------------------------------------------------------\u001b[0m",
      "\u001b[1;31mHTTPError\u001b[0m                                 Traceback (most recent call last)",
      "Cell \u001b[1;32mIn[17], line 4\u001b[0m\n\u001b[0;32m      2\u001b[0m \u001b[38;5;28;01mimport\u001b[39;00m \u001b[38;5;21;01myfinance\u001b[39;00m \u001b[38;5;28;01mas\u001b[39;00m \u001b[38;5;21;01myf\u001b[39;00m\n\u001b[0;32m      3\u001b[0m msft \u001b[38;5;241m=\u001b[39m yf\u001b[38;5;241m.\u001b[39mTicker(\u001b[38;5;124m\"\u001b[39m\u001b[38;5;124mMSFT\u001b[39m\u001b[38;5;124m\"\u001b[39m)\n\u001b[1;32m----> 4\u001b[0m res \u001b[38;5;241m=\u001b[39m msft\u001b[38;5;241m.\u001b[39mget_info()\n\u001b[0;32m      5\u001b[0m pd\u001b[38;5;241m.\u001b[39mDataFrame([res])\n",
      "File \u001b[1;32m~\\miniconda3\\Lib\\site-packages\\yfinance\\base.py:1475\u001b[0m, in \u001b[0;36mTickerBase.get_info\u001b[1;34m(self, proxy)\u001b[0m\n\u001b[0;32m   1473\u001b[0m \u001b[38;5;28;01mdef\u001b[39;00m \u001b[38;5;21mget_info\u001b[39m(\u001b[38;5;28mself\u001b[39m, proxy\u001b[38;5;241m=\u001b[39m\u001b[38;5;28;01mNone\u001b[39;00m) \u001b[38;5;241m-\u001b[39m\u001b[38;5;241m>\u001b[39m \u001b[38;5;28mdict\u001b[39m:\n\u001b[0;32m   1474\u001b[0m     \u001b[38;5;28mself\u001b[39m\u001b[38;5;241m.\u001b[39m_quote\u001b[38;5;241m.\u001b[39mproxy \u001b[38;5;241m=\u001b[39m proxy\n\u001b[1;32m-> 1475\u001b[0m     data \u001b[38;5;241m=\u001b[39m \u001b[38;5;28mself\u001b[39m\u001b[38;5;241m.\u001b[39m_quote\u001b[38;5;241m.\u001b[39minfo\n\u001b[0;32m   1476\u001b[0m     \u001b[38;5;28;01mreturn\u001b[39;00m data\n",
      "File \u001b[1;32m~\\miniconda3\\Lib\\site-packages\\yfinance\\scrapers\\quote.py:98\u001b[0m, in \u001b[0;36mQuote.info\u001b[1;34m(self)\u001b[0m\n\u001b[0;32m     94\u001b[0m \u001b[38;5;129m@property\u001b[39m\n\u001b[0;32m     95\u001b[0m \u001b[38;5;28;01mdef\u001b[39;00m \u001b[38;5;21minfo\u001b[39m(\u001b[38;5;28mself\u001b[39m) \u001b[38;5;241m-\u001b[39m\u001b[38;5;241m>\u001b[39m \u001b[38;5;28mdict\u001b[39m:\n\u001b[0;32m     96\u001b[0m     \u001b[38;5;28;01mif\u001b[39;00m \u001b[38;5;28mself\u001b[39m\u001b[38;5;241m.\u001b[39m_info \u001b[38;5;129;01mis\u001b[39;00m \u001b[38;5;28;01mNone\u001b[39;00m:\n\u001b[0;32m     97\u001b[0m         \u001b[38;5;66;03m# self._scrape(self.proxy)  # decrypt broken\u001b[39;00m\n\u001b[1;32m---> 98\u001b[0m         \u001b[38;5;28mself\u001b[39m\u001b[38;5;241m.\u001b[39m_fetch(\u001b[38;5;28mself\u001b[39m\u001b[38;5;241m.\u001b[39mproxy)\n\u001b[0;32m    100\u001b[0m         \u001b[38;5;28mself\u001b[39m\u001b[38;5;241m.\u001b[39m_fetch_complementary(\u001b[38;5;28mself\u001b[39m\u001b[38;5;241m.\u001b[39mproxy)\n\u001b[0;32m    102\u001b[0m     \u001b[38;5;28;01mreturn\u001b[39;00m \u001b[38;5;28mself\u001b[39m\u001b[38;5;241m.\u001b[39m_info\n",
      "File \u001b[1;32m~\\miniconda3\\Lib\\site-packages\\yfinance\\scrapers\\quote.py:248\u001b[0m, in \u001b[0;36mQuote._fetch\u001b[1;34m(self, proxy)\u001b[0m\n\u001b[0;32m    245\u001b[0m     \u001b[38;5;28;01mreturn\u001b[39;00m\n\u001b[0;32m    246\u001b[0m \u001b[38;5;28mself\u001b[39m\u001b[38;5;241m.\u001b[39m_already_fetched \u001b[38;5;241m=\u001b[39m \u001b[38;5;28;01mTrue\u001b[39;00m\n\u001b[1;32m--> 248\u001b[0m result \u001b[38;5;241m=\u001b[39m \u001b[38;5;28mself\u001b[39m\u001b[38;5;241m.\u001b[39m_data\u001b[38;5;241m.\u001b[39mget_raw_json(\n\u001b[0;32m    249\u001b[0m     _BASIC_URL_, params\u001b[38;5;241m=\u001b[39m{\u001b[38;5;124m\"\u001b[39m\u001b[38;5;124mformatted\u001b[39m\u001b[38;5;124m\"\u001b[39m: \u001b[38;5;124m\"\u001b[39m\u001b[38;5;124mtrue\u001b[39m\u001b[38;5;124m\"\u001b[39m, \u001b[38;5;124m\"\u001b[39m\u001b[38;5;124mlang\u001b[39m\u001b[38;5;124m\"\u001b[39m: \u001b[38;5;124m\"\u001b[39m\u001b[38;5;124men-US\u001b[39m\u001b[38;5;124m\"\u001b[39m, \u001b[38;5;124m\"\u001b[39m\u001b[38;5;124msymbols\u001b[39m\u001b[38;5;124m\"\u001b[39m: \u001b[38;5;28mself\u001b[39m\u001b[38;5;241m.\u001b[39m_data\u001b[38;5;241m.\u001b[39mticker}, proxy\u001b[38;5;241m=\u001b[39mproxy\n\u001b[0;32m    250\u001b[0m )\n\u001b[0;32m    251\u001b[0m query1_info \u001b[38;5;241m=\u001b[39m \u001b[38;5;28mnext\u001b[39m(\n\u001b[0;32m    252\u001b[0m     (info \u001b[38;5;28;01mfor\u001b[39;00m info \u001b[38;5;129;01min\u001b[39;00m result\u001b[38;5;241m.\u001b[39mget(\u001b[38;5;124m\"\u001b[39m\u001b[38;5;124mquoteResponse\u001b[39m\u001b[38;5;124m\"\u001b[39m, {})\u001b[38;5;241m.\u001b[39mget(\u001b[38;5;124m\"\u001b[39m\u001b[38;5;124mresult\u001b[39m\u001b[38;5;124m\"\u001b[39m, []) \u001b[38;5;28;01mif\u001b[39;00m info[\u001b[38;5;124m\"\u001b[39m\u001b[38;5;124msymbol\u001b[39m\u001b[38;5;124m\"\u001b[39m] \u001b[38;5;241m==\u001b[39m \u001b[38;5;28mself\u001b[39m\u001b[38;5;241m.\u001b[39m_data\u001b[38;5;241m.\u001b[39mticker),\n\u001b[0;32m    253\u001b[0m     \u001b[38;5;28;01mNone\u001b[39;00m,\n\u001b[0;32m    254\u001b[0m )\n\u001b[0;32m    255\u001b[0m \u001b[38;5;28;01mfor\u001b[39;00m k, v \u001b[38;5;129;01min\u001b[39;00m query1_info\u001b[38;5;241m.\u001b[39mitems():\n",
      "File \u001b[1;32m~\\miniconda3\\Lib\\site-packages\\yfinance\\data.py:209\u001b[0m, in \u001b[0;36mTickerData.get_raw_json\u001b[1;34m(self, url, user_agent_headers, params, proxy, timeout)\u001b[0m\n\u001b[0;32m    207\u001b[0m \u001b[38;5;28;01mdef\u001b[39;00m \u001b[38;5;21mget_raw_json\u001b[39m(\u001b[38;5;28mself\u001b[39m, url, user_agent_headers\u001b[38;5;241m=\u001b[39m\u001b[38;5;28;01mNone\u001b[39;00m, params\u001b[38;5;241m=\u001b[39m\u001b[38;5;28;01mNone\u001b[39;00m, proxy\u001b[38;5;241m=\u001b[39m\u001b[38;5;28;01mNone\u001b[39;00m, timeout\u001b[38;5;241m=\u001b[39m\u001b[38;5;241m30\u001b[39m):\n\u001b[0;32m    208\u001b[0m     response \u001b[38;5;241m=\u001b[39m \u001b[38;5;28mself\u001b[39m\u001b[38;5;241m.\u001b[39mget(url, user_agent_headers\u001b[38;5;241m=\u001b[39muser_agent_headers, params\u001b[38;5;241m=\u001b[39mparams, proxy\u001b[38;5;241m=\u001b[39mproxy, timeout\u001b[38;5;241m=\u001b[39mtimeout)\n\u001b[1;32m--> 209\u001b[0m     response\u001b[38;5;241m.\u001b[39mraise_for_status()\n\u001b[0;32m    210\u001b[0m     \u001b[38;5;28;01mreturn\u001b[39;00m response\u001b[38;5;241m.\u001b[39mjson()\n",
      "File \u001b[1;32m~\\miniconda3\\Lib\\site-packages\\requests\\models.py:1021\u001b[0m, in \u001b[0;36mResponse.raise_for_status\u001b[1;34m(self)\u001b[0m\n\u001b[0;32m   1016\u001b[0m     http_error_msg \u001b[38;5;241m=\u001b[39m (\n\u001b[0;32m   1017\u001b[0m         \u001b[38;5;124mf\u001b[39m\u001b[38;5;124m\"\u001b[39m\u001b[38;5;132;01m{\u001b[39;00m\u001b[38;5;28mself\u001b[39m\u001b[38;5;241m.\u001b[39mstatus_code\u001b[38;5;132;01m}\u001b[39;00m\u001b[38;5;124m Server Error: \u001b[39m\u001b[38;5;132;01m{\u001b[39;00mreason\u001b[38;5;132;01m}\u001b[39;00m\u001b[38;5;124m for url: \u001b[39m\u001b[38;5;132;01m{\u001b[39;00m\u001b[38;5;28mself\u001b[39m\u001b[38;5;241m.\u001b[39murl\u001b[38;5;132;01m}\u001b[39;00m\u001b[38;5;124m\"\u001b[39m\n\u001b[0;32m   1018\u001b[0m     )\n\u001b[0;32m   1020\u001b[0m \u001b[38;5;28;01mif\u001b[39;00m http_error_msg:\n\u001b[1;32m-> 1021\u001b[0m     \u001b[38;5;28;01mraise\u001b[39;00m HTTPError(http_error_msg, response\u001b[38;5;241m=\u001b[39m\u001b[38;5;28mself\u001b[39m)\n",
      "\u001b[1;31mHTTPError\u001b[0m: 401 Client Error: Unauthorized for url: https://query1.finance.yahoo.com/v7/finance/quote?formatted=true&lang=en-US&symbols=MSFT"
     ]
    }
   ],
   "source": [
    "import pandas as pd\n",
    "import yfinance as yf\n",
    "msft = yf.Ticker(\"MSFT\")\n",
    "res = msft.get_info()\n",
    "pd.DataFrame([res])"
   ]
  },
  {
   "cell_type": "code",
   "execution_count": 16,
   "id": "928a29fc",
   "metadata": {},
   "outputs": [
    {
     "ename": "ModuleNotFoundError",
     "evalue": "No module named 'yahooquery'",
     "output_type": "error",
     "traceback": [
      "\u001b[1;31m---------------------------------------------------------------------------\u001b[0m",
      "\u001b[1;31mModuleNotFoundError\u001b[0m                       Traceback (most recent call last)",
      "Cell \u001b[1;32mIn[16], line 1\u001b[0m\n\u001b[1;32m----> 1\u001b[0m \u001b[38;5;28;01mfrom\u001b[39;00m \u001b[38;5;21;01myahooquery\u001b[39;00m \u001b[38;5;28;01mimport\u001b[39;00m Ticker\n\u001b[0;32m      3\u001b[0m aapl \u001b[38;5;241m=\u001b[39m Ticker(\u001b[38;5;124m'\u001b[39m\u001b[38;5;124maapl\u001b[39m\u001b[38;5;124m'\u001b[39m)\n",
      "\u001b[1;31mModuleNotFoundError\u001b[0m: No module named 'yahooquery'"
     ]
    }
   ],
   "source": [
    "from yahooquery import Ticker\n",
    "\n",
    "aapl = Ticker('aapl')"
   ]
  }
 ],
 "metadata": {
  "kernelspec": {
   "display_name": "Python 3 (ipykernel)",
   "language": "python",
   "name": "python3"
  },
  "language_info": {
   "codemirror_mode": {
    "name": "ipython",
    "version": 3
   },
   "file_extension": ".py",
   "mimetype": "text/x-python",
   "name": "python",
   "nbconvert_exporter": "python",
   "pygments_lexer": "ipython3",
   "version": "3.11.5"
  }
 },
 "nbformat": 4,
 "nbformat_minor": 5
}
