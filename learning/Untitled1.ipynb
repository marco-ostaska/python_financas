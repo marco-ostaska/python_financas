{
 "cells": [
  {
   "cell_type": "code",
   "execution_count": 12,
   "id": "f6469dfa",
   "metadata": {},
   "outputs": [
    {
     "ename": "ModuleNotFoundError",
     "evalue": "No module named 'pyportfolioopt'",
     "output_type": "error",
     "traceback": [
      "\u001b[1;31m---------------------------------------------------------------------------\u001b[0m",
      "\u001b[1;31mModuleNotFoundError\u001b[0m                       Traceback (most recent call last)",
      "Cell \u001b[1;32mIn[12], line 1\u001b[0m\n\u001b[1;32m----> 1\u001b[0m \u001b[38;5;28;01mfrom\u001b[39;00m \u001b[38;5;21;01mpyportfolioopt\u001b[39;00m \u001b[38;5;28;01mimport\u001b[39;00m pyportfolioopt\n",
      "\u001b[1;31mModuleNotFoundError\u001b[0m: No module named 'pyportfolioopt'"
     ]
    }
   ],
   "source": [
    "from pyportfolioopt import pyportfolioopt"
   ]
  },
  {
   "cell_type": "code",
   "execution_count": 7,
   "id": "d67d2d84",
   "metadata": {},
   "outputs": [
    {
     "name": "stdout",
     "output_type": "stream",
     "text": [
      "Requirement already satisfied: PyPortfolioOpt in c:\\programdata\\anaconda3\\envs\\financas\\lib\\site-packages (1.5.5)\n",
      "Requirement already satisfied: cvxpy<2.0.0,>=1.1.19 in c:\\programdata\\anaconda3\\envs\\financas\\lib\\site-packages (from PyPortfolioOpt) (1.3.2)\n",
      "Requirement already satisfied: numpy<2.0.0,>=1.22.4 in c:\\programdata\\anaconda3\\envs\\financas\\lib\\site-packages (from PyPortfolioOpt) (1.26.0)\n",
      "Requirement already satisfied: pandas>=0.19 in c:\\programdata\\anaconda3\\envs\\financas\\lib\\site-packages (from PyPortfolioOpt) (2.0.3)\n",
      "Requirement already satisfied: scipy<2.0,>=1.3 in c:\\programdata\\anaconda3\\envs\\financas\\lib\\site-packages (from PyPortfolioOpt) (1.11.3)\n",
      "Requirement already satisfied: osqp>=0.4.1 in c:\\programdata\\anaconda3\\envs\\financas\\lib\\site-packages (from cvxpy<2.0.0,>=1.1.19->PyPortfolioOpt) (0.6.3)\n",
      "Requirement already satisfied: ecos>=2 in c:\\programdata\\anaconda3\\envs\\financas\\lib\\site-packages (from cvxpy<2.0.0,>=1.1.19->PyPortfolioOpt) (2.0.12)\n",
      "Requirement already satisfied: scs>=1.1.6 in c:\\programdata\\anaconda3\\envs\\financas\\lib\\site-packages (from cvxpy<2.0.0,>=1.1.19->PyPortfolioOpt) (3.2.3)\n",
      "Requirement already satisfied: setuptools>65.5.1 in c:\\programdata\\anaconda3\\envs\\financas\\lib\\site-packages (from cvxpy<2.0.0,>=1.1.19->PyPortfolioOpt) (68.0.0)\n",
      "Requirement already satisfied: python-dateutil>=2.8.2 in c:\\programdata\\anaconda3\\envs\\financas\\lib\\site-packages (from pandas>=0.19->PyPortfolioOpt) (2.8.2)\n",
      "Requirement already satisfied: pytz>=2020.1 in c:\\programdata\\anaconda3\\envs\\financas\\lib\\site-packages (from pandas>=0.19->PyPortfolioOpt) (2023.3.post1)\n",
      "Requirement already satisfied: tzdata>=2022.1 in c:\\programdata\\anaconda3\\envs\\financas\\lib\\site-packages (from pandas>=0.19->PyPortfolioOpt) (2023.3)\n",
      "Requirement already satisfied: qdldl in c:\\programdata\\anaconda3\\envs\\financas\\lib\\site-packages (from osqp>=0.4.1->cvxpy<2.0.0,>=1.1.19->PyPortfolioOpt) (0.1.7.post0)\n",
      "Requirement already satisfied: six>=1.5 in c:\\programdata\\anaconda3\\envs\\financas\\lib\\site-packages (from python-dateutil>=2.8.2->pandas>=0.19->PyPortfolioOpt) (1.16.0)\n"
     ]
    }
   ],
   "source": [
    "! pip install -U PyPortfolioOpt"
   ]
  },
  {
   "cell_type": "code",
   "execution_count": null,
   "id": "b826624c",
   "metadata": {},
   "outputs": [],
   "source": []
  }
 ],
 "metadata": {
  "kernelspec": {
   "display_name": "financas",
   "language": "python",
   "name": "financas"
  },
  "language_info": {
   "codemirror_mode": {
    "name": "ipython",
    "version": 3
   },
   "file_extension": ".py",
   "mimetype": "text/x-python",
   "name": "python",
   "nbconvert_exporter": "python",
   "pygments_lexer": "ipython3",
   "version": "3.11.4"
  }
 },
 "nbformat": 4,
 "nbformat_minor": 5
}
