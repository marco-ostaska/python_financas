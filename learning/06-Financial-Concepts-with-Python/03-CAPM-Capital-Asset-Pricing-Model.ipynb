{
 "cells": [
  {
   "cell_type": "markdown",
   "id": "e8f64b0c",
   "metadata": {},
   "source": [
    "___\n",
    "\n",
    "<a href='http://www.pieriandata.com'><img src='../Pierian_Data_Logo.png'/></a>\n",
    "___\n",
    "<center><em>Copyright by Pierian Data Inc.</em></center>\n",
    "<center><em>For more information, visit us at <a href='http://www.pieriandata.com'>www.pieriandata.com</a></em></center>"
   ]
  },
  {
   "cell_type": "code",
   "execution_count": 253,
   "id": "1e917042",
   "metadata": {},
   "outputs": [],
   "source": [
    "import pandas as pd\n",
    "import matplotlib.pyplot as plt"
   ]
  },
  {
   "cell_type": "markdown",
   "id": "bcd42cb2",
   "metadata": {},
   "source": [
    "## Load stock data\n",
    "At first we load the csv files containing the stock prices of apple, amazon, general electric and the CBOE Volatility Index since 1-1-2010"
   ]
  },
  {
   "cell_type": "code",
   "execution_count": 254,
   "id": "8c25cfa2",
   "metadata": {},
   "outputs": [],
   "source": [
    "#aapl = pd.read_csv(\"apple_2010.csv\",index_col='Date',parse_dates=True)\n",
    "amzn = pd.read_csv(\"amazon_2010.csv\",index_col='Date',parse_dates=True)\n",
    "ge = pd.read_csv(\"GE_2010.csv\",index_col='Date',parse_dates=True)\n",
    "vix = pd.read_csv(\"VIX_2010.csv\",index_col='Date',parse_dates=True)\n",
    "#sp500 = pd.read_csv(\"sp500_2010.csv\",index_col='Date',parse_dates=True)"
   ]
  },
  {
   "cell_type": "code",
   "execution_count": 255,
   "id": "9f583e91",
   "metadata": {},
   "outputs": [
    {
     "data": {
      "text/html": [
       "<div>\n",
       "<style scoped>\n",
       "    .dataframe tbody tr th:only-of-type {\n",
       "        vertical-align: middle;\n",
       "    }\n",
       "\n",
       "    .dataframe tbody tr th {\n",
       "        vertical-align: top;\n",
       "    }\n",
       "\n",
       "    .dataframe thead th {\n",
       "        text-align: right;\n",
       "    }\n",
       "</style>\n",
       "<table border=\"1\" class=\"dataframe\">\n",
       "  <thead>\n",
       "    <tr style=\"text-align: right;\">\n",
       "      <th></th>\n",
       "      <th>Open</th>\n",
       "      <th>High</th>\n",
       "      <th>Low</th>\n",
       "      <th>Close</th>\n",
       "      <th>Adj Close</th>\n",
       "      <th>Volume</th>\n",
       "    </tr>\n",
       "    <tr>\n",
       "      <th>Date</th>\n",
       "      <th></th>\n",
       "      <th></th>\n",
       "      <th></th>\n",
       "      <th></th>\n",
       "      <th></th>\n",
       "      <th></th>\n",
       "    </tr>\n",
       "  </thead>\n",
       "  <tbody>\n",
       "    <tr>\n",
       "      <th>2020-01-02</th>\n",
       "      <td>115652.0</td>\n",
       "      <td>118573.0</td>\n",
       "      <td>115649.0</td>\n",
       "      <td>118573.0</td>\n",
       "      <td>118573.0</td>\n",
       "      <td>5162700</td>\n",
       "    </tr>\n",
       "    <tr>\n",
       "      <th>2020-01-03</th>\n",
       "      <td>118564.0</td>\n",
       "      <td>118792.0</td>\n",
       "      <td>117341.0</td>\n",
       "      <td>117707.0</td>\n",
       "      <td>117707.0</td>\n",
       "      <td>6834500</td>\n",
       "    </tr>\n",
       "    <tr>\n",
       "      <th>2020-01-06</th>\n",
       "      <td>117707.0</td>\n",
       "      <td>117707.0</td>\n",
       "      <td>116269.0</td>\n",
       "      <td>116878.0</td>\n",
       "      <td>116878.0</td>\n",
       "      <td>6570000</td>\n",
       "    </tr>\n",
       "    <tr>\n",
       "      <th>2020-01-07</th>\n",
       "      <td>116872.0</td>\n",
       "      <td>117076.0</td>\n",
       "      <td>115965.0</td>\n",
       "      <td>116662.0</td>\n",
       "      <td>116662.0</td>\n",
       "      <td>4854100</td>\n",
       "    </tr>\n",
       "    <tr>\n",
       "      <th>2020-01-08</th>\n",
       "      <td>116667.0</td>\n",
       "      <td>117335.0</td>\n",
       "      <td>115693.0</td>\n",
       "      <td>116247.0</td>\n",
       "      <td>116247.0</td>\n",
       "      <td>5910500</td>\n",
       "    </tr>\n",
       "  </tbody>\n",
       "</table>\n",
       "</div>"
      ],
      "text/plain": [
       "                Open      High       Low     Close  Adj Close   Volume\n",
       "Date                                                                  \n",
       "2020-01-02  115652.0  118573.0  115649.0  118573.0   118573.0  5162700\n",
       "2020-01-03  118564.0  118792.0  117341.0  117707.0   117707.0  6834500\n",
       "2020-01-06  117707.0  117707.0  116269.0  116878.0   116878.0  6570000\n",
       "2020-01-07  116872.0  117076.0  115965.0  116662.0   116662.0  4854100\n",
       "2020-01-08  116667.0  117335.0  115693.0  116247.0   116247.0  5910500"
      ]
     },
     "execution_count": 255,
     "metadata": {},
     "output_type": "execute_result"
    }
   ],
   "source": [
    "sp500.head()"
   ]
  },
  {
   "cell_type": "code",
   "execution_count": 256,
   "id": "3dd6dd9a",
   "metadata": {},
   "outputs": [
    {
     "name": "stdout",
     "output_type": "stream",
     "text": [
      "[*********************100%%**********************]  1 of 1 completed\n",
      "[*********************100%%**********************]  1 of 1 completed\n",
      "937 937\n"
     ]
    },
    {
     "data": {
      "text/html": [
       "<div>\n",
       "<style scoped>\n",
       "    .dataframe tbody tr th:only-of-type {\n",
       "        vertical-align: middle;\n",
       "    }\n",
       "\n",
       "    .dataframe tbody tr th {\n",
       "        vertical-align: top;\n",
       "    }\n",
       "\n",
       "    .dataframe thead th {\n",
       "        text-align: right;\n",
       "    }\n",
       "</style>\n",
       "<table border=\"1\" class=\"dataframe\">\n",
       "  <thead>\n",
       "    <tr style=\"text-align: right;\">\n",
       "      <th></th>\n",
       "      <th>Open</th>\n",
       "      <th>High</th>\n",
       "      <th>Low</th>\n",
       "      <th>Close</th>\n",
       "      <th>Adj Close</th>\n",
       "      <th>Volume</th>\n",
       "    </tr>\n",
       "    <tr>\n",
       "      <th>Date</th>\n",
       "      <th></th>\n",
       "      <th></th>\n",
       "      <th></th>\n",
       "      <th></th>\n",
       "      <th></th>\n",
       "      <th></th>\n",
       "    </tr>\n",
       "  </thead>\n",
       "  <tbody>\n",
       "    <tr>\n",
       "      <th>2020-01-02</th>\n",
       "      <td>115652.0</td>\n",
       "      <td>118573.0</td>\n",
       "      <td>115649.0</td>\n",
       "      <td>118573.0</td>\n",
       "      <td>118573.0</td>\n",
       "      <td>5162700</td>\n",
       "    </tr>\n",
       "    <tr>\n",
       "      <th>2020-01-03</th>\n",
       "      <td>118564.0</td>\n",
       "      <td>118792.0</td>\n",
       "      <td>117341.0</td>\n",
       "      <td>117707.0</td>\n",
       "      <td>117707.0</td>\n",
       "      <td>6834500</td>\n",
       "    </tr>\n",
       "    <tr>\n",
       "      <th>2020-01-06</th>\n",
       "      <td>117707.0</td>\n",
       "      <td>117707.0</td>\n",
       "      <td>116269.0</td>\n",
       "      <td>116878.0</td>\n",
       "      <td>116878.0</td>\n",
       "      <td>6570000</td>\n",
       "    </tr>\n",
       "    <tr>\n",
       "      <th>2020-01-07</th>\n",
       "      <td>116872.0</td>\n",
       "      <td>117076.0</td>\n",
       "      <td>115965.0</td>\n",
       "      <td>116662.0</td>\n",
       "      <td>116662.0</td>\n",
       "      <td>4854100</td>\n",
       "    </tr>\n",
       "    <tr>\n",
       "      <th>2020-01-08</th>\n",
       "      <td>116667.0</td>\n",
       "      <td>117335.0</td>\n",
       "      <td>115693.0</td>\n",
       "      <td>116247.0</td>\n",
       "      <td>116247.0</td>\n",
       "      <td>5910500</td>\n",
       "    </tr>\n",
       "  </tbody>\n",
       "</table>\n",
       "</div>"
      ],
      "text/plain": [
       "                Open      High       Low     Close  Adj Close   Volume\n",
       "Date                                                                  \n",
       "2020-01-02  115652.0  118573.0  115649.0  118573.0   118573.0  5162700\n",
       "2020-01-03  118564.0  118792.0  117341.0  117707.0   117707.0  6834500\n",
       "2020-01-06  117707.0  117707.0  116269.0  116878.0   116878.0  6570000\n",
       "2020-01-07  116872.0  117076.0  115965.0  116662.0   116662.0  4854100\n",
       "2020-01-08  116667.0  117335.0  115693.0  116247.0   116247.0  5910500"
      ]
     },
     "execution_count": 256,
     "metadata": {},
     "output_type": "execute_result"
    }
   ],
   "source": [
    "import yfinance as yf\n",
    "\n",
    "appl=yf.download([\"MGLU3.SA\"], start=\"2020-01-01\").dropna()\n",
    "sp500  =  yf.download([\"^BVSP\"], start=\"2020-01-01\").dropna()\n",
    "\n",
    "print(len(appl), len(sp500))\n",
    "sp500.head()"
   ]
  },
  {
   "cell_type": "markdown",
   "id": "6e959575",
   "metadata": {},
   "source": [
    "## Compute cumulative returns\n",
    "The cumulative return is the overall total return of an investment over a given time period.\n",
    "You can compute it by subtracting the current price of a stock from the price it had when you bought it.<br />\n",
    "To compute the percentage value, you divide it instead of subtracting"
   ]
  },
  {
   "cell_type": "code",
   "execution_count": 257,
   "id": "298d6264",
   "metadata": {},
   "outputs": [
    {
     "data": {
      "text/plain": [
       "Date\n",
       "2020-01-02    12.029735\n",
       "2020-01-03    11.922435\n",
       "2020-01-06    11.932190\n",
       "2020-01-07    11.898048\n",
       "2020-01-08    12.263843\n",
       "                ...    \n",
       "2023-09-29     2.120000\n",
       "2023-10-02     2.010000\n",
       "2023-10-03     1.840000\n",
       "2023-10-04     1.890000\n",
       "2023-10-05     1.820000\n",
       "Name: Adj Close, Length: 937, dtype: float64"
      ]
     },
     "execution_count": 257,
     "metadata": {},
     "output_type": "execute_result"
    }
   ],
   "source": [
    "appl[\"Adj Close\"]"
   ]
  },
  {
   "cell_type": "code",
   "execution_count": 258,
   "id": "387580dc",
   "metadata": {},
   "outputs": [],
   "source": [
    "def compute_cumulative(data, get_absolute=True):\n",
    "    initial_price = data[\"Adj Close\"].iloc[0]\n",
    "    last_price = data[\"Adj Close\"].iloc[-1]\n",
    "    if get_absolute:\n",
    "        # Returns absolute dollar gain for 1 share\n",
    "        return last_price - initial_price\n",
    "    else:\n",
    "        # Returns percentage change\n",
    "        return 100*(last_price-initial_price) / initial_price   #last_price/initial_price\n",
    "        "
   ]
  },
  {
   "cell_type": "code",
   "execution_count": 259,
   "id": "1199b987",
   "metadata": {},
   "outputs": [
    {
     "name": "stdout",
     "output_type": "stream",
     "text": [
      "Apple cumulative return: 147.72606801986694; Percentage: 2247.14828034095%\n",
      "Amazon cumulative return: 3343.530044555664; Percentage: 2485.5262699691684%\n",
      "GE cumulative return: 18.687515258789062; Percentage: 21.713892313221308%\n",
      "SP500 cumulative return: -5738.4375; Percentage: -4.83958194529952%\n"
     ]
    }
   ],
   "source": [
    "aapl_absolute_cumulative_return = compute_cumulative(aapl)\n",
    "aapl_percentage_cumulative_return = compute_cumulative(aapl, False) \n",
    "\n",
    "amzn_absolute_cumulative_return = compute_cumulative(amzn)\n",
    "amzn_percentage_cumulative_return = compute_cumulative(amzn, False) \n",
    "\n",
    "ge_absolute_cumulative_return = compute_cumulative(ge)\n",
    "ge_percentage_cumulative_return = compute_cumulative(ge, False)  \n",
    "\n",
    "sp500_absolute_cumulative_return = compute_cumulative(sp500)\n",
    "sp500_percentage_cumulative_return = compute_cumulative(sp500, False)  \n",
    "\n",
    "\n",
    "print(f\"Apple cumulative return: {aapl_absolute_cumulative_return}; Percentage: {aapl_percentage_cumulative_return}%\")\n",
    "print(f\"Amazon cumulative return: {amzn_absolute_cumulative_return}; Percentage: {amzn_percentage_cumulative_return}%\")\n",
    "print(f\"GE cumulative return: {ge_absolute_cumulative_return}; Percentage: {ge_percentage_cumulative_return}%\")\n",
    "print(f\"SP500 cumulative return: {sp500_absolute_cumulative_return}; Percentage: {sp500_percentage_cumulative_return}%\")"
   ]
  },
  {
   "cell_type": "markdown",
   "id": "53989471",
   "metadata": {},
   "source": [
    "## Visualized Cummulative Returns Over Time\n",
    "\n",
    "### Absolute Returns (a.k.a How many dollars earned per share if held since start of time series?)\n",
    "We can also plot the cumulative returns over time by  subtracting) all prices from the initial one\n",
    "\n",
    "**IMPORTANT NOTE: This doesn't tell you the initial price of a share, so a \\\\$100 gain per share is great if you bought each share at \\\\$5 but not as great if each share cost you \\\\$10000!**"
   ]
  },
  {
   "cell_type": "code",
   "execution_count": 260,
   "id": "cf61a795",
   "metadata": {},
   "outputs": [
    {
     "name": "stderr",
     "output_type": "stream",
     "text": [
      "C:\\Users\\MarcoAurelioNajarOst\\AppData\\Local\\Temp\\ipykernel_27048\\870032993.py:1: SettingWithCopyWarning: \n",
      "A value is trying to be set on a copy of a slice from a DataFrame.\n",
      "Try using .loc[row_indexer,col_indexer] = value instead\n",
      "\n",
      "See the caveats in the documentation: https://pandas.pydata.org/pandas-docs/stable/user_guide/indexing.html#returning-a-view-versus-a-copy\n",
      "  aapl[\"Cumulative_Absolute\"] = aapl[\"Adj Close\"] - aapl[\"Adj Close\"].iloc[0]\n"
     ]
    }
   ],
   "source": [
    "aapl[\"Cumulative_Absolute\"] = aapl[\"Adj Close\"] - aapl[\"Adj Close\"].iloc[0]\n",
    "amzn[\"Cumulative_Absolute\"] = amzn[\"Adj Close\"] - amzn[\"Adj Close\"].iloc[0]\n",
    "ge[\"Cumulative_Absolute\"] = ge[\"Adj Close\"] - ge[\"Adj Close\"].iloc[0]\n",
    "sp500[\"Cumulative_Absolute\"] = sp500[\"Adj Close\"] - sp500[\"Adj Close\"].iloc[0]"
   ]
  },
  {
   "cell_type": "code",
   "execution_count": 261,
   "id": "acf014fa",
   "metadata": {},
   "outputs": [
    {
     "data": {
      "text/plain": [
       "Text(0, 0.5, 'Absolute Dollar Gain per Share')"
      ]
     },
     "execution_count": 261,
     "metadata": {},
     "output_type": "execute_result"
    },
    {
     "data": {
      "image/png": "[encoded data removed]",
      "text/plain": [
       "<Figure size 1000x800 with 1 Axes>"
      ]
     },
     "metadata": {},
     "output_type": "display_data"
    }
   ],
   "source": [
    "aapl[\"Cumulative_Absolute\"].plot(label=\"MGLU3.SA\", figsize=(10, 8))\n",
    "sp500[\"Cumulative_Absolute\"].plot(label=\"IBOV\")\n",
    "\n",
    "plt.legend()\n",
    "plt.title(\"Absolute Cumulative Returns\")\n",
    "plt.ylabel(\"Absolute Dollar Gain per Share\")"
   ]
  },
  {
   "cell_type": "markdown",
   "id": "8f30cc44",
   "metadata": {},
   "source": [
    "Note how this plot is really not that informative since it never informed us of the initial price per share! This is why we begin to think about \"normalizing\" our gains. We need a way to fairly compare performance between individual stocks, like percentage gain!"
   ]
  },
  {
   "cell_type": "code",
   "execution_count": 262,
   "id": "a59073d9",
   "metadata": {},
   "outputs": [
    {
     "name": "stderr",
     "output_type": "stream",
     "text": [
      "C:\\Users\\MarcoAurelioNajarOst\\AppData\\Local\\Temp\\ipykernel_27048\\1517975835.py:1: SettingWithCopyWarning: \n",
      "A value is trying to be set on a copy of a slice from a DataFrame.\n",
      "Try using .loc[row_indexer,col_indexer] = value instead\n",
      "\n",
      "See the caveats in the documentation: https://pandas.pydata.org/pandas-docs/stable/user_guide/indexing.html#returning-a-view-versus-a-copy\n",
      "  aapl[\"Cumulative_Percentage\"] = 100* (aapl[\"Adj Close\"]-aapl[\"Adj Close\"].iloc[0]) / aapl[\"Adj Close\"].iloc[0]\n"
     ]
    }
   ],
   "source": [
    "aapl[\"Cumulative_Percentage\"] = 100* (aapl[\"Adj Close\"]-aapl[\"Adj Close\"].iloc[0]) / aapl[\"Adj Close\"].iloc[0]\n",
    "sp500[\"Cumulative_Percentage\"] = 100* (sp500[\"Adj Close\"]-sp500[\"Adj Close\"].iloc[0]) / sp500[\"Adj Close\"].iloc[0]"
   ]
  },
  {
   "cell_type": "markdown",
   "id": "078f2492",
   "metadata": {},
   "source": [
    "You can see that comparing absolute cumulative returns is not ideal because of different scalings, thus we should use the percentage values:"
   ]
  },
  {
   "cell_type": "code",
   "execution_count": 263,
   "id": "2da352b4",
   "metadata": {},
   "outputs": [
    {
     "data": {
      "text/plain": [
       "Text(0.5, 1.0, 'Percent Cumulative Returns')"
      ]
     },
     "execution_count": 263,
     "metadata": {},
     "output_type": "execute_result"
    },
    {
     "data": {
      "image/png": "[encoded data removed]",
      "text/plain": [
       "<Figure size 1000x800 with 1 Axes>"
      ]
     },
     "metadata": {},
     "output_type": "display_data"
    }
   ],
   "source": [
    "aapl[\"Cumulative_Percentage\"].plot(label=\"AAPL\", figsize=(10, 8))\n",
    "sp500[\"Cumulative_Percentage\"].plot(label=\"SP500\")\n",
    "\n",
    "plt.legend()\n",
    "plt.title(\"Percent Cumulative Returns\")"
   ]
  },
  {
   "cell_type": "markdown",
   "id": "8ee852b1",
   "metadata": {},
   "source": [
    "\n",
    "We can compute the daily return for both shares by computing the percentage change between the current adjusted price and the price one day before.\n",
    "We can directly perform this task by using **pct_change(period)** provided by pandas.\n",
    "As the first row is now NaN we can directly drop it (alternatively you can use .iloc[1:])"
   ]
  },
  {
   "cell_type": "code",
   "execution_count": 264,
   "id": "9db16be6",
   "metadata": {},
   "outputs": [
    {
     "name": "stderr",
     "output_type": "stream",
     "text": [
      "C:\\Users\\MarcoAurelioNajarOst\\AppData\\Local\\Temp\\ipykernel_27048\\3123692918.py:1: SettingWithCopyWarning: \n",
      "A value is trying to be set on a copy of a slice from a DataFrame.\n",
      "Try using .loc[row_indexer,col_indexer] = value instead\n",
      "\n",
      "See the caveats in the documentation: https://pandas.pydata.org/pandas-docs/stable/user_guide/indexing.html#returning-a-view-versus-a-copy\n",
      "  aapl[\"Daily Return\"] = aapl[\"Adj Close\"].pct_change(1)\n"
     ]
    }
   ],
   "source": [
    "aapl[\"Daily Return\"] = aapl[\"Adj Close\"].pct_change(1)\n",
    "amzn[\"Daily Return\"] = amzn[\"Adj Close\"].pct_change(1)\n",
    "ge[\"Daily Return\"] = ge[\"Adj Close\"].pct_change(1)\n",
    "sp500[\"Daily Return\"] = sp500[\"Adj Close\"].pct_change(1)\n",
    "vix[\"Daily Return\"] = vix[\"Adj Close\"].pct_change(1)"
   ]
  },
  {
   "cell_type": "markdown",
   "id": "7810afec",
   "metadata": {},
   "source": [
    "We can use a histogram to plot the daily returns"
   ]
  },
  {
   "cell_type": "code",
   "execution_count": 265,
   "id": "ed1ece93",
   "metadata": {},
   "outputs": [
    {
     "data": {
      "text/plain": [
       "Text(0.5, 1.0, 'Daily Returns: Apple')"
      ]
     },
     "execution_count": 265,
     "metadata": {},
     "output_type": "execute_result"
    },
    {
     "data": {
      "image/png": "[encoded data removed]",
      "text/plain": [
       "<Figure size 640x480 with 1 Axes>"
      ]
     },
     "metadata": {},
     "output_type": "display_data"
    }
   ],
   "source": [
    "aapl[\"Daily Return\"].hist(bins=100)\n",
    "plt.title(\"Daily Returns: Apple\")"
   ]
  },
  {
   "cell_type": "code",
   "execution_count": 266,
   "id": "6161eb4f",
   "metadata": {},
   "outputs": [
    {
     "data": {
      "text/plain": [
       "Text(0.5, 1.0, 'Daily Returns: Amazon')"
      ]
     },
     "execution_count": 266,
     "metadata": {},
     "output_type": "execute_result"
    },
    {
     "data": {
      "image/png": "[encoded data removed]",
      "text/plain": [
       "<Figure size 640x480 with 1 Axes>"
      ]
     },
     "metadata": {},
     "output_type": "display_data"
    }
   ],
   "source": [
    "amzn[\"Daily Return\"].hist(bins=100)\n",
    "plt.title(\"Daily Returns: Amazon\")"
   ]
  },
  {
   "cell_type": "code",
   "execution_count": 267,
   "id": "765d168c",
   "metadata": {},
   "outputs": [
    {
     "data": {
      "text/plain": [
       "Text(0.5, 1.0, 'Daily Returns: GE')"
      ]
     },
     "execution_count": 267,
     "metadata": {},
     "output_type": "execute_result"
    },
    {
     "data": {
      "image/png": "[encoded data removed]",
      "text/plain": [
       "<Figure size 640x480 with 1 Axes>"
      ]
     },
     "metadata": {},
     "output_type": "display_data"
    }
   ],
   "source": [
    "ge[\"Daily Return\"].hist(bins=100)\n",
    "plt.title(\"Daily Returns: GE\")"
   ]
  },
  {
   "cell_type": "code",
   "execution_count": 268,
   "id": "aa22d141",
   "metadata": {},
   "outputs": [
    {
     "data": {
      "text/plain": [
       "Text(0.5, 1.0, 'Daily Returns: sp500')"
      ]
     },
     "execution_count": 268,
     "metadata": {},
     "output_type": "execute_result"
    },
    {
     "data": {
      "image/png": "[encoded data removed]",
      "text/plain": [
       "<Figure size 640x480 with 1 Axes>"
      ]
     },
     "metadata": {},
     "output_type": "display_data"
    }
   ],
   "source": [
    "sp500[\"Daily Return\"].hist(bins=100)\n",
    "plt.title(\"Daily Returns: sp500\")"
   ]
  },
  {
   "cell_type": "markdown",
   "id": "77b023ca",
   "metadata": {},
   "source": [
    "# Daily Return Performance Comparison "
   ]
  },
  {
   "cell_type": "markdown",
   "id": "d5077418",
   "metadata": {},
   "source": [
    "## Compare daily returns with benchmark.\n",
    "We can use a scatter plot to compare the daily return of our stocks with the sp500."
   ]
  },
  {
   "cell_type": "code",
   "execution_count": 269,
   "id": "54531c45",
   "metadata": {},
   "outputs": [
    {
     "ename": "ValueError",
     "evalue": "x and y must be the same size",
     "output_type": "error",
     "traceback": [
      "\u001b[1;31m---------------------------------------------------------------------------\u001b[0m",
      "\u001b[1;31mValueError\u001b[0m                                Traceback (most recent call last)",
      "Cell \u001b[1;32mIn[269], line 1\u001b[0m\n\u001b[1;32m----> 1\u001b[0m plt\u001b[38;5;241m.\u001b[39mscatter(aapl[\u001b[38;5;124m'\u001b[39m\u001b[38;5;124mDaily Return\u001b[39m\u001b[38;5;124m'\u001b[39m],sp500[\u001b[38;5;124m'\u001b[39m\u001b[38;5;124mDaily Return\u001b[39m\u001b[38;5;124m'\u001b[39m],alpha\u001b[38;5;241m=\u001b[39m\u001b[38;5;241m0.3\u001b[39m)\n\u001b[0;32m      2\u001b[0m plt\u001b[38;5;241m.\u001b[39mxlabel(\u001b[38;5;124m\"\u001b[39m\u001b[38;5;124mDaily Change: Apple\u001b[39m\u001b[38;5;124m\"\u001b[39m)\n\u001b[0;32m      3\u001b[0m plt\u001b[38;5;241m.\u001b[39mylabel(\u001b[38;5;124m\"\u001b[39m\u001b[38;5;124mDaily Change: SP500\u001b[39m\u001b[38;5;124m\"\u001b[39m)\n",
      "File \u001b[1;32mC:\\ProgramData\\anaconda3\\envs\\Financas\\Lib\\site-packages\\matplotlib\\pyplot.py:2862\u001b[0m, in \u001b[0;36mscatter\u001b[1;34m(x, y, s, c, marker, cmap, norm, vmin, vmax, alpha, linewidths, edgecolors, plotnonfinite, data, **kwargs)\u001b[0m\n\u001b[0;32m   2857\u001b[0m \u001b[38;5;129m@_copy_docstring_and_deprecators\u001b[39m(Axes\u001b[38;5;241m.\u001b[39mscatter)\n\u001b[0;32m   2858\u001b[0m \u001b[38;5;28;01mdef\u001b[39;00m \u001b[38;5;21mscatter\u001b[39m(\n\u001b[0;32m   2859\u001b[0m         x, y, s\u001b[38;5;241m=\u001b[39m\u001b[38;5;28;01mNone\u001b[39;00m, c\u001b[38;5;241m=\u001b[39m\u001b[38;5;28;01mNone\u001b[39;00m, marker\u001b[38;5;241m=\u001b[39m\u001b[38;5;28;01mNone\u001b[39;00m, cmap\u001b[38;5;241m=\u001b[39m\u001b[38;5;28;01mNone\u001b[39;00m, norm\u001b[38;5;241m=\u001b[39m\u001b[38;5;28;01mNone\u001b[39;00m,\n\u001b[0;32m   2860\u001b[0m         vmin\u001b[38;5;241m=\u001b[39m\u001b[38;5;28;01mNone\u001b[39;00m, vmax\u001b[38;5;241m=\u001b[39m\u001b[38;5;28;01mNone\u001b[39;00m, alpha\u001b[38;5;241m=\u001b[39m\u001b[38;5;28;01mNone\u001b[39;00m, linewidths\u001b[38;5;241m=\u001b[39m\u001b[38;5;28;01mNone\u001b[39;00m, \u001b[38;5;241m*\u001b[39m,\n\u001b[0;32m   2861\u001b[0m         edgecolors\u001b[38;5;241m=\u001b[39m\u001b[38;5;28;01mNone\u001b[39;00m, plotnonfinite\u001b[38;5;241m=\u001b[39m\u001b[38;5;28;01mFalse\u001b[39;00m, data\u001b[38;5;241m=\u001b[39m\u001b[38;5;28;01mNone\u001b[39;00m, \u001b[38;5;241m*\u001b[39m\u001b[38;5;241m*\u001b[39mkwargs):\n\u001b[1;32m-> 2862\u001b[0m     __ret \u001b[38;5;241m=\u001b[39m gca()\u001b[38;5;241m.\u001b[39mscatter(\n\u001b[0;32m   2863\u001b[0m         x, y, s\u001b[38;5;241m=\u001b[39ms, c\u001b[38;5;241m=\u001b[39mc, marker\u001b[38;5;241m=\u001b[39mmarker, cmap\u001b[38;5;241m=\u001b[39mcmap, norm\u001b[38;5;241m=\u001b[39mnorm,\n\u001b[0;32m   2864\u001b[0m         vmin\u001b[38;5;241m=\u001b[39mvmin, vmax\u001b[38;5;241m=\u001b[39mvmax, alpha\u001b[38;5;241m=\u001b[39malpha, linewidths\u001b[38;5;241m=\u001b[39mlinewidths,\n\u001b[0;32m   2865\u001b[0m         edgecolors\u001b[38;5;241m=\u001b[39medgecolors, plotnonfinite\u001b[38;5;241m=\u001b[39mplotnonfinite,\n\u001b[0;32m   2866\u001b[0m         \u001b[38;5;241m*\u001b[39m\u001b[38;5;241m*\u001b[39m({\u001b[38;5;124m\"\u001b[39m\u001b[38;5;124mdata\u001b[39m\u001b[38;5;124m\"\u001b[39m: data} \u001b[38;5;28;01mif\u001b[39;00m data \u001b[38;5;129;01mis\u001b[39;00m \u001b[38;5;129;01mnot\u001b[39;00m \u001b[38;5;28;01mNone\u001b[39;00m \u001b[38;5;28;01melse\u001b[39;00m {}), \u001b[38;5;241m*\u001b[39m\u001b[38;5;241m*\u001b[39mkwargs)\n\u001b[0;32m   2867\u001b[0m     sci(__ret)\n\u001b[0;32m   2868\u001b[0m     \u001b[38;5;28;01mreturn\u001b[39;00m __ret\n",
      "File \u001b[1;32mC:\\ProgramData\\anaconda3\\envs\\Financas\\Lib\\site-packages\\matplotlib\\__init__.py:1446\u001b[0m, in \u001b[0;36m_preprocess_data.<locals>.inner\u001b[1;34m(ax, data, *args, **kwargs)\u001b[0m\n\u001b[0;32m   1443\u001b[0m \u001b[38;5;129m@functools\u001b[39m\u001b[38;5;241m.\u001b[39mwraps(func)\n\u001b[0;32m   1444\u001b[0m \u001b[38;5;28;01mdef\u001b[39;00m \u001b[38;5;21minner\u001b[39m(ax, \u001b[38;5;241m*\u001b[39margs, data\u001b[38;5;241m=\u001b[39m\u001b[38;5;28;01mNone\u001b[39;00m, \u001b[38;5;241m*\u001b[39m\u001b[38;5;241m*\u001b[39mkwargs):\n\u001b[0;32m   1445\u001b[0m     \u001b[38;5;28;01mif\u001b[39;00m data \u001b[38;5;129;01mis\u001b[39;00m \u001b[38;5;28;01mNone\u001b[39;00m:\n\u001b[1;32m-> 1446\u001b[0m         \u001b[38;5;28;01mreturn\u001b[39;00m func(ax, \u001b[38;5;241m*\u001b[39m\u001b[38;5;28mmap\u001b[39m(sanitize_sequence, args), \u001b[38;5;241m*\u001b[39m\u001b[38;5;241m*\u001b[39mkwargs)\n\u001b[0;32m   1448\u001b[0m     bound \u001b[38;5;241m=\u001b[39m new_sig\u001b[38;5;241m.\u001b[39mbind(ax, \u001b[38;5;241m*\u001b[39margs, \u001b[38;5;241m*\u001b[39m\u001b[38;5;241m*\u001b[39mkwargs)\n\u001b[0;32m   1449\u001b[0m     auto_label \u001b[38;5;241m=\u001b[39m (bound\u001b[38;5;241m.\u001b[39marguments\u001b[38;5;241m.\u001b[39mget(label_namer)\n\u001b[0;32m   1450\u001b[0m                   \u001b[38;5;129;01mor\u001b[39;00m bound\u001b[38;5;241m.\u001b[39mkwargs\u001b[38;5;241m.\u001b[39mget(label_namer))\n",
      "File \u001b[1;32mC:\\ProgramData\\anaconda3\\envs\\Financas\\Lib\\site-packages\\matplotlib\\axes\\_axes.py:4578\u001b[0m, in \u001b[0;36mAxes.scatter\u001b[1;34m(self, x, y, s, c, marker, cmap, norm, vmin, vmax, alpha, linewidths, edgecolors, plotnonfinite, **kwargs)\u001b[0m\n\u001b[0;32m   4576\u001b[0m y \u001b[38;5;241m=\u001b[39m np\u001b[38;5;241m.\u001b[39mma\u001b[38;5;241m.\u001b[39mravel(y)\n\u001b[0;32m   4577\u001b[0m \u001b[38;5;28;01mif\u001b[39;00m x\u001b[38;5;241m.\u001b[39msize \u001b[38;5;241m!=\u001b[39m y\u001b[38;5;241m.\u001b[39msize:\n\u001b[1;32m-> 4578\u001b[0m     \u001b[38;5;28;01mraise\u001b[39;00m \u001b[38;5;167;01mValueError\u001b[39;00m(\u001b[38;5;124m\"\u001b[39m\u001b[38;5;124mx and y must be the same size\u001b[39m\u001b[38;5;124m\"\u001b[39m)\n\u001b[0;32m   4580\u001b[0m \u001b[38;5;28;01mif\u001b[39;00m s \u001b[38;5;129;01mis\u001b[39;00m \u001b[38;5;28;01mNone\u001b[39;00m:\n\u001b[0;32m   4581\u001b[0m     s \u001b[38;5;241m=\u001b[39m (\u001b[38;5;241m20\u001b[39m \u001b[38;5;28;01mif\u001b[39;00m mpl\u001b[38;5;241m.\u001b[39mrcParams[\u001b[38;5;124m'\u001b[39m\u001b[38;5;124m_internal.classic_mode\u001b[39m\u001b[38;5;124m'\u001b[39m] \u001b[38;5;28;01melse\u001b[39;00m\n\u001b[0;32m   4582\u001b[0m          mpl\u001b[38;5;241m.\u001b[39mrcParams[\u001b[38;5;124m'\u001b[39m\u001b[38;5;124mlines.markersize\u001b[39m\u001b[38;5;124m'\u001b[39m] \u001b[38;5;241m*\u001b[39m\u001b[38;5;241m*\u001b[39m \u001b[38;5;241m2.0\u001b[39m)\n",
      "\u001b[1;31mValueError\u001b[0m: x and y must be the same size"
     ]
    },
    {
     "data": {
      "image/png": "[encoded data removed]",
      "text/plain": [
       "<Figure size 640x480 with 1 Axes>"
      ]
     },
     "metadata": {},
     "output_type": "display_data"
    }
   ],
   "source": [
    "\n",
    "plt.scatter(aapl['Daily Return'],sp500['Daily Return'],alpha=0.3)\n",
    "plt.xlabel(\"Daily Change: Apple\")\n",
    "plt.ylabel(\"Daily Change: SP500\")"
   ]
  },
  {
   "cell_type": "code",
   "execution_count": 270,
   "id": "0d1f86b6",
   "metadata": {},
   "outputs": [
    {
     "data": {
      "text/plain": [
       "2938"
      ]
     },
     "execution_count": 270,
     "metadata": {},
     "output_type": "execute_result"
    }
   ],
   "source": [
    "len(aapl['Daily Return'])"
   ]
  },
  {
   "cell_type": "code",
   "execution_count": 271,
   "id": "34621fe4",
   "metadata": {},
   "outputs": [
    {
     "data": {
      "text/plain": [
       "937"
      ]
     },
     "execution_count": 271,
     "metadata": {},
     "output_type": "execute_result"
    }
   ],
   "source": [
    "len(sp500['Daily Return'])"
   ]
  },
  {
   "cell_type": "code",
   "execution_count": null,
   "id": "3f1d1bce",
   "metadata": {},
   "outputs": [],
   "source": [
    "plt.scatter(amzn['Daily Return'],sp500['Daily Return'],alpha=0.3)\n",
    "plt.xlabel(\"Daily Change: Amazon\")\n",
    "plt.ylabel(\"Daily Change: SP500\")"
   ]
  },
  {
   "cell_type": "code",
   "execution_count": null,
   "id": "711184d8",
   "metadata": {},
   "outputs": [],
   "source": [
    "plt.scatter(ge['Daily Return'],sp500['Daily Return'],alpha=0.3)\n",
    "plt.xlabel(\"Daily Change: GE\")\n",
    "plt.ylabel(\"Daily Change: SP500\")"
   ]
  },
  {
   "cell_type": "markdown",
   "id": "b38dd19e",
   "metadata": {},
   "source": [
    "### Cummulative Returns from Daily Returns\n",
    "\n",
    "Using a bit of clever math, we can see that cummulative returns can be derived from daily returns:"
   ]
  },
  {
   "cell_type": "code",
   "execution_count": null,
   "id": "d86e1c90",
   "metadata": {},
   "outputs": [],
   "source": [
    "aapl"
   ]
  },
  {
   "cell_type": "code",
   "execution_count": null,
   "id": "f3f9fbfb",
   "metadata": {},
   "outputs": [],
   "source": [
    "(1 + aapl['Adj Close'].pct_change(1)).cumprod() - 1"
   ]
  },
  {
   "cell_type": "code",
   "execution_count": null,
   "id": "0a94d27e",
   "metadata": {},
   "outputs": [],
   "source": [
    "ser = (1 + aapl['Adj Close'].pct_change(1)).cumprod() - 1\n",
    "100*ser"
   ]
  },
  {
   "cell_type": "markdown",
   "id": "e135489f",
   "metadata": {},
   "source": [
    "----------------\n",
    "\n",
    "**Now the questions: How can we fairly evaluate performance of an individual stock (or custom portfolio of stocks) against the performance of the \"market\" (typically some benchmark, like the SP500 or Russell 3000)?**\n",
    "\n",
    "------\n",
    "\n",
    "\n",
    "# Capital Asset Pricing Model\n",
    "\"The Capital Asset Pricing Model (CAPM) describes the relationship between systematic risk and expected return for assets, particularly stocks.\" https://www.investopedia.com/terms/c/capm.asp\n",
    "\n",
    "Mathematically it is defined as:\n",
    "$$ ER_i = R_f + \\beta_i*(ER_m-R_f)$$\n",
    "\n",
    "* $R_f$ is the risk free rate (currently 0, see next lecture notebook for details why, \n",
    "* $\\beta$ is the beta of the investment, (Volatility or risk compared to the market (SP500)),\n",
    "* $ER_m$ is the expected return of the market (SP500),\n",
    "* $ER_i$ is the expected return of your investment\n"
   ]
  },
  {
   "cell_type": "markdown",
   "id": "45cbf0e6",
   "metadata": {},
   "source": [
    "To compute $\\beta$ you can fit a linear regression, where x is the market (sp500) and y is the stock of your choice (apple, amazon, ge). \n",
    "Additionally this linear regression returns $\\alpha$ (the intercept) which can be interpreted as the excess return to the market.\n",
    "\n",
    "We use **linregress(x, y)** from scipy.stats to compute the least squares regression"
   ]
  },
  {
   "cell_type": "code",
   "execution_count": null,
   "id": "0745ea2d",
   "metadata": {},
   "outputs": [],
   "source": [
    "from scipy.stats import linregress"
   ]
  },
  {
   "cell_type": "code",
   "execution_count": null,
   "id": "cb667b80",
   "metadata": {},
   "outputs": [],
   "source": [
    "help(linregress)"
   ]
  },
  {
   "cell_type": "markdown",
   "id": "a18455f4",
   "metadata": {},
   "source": [
    "**IMPORTANT NOTE: We can't have NaN data here, make sure to drop it if you still have it in your dataframe, otherwise you will get a warning and NaN values for Alpha and Beta.**"
   ]
  },
  {
   "cell_type": "code",
   "execution_count": null,
   "id": "6795b54d",
   "metadata": {},
   "outputs": [],
   "source": [
    "aapl = aapl.dropna()\n",
    "amzn = amzn.dropna()\n",
    "ge = ge.dropna()\n",
    "sp500 = sp500.dropna()\n",
    "vix = vix.dropna()"
   ]
  },
  {
   "cell_type": "code",
   "execution_count": null,
   "id": "79b054ad",
   "metadata": {},
   "outputs": [],
   "source": [
    "beta_apple, alpha_apple, _, _, _ = linregress(sp500[\"Daily Return\"], aapl[\"Daily Return\"])\n",
    "beta_sp500, alpha_sp500, _, _, _ = linregress(sp500[\"Daily Return\"], sp500[\"Daily Return\"])"
   ]
  },
  {
   "cell_type": "markdown",
   "id": "8d892316",
   "metadata": {},
   "source": [
    "Both, apple and amazon have a small beta and a positive alpha which indicates excess returns"
   ]
  },
  {
   "cell_type": "code",
   "execution_count": null,
   "id": "b841e337",
   "metadata": {},
   "outputs": [],
   "source": [
    "print(f\"beta of Apple: {beta_apple}, Alpha: {alpha_apple}\")"
   ]
  },
  {
   "cell_type": "code",
   "execution_count": null,
   "id": "a6ea2fc6",
   "metadata": {},
   "outputs": [],
   "source": [
    "print(f\"beta of Amazon: {beta_amzn}, Alpha: {alpha_amzn}\")"
   ]
  },
  {
   "cell_type": "markdown",
   "id": "cfb5fdf3",
   "metadata": {},
   "source": [
    "As you can see, GE has a higher beta and a negative alpha. This means that the risk of GE is higher compared to the market AND it yielded less returns than the sp500"
   ]
  },
  {
   "cell_type": "code",
   "execution_count": null,
   "id": "337b306f",
   "metadata": {},
   "outputs": [],
   "source": [
    "print(f\"beta of GE: {beta_ge}, Alpha: {alpha_ge}\")"
   ]
  },
  {
   "cell_type": "markdown",
   "id": "f35e1502",
   "metadata": {},
   "source": [
    "To verify everything, the $\\beta$ of sp500 should be 1 and  $\\alpha$ should be zero"
   ]
  },
  {
   "cell_type": "code",
   "execution_count": null,
   "id": "9cc243a0",
   "metadata": {
    "scrolled": true
   },
   "outputs": [],
   "source": [
    "print(f\"beta of SP500: {beta_sp500}, Alpha: {alpha_sp500}\")"
   ]
  },
  {
   "cell_type": "markdown",
   "id": "3c0be4cf",
   "metadata": {},
   "source": [
    "To deepen our understanding: The volatility index express the volatility of the sp500 and is inverse to the market, thus it should have a negative $\\beta$"
   ]
  },
  {
   "cell_type": "code",
   "execution_count": null,
   "id": "d0f4fec3",
   "metadata": {},
   "outputs": [],
   "source": [
    "beta_vix, alpha_vix, _, _, _ = linregress(sp500[\"Daily Return\"], vix[\"Daily Return\"])"
   ]
  },
  {
   "cell_type": "code",
   "execution_count": null,
   "id": "d24ef986",
   "metadata": {},
   "outputs": [],
   "source": [
    "beta_vix"
   ]
  },
  {
   "cell_type": "code",
   "execution_count": null,
   "id": "30436a51",
   "metadata": {},
   "outputs": [],
   "source": [
    "alpha_vix"
   ]
  },
  {
   "cell_type": "markdown",
   "id": "1443369c",
   "metadata": {},
   "source": [
    "Additionally we can take a look at a leveraged SP500 (SSO): It should have a beta of 2"
   ]
  },
  {
   "cell_type": "code",
   "execution_count": null,
   "id": "44d56676",
   "metadata": {},
   "outputs": [],
   "source": [
    "sp500_leveraged = pd.read_csv(\"sp_leveraged_2010.csv\")  "
   ]
  },
  {
   "cell_type": "code",
   "execution_count": null,
   "id": "771bebae",
   "metadata": {},
   "outputs": [],
   "source": [
    "sp500_leveraged[\"Daily Return\"] = sp500_leveraged[\"Adj Close\"].pct_change(1)\n",
    "sp500_leveraged = sp500_leveraged.dropna()\n"
   ]
  },
  {
   "cell_type": "code",
   "execution_count": null,
   "id": "f44e94f0",
   "metadata": {},
   "outputs": [],
   "source": [
    "beta_sp500_leveraged, alpha_sp500_leveraged, _, _, _ = linregress(sp500[\"Daily Return\"], sp500_leveraged[\"Daily Return\"])"
   ]
  },
  {
   "cell_type": "code",
   "execution_count": null,
   "id": "a32719fd",
   "metadata": {},
   "outputs": [],
   "source": [
    "beta_sp500_leveraged"
   ]
  },
  {
   "cell_type": "code",
   "execution_count": null,
   "id": "412d09d6",
   "metadata": {},
   "outputs": [],
   "source": [
    "alpha_sp500_leveraged # Notice how this is almost zero"
   ]
  },
  {
   "cell_type": "markdown",
   "id": "8bd7d5f5",
   "metadata": {},
   "source": [
    "**Great work! For more information on CAPM, check out: https://en.wikipedia.org/wiki/Capital_asset_pricing_model**"
   ]
  }
 ],
 "metadata": {
  "kernelspec": {
   "display_name": "Python 3 (ipykernel)",
   "language": "python",
   "name": "python3"
  },
  "language_info": {
   "codemirror_mode": {
    "name": "ipython",
    "version": 3
   },
   "file_extension": ".py",
   "mimetype": "text/x-python",
   "name": "python",
   "nbconvert_exporter": "python",
   "pygments_lexer": "ipython3",
   "version": "3.11.5"
  }
 },
 "nbformat": 4,
 "nbformat_minor": 5
}
